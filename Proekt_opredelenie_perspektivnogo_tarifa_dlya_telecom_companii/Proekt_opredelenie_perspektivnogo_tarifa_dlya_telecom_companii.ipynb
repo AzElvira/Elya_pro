{
 "cells": [
  {
   "cell_type": "markdown",
   "metadata": {},
   "source": [
    "# Определение перспективного тарифа для телеком компании"
   ]
  },
  {
   "cell_type": "markdown",
   "metadata": {},
   "source": [
    "**В нашем распоряжении данные 500 пользователей оператора связи «Мегалайн»: кто они, откуда, каким тарифом пользуются, сколько звонков и сообщений каждый отправил за 2018 год. Клиентам предлагают два тарифных плана: «Смарт» и «Ультра», Нужно проанализировать поведение клиентов, необходимо сделать предварительный анализ тарифов на небольшой выборке клиентов и сделать вывод — какой тариф лучше.**"
   ]
  },
  {
   "cell_type": "markdown",
   "metadata": {},
   "source": [
    "*Описание данных:*\n",
    "\n",
    "-Таблица users (информация о пользователях):\n",
    "  - user_id — уникальный идентификатор пользователя\n",
    "  - first_name — имя пользователя\n",
    "  - last_name — фамилия пользователя\n",
    "  - age — возраст пользователя (годы)\n",
    "  - reg_date — дата подключения тарифа (день, месяц, год)\n",
    "  - churn_date — дата прекращения пользования тарифом (если значение пропущено, то тариф ещё действовал на момент выгрузки   данных)\n",
    "  - city — город проживания пользователя\n",
    "  - tariff — название тарифного плана\n",
    "\n",
    "\n",
    "-Таблица calls (информация о звонках):\n",
    "  - id — уникальный номер звонка\n",
    "  - call_date — дата звонка\n",
    "  - duration — длительность звонка в минутах\n",
    "  - user_id — идентификатор пользователя, сделавшего звонок\n",
    "\n",
    "\n",
    "-Таблица messages (информация о сообщениях):\n",
    "  - id — уникальный номер сообщения\n",
    "  - message_date — дата сообщения\n",
    "  - user_id — идентификатор пользователя, отправившего сообщение\n",
    "\n",
    "\n",
    "-Таблица internet (информация об интернет-сессиях):\n",
    "  - id — уникальный номер сессии\n",
    "  - mb_used — объём потраченного за сессию интернет-трафика (в мегабайтах)\n",
    "  - session_date — дата интернет-сессии\n",
    "  - user_id — идентификатор пользователя\n",
    "\n",
    "\n",
    "-Таблица tariffs (информация о тарифах):\n",
    "  - tariff_name — название тарифа\n",
    "  - rub_monthly_fee — ежемесячная абонентская плата в рублях\n",
    "  - minutes_included — количество минут разговора в месяц, включённых в абонентскую плату\n",
    "  - messages_included — количество сообщений в месяц, включённых в абонентскую плату\n",
    "  - mb_per_month_included — объём интернет-трафика, включённого в абонентскую плату (в мегабайтах)\n",
    "  - rub_per_minute — стоимость минуты разговора сверх тарифного пакета (например, если в тарифе 100 минут разговора в месяц, то   - со 101 минуты будет взиматься плата)\n",
    "  - rub_per_message — стоимость отправки сообщения сверх тарифного пакета\n",
    "  - rub_per_gb — стоимость дополнительного гигабайта интернет-трафика сверх тарифного пакета (1 гигабайт = 1024 мегабайта)"
   ]
  },
  {
   "cell_type": "markdown",
   "metadata": {},
   "source": [
    "###  Открытие файла с данными и изучение общей информации. "
   ]
  },
  {
   "cell_type": "code",
   "execution_count": 1,
   "metadata": {},
   "outputs": [],
   "source": [
    "import pandas as pd\n",
    "import matplotlib.pyplot as plt\n",
    "import numpy as np\n",
    "from math import factorial\n",
    "import seaborn as sns\n",
    "from scipy import stats as st\n",
    "users = pd.read_csv('/datasets/users.csv', sep=',')\n",
    "calls = pd.read_csv('/datasets/calls.csv', sep=',')\n",
    "messages = pd.read_csv('/datasets/messages.csv', sep=',')\n",
    "internet = pd.read_csv('/datasets/internet.csv', sep=',')\n",
    "tariffs = pd.read_csv('/datasets/tariffs.csv', sep=',')\n"
   ]
  },
  {
   "cell_type": "markdown",
   "metadata": {},
   "source": [
    "В таблице users (информация о пользователях) выборка из 500 пользователей. В столбце churn_date — дата прекращения пользования тарифом много пропусков которые говорят что тариф ещё действовал на момент выгрузки данных)"
   ]
  },
  {
   "cell_type": "markdown",
   "metadata": {},
   "source": [
    "В Таблице calls (информация о звонках) в глаза бросается в столбце duration — длительность звонка в минутах много нулевых значений,вероятнее всего это очень короткие звонки(возможно обрыв связи во время разговора) и так как тариф считается по минутам необходимо будет округлить нули до 1 минуты. Так же необходимо заменить тип данных в столбце call_date — дата звонка"
   ]
  },
  {
   "cell_type": "markdown",
   "metadata": {},
   "source": [
    "Данные полные, пропусков нет. Аналогично заменим тип данных в датах отправки смс"
   ]
  },
  {
   "cell_type": "markdown",
   "metadata": {},
   "source": [
    "Аналогично заменим тип данных в датах session_date"
   ]
  },
  {
   "cell_type": "code",
   "execution_count": 2,
   "metadata": {
    "scrolled": true
   },
   "outputs": [
    {
     "name": "stdout",
     "output_type": "stream",
     "text": [
      "<class 'pandas.core.frame.DataFrame'>\n",
      "RangeIndex: 2 entries, 0 to 1\n",
      "Data columns (total 8 columns):\n",
      "messages_included        2 non-null int64\n",
      "mb_per_month_included    2 non-null int64\n",
      "minutes_included         2 non-null int64\n",
      "rub_monthly_fee          2 non-null int64\n",
      "rub_per_gb               2 non-null int64\n",
      "rub_per_message          2 non-null int64\n",
      "rub_per_minute           2 non-null int64\n",
      "tariff_name              2 non-null object\n",
      "dtypes: int64(7), object(1)\n",
      "memory usage: 256.0+ bytes\n"
     ]
    },
    {
     "data": {
      "text/html": [
       "<div>\n",
       "<style scoped>\n",
       "    .dataframe tbody tr th:only-of-type {\n",
       "        vertical-align: middle;\n",
       "    }\n",
       "\n",
       "    .dataframe tbody tr th {\n",
       "        vertical-align: top;\n",
       "    }\n",
       "\n",
       "    .dataframe thead th {\n",
       "        text-align: right;\n",
       "    }\n",
       "</style>\n",
       "<table border=\"1\" class=\"dataframe\">\n",
       "  <thead>\n",
       "    <tr style=\"text-align: right;\">\n",
       "      <th></th>\n",
       "      <th>messages_included</th>\n",
       "      <th>mb_per_month_included</th>\n",
       "      <th>minutes_included</th>\n",
       "      <th>rub_monthly_fee</th>\n",
       "      <th>rub_per_gb</th>\n",
       "      <th>rub_per_message</th>\n",
       "      <th>rub_per_minute</th>\n",
       "      <th>tariff_name</th>\n",
       "    </tr>\n",
       "  </thead>\n",
       "  <tbody>\n",
       "    <tr>\n",
       "      <td>0</td>\n",
       "      <td>50</td>\n",
       "      <td>15360</td>\n",
       "      <td>500</td>\n",
       "      <td>550</td>\n",
       "      <td>200</td>\n",
       "      <td>3</td>\n",
       "      <td>3</td>\n",
       "      <td>smart</td>\n",
       "    </tr>\n",
       "    <tr>\n",
       "      <td>1</td>\n",
       "      <td>1000</td>\n",
       "      <td>30720</td>\n",
       "      <td>3000</td>\n",
       "      <td>1950</td>\n",
       "      <td>150</td>\n",
       "      <td>1</td>\n",
       "      <td>1</td>\n",
       "      <td>ultra</td>\n",
       "    </tr>\n",
       "  </tbody>\n",
       "</table>\n",
       "</div>"
      ],
      "text/plain": [
       "   messages_included  mb_per_month_included  minutes_included  \\\n",
       "0                 50                  15360               500   \n",
       "1               1000                  30720              3000   \n",
       "\n",
       "   rub_monthly_fee  rub_per_gb  rub_per_message  rub_per_minute tariff_name  \n",
       "0              550         200                3               3       smart  \n",
       "1             1950         150                1               1       ultra  "
      ]
     },
     "execution_count": 2,
     "metadata": {},
     "output_type": "execute_result"
    }
   ],
   "source": [
    "tariffs.info()\n",
    "tariffs.head(10)"
   ]
  },
  {
   "cell_type": "markdown",
   "metadata": {},
   "source": [
    "### Подготовка данных"
   ]
  },
  {
   "cell_type": "markdown",
   "metadata": {},
   "source": [
    "В каждой из представленных таблиц есть столбец с датой - необходимо заменить тип данных"
   ]
  },
  {
   "cell_type": "code",
   "execution_count": 3,
   "metadata": {},
   "outputs": [],
   "source": [
    "#заменяем тип данных в столбцах даты с objective на временной\n",
    "users['reg_date'] = pd.to_datetime(users['reg_date'], format='%Y-%m-%d')\n",
    "calls['call_date'] = pd.to_datetime(calls['call_date'], format='%Y-%m-%d')\n",
    "messages['message_date'] = pd.to_datetime(messages['message_date'], format='%Y-%m-%d')\n",
    "internet['session_date'] = pd.to_datetime(internet['session_date'], format='%Y-%m-%d')"
   ]
  },
  {
   "cell_type": "markdown",
   "metadata": {},
   "source": [
    "Для дальнейшей работы добавляем столбец с месяцем в таблицы"
   ]
  },
  {
   "cell_type": "code",
   "execution_count": 4,
   "metadata": {},
   "outputs": [],
   "source": [
    "calls['month'] = calls['call_date'].dt.month\n",
    "messages['month'] = messages['message_date'].dt.month\n",
    "internet['month'] = internet['session_date'].dt.month"
   ]
  },
  {
   "cell_type": "code",
   "execution_count": 5,
   "metadata": {},
   "outputs": [],
   "source": [
    "#меняем вещественный тип данных в таблице calls столбце duration — длительность звонка в минутах  на целочисленный \n",
    "calls['duration'] = calls['duration'].apply(np.ceil)"
   ]
  },
  {
   "cell_type": "markdown",
   "metadata": {},
   "source": [
    " в таблице calls столбце duration — длительность звонка в минутах много нулевых значений и это явные ошибки в данных, вероятнее всего это очень короткие звонки, длительность которых измерить не получилось именно из-за их малой продолжительности. То есть по правилам тарифа, такие звонки надо округлять до одной минуты"
   ]
  },
  {
   "cell_type": "code",
   "execution_count": 6,
   "metadata": {},
   "outputs": [],
   "source": [
    "# округлим нулевые данные длительности звонков в большую сторону до 1\n",
    "calls.loc[calls['duration'] == 0, 'duration'] = 1"
   ]
  },
  {
   "cell_type": "code",
   "execution_count": 7,
   "metadata": {},
   "outputs": [],
   "source": [
    "internet['mb_used'] = internet['mb_used'].apply(np.ceil)"
   ]
  },
  {
   "cell_type": "code",
   "execution_count": 8,
   "metadata": {},
   "outputs": [],
   "source": [
    "#аналогично округлению к большему в длительности звонков округляем использованные мегабайты в большую сторону до 1\n",
    "internet.loc[internet['mb_used'] == 0, 'mb_used'] = 1"
   ]
  },
  {
   "cell_type": "code",
   "execution_count": 9,
   "metadata": {},
   "outputs": [
    {
     "data": {
      "text/plain": [
       "1.0    48015\n",
       "2.0     9194\n",
       "3.0    10362\n",
       "4.0    10918\n",
       "5.0    11411\n",
       "Name: duration, dtype: int64"
      ]
     },
     "execution_count": 9,
     "metadata": {},
     "output_type": "execute_result"
    }
   ],
   "source": [
    "# посмотрим количество самых минимальных значений\n",
    "calls['duration'].value_counts().sort_index().head(5)"
   ]
  },
  {
   "cell_type": "markdown",
   "metadata": {},
   "source": [
    "Удалять нулевые звонки - мы потеряем часть наших данных которые повлияют на общий анализ. поэтому звонки нулевой длительности будем округлять до одной минуты. Я это понимаю, как звонки, в которых соединение произошло, но на какое-то совсем ничтожное время, чтобы его замерила мониторинговая система\n",
    "например-если клиент одной компании  звонит клиенту другого оператора и у последнего срабатывает автоответчик, то исходящий звонок тарифицируется. То есть он очень короткий типа 3 секунды или даже меньше, но его округляют до минуты и считают как исходящий."
   ]
  },
  {
   "cell_type": "code",
   "execution_count": 10,
   "metadata": {},
   "outputs": [],
   "source": [
    "calls.loc[calls['duration'] > 1, 'duration'] = calls['duration']+1"
   ]
  },
  {
   "cell_type": "code",
   "execution_count": 11,
   "metadata": {},
   "outputs": [],
   "source": [
    "internet.loc[internet['mb_used'] >1, 'mb_used'] = internet['mb_used']+1"
   ]
  },
  {
   "cell_type": "markdown",
   "metadata": {},
   "source": [
    "### Подготовка пользовательских данных (звонки, смс, объем трафика и т.д.)"
   ]
  },
  {
   "cell_type": "markdown",
   "metadata": {},
   "source": [
    "Создадим новую таблицу в которую занесем данные для каждого пользователя:\n",
    "    колличество и длительность произведенных звонков\n",
    "    колличество отправленных сообщений\n",
    "    объем использованных МБ интернета"
   ]
  },
  {
   "cell_type": "code",
   "execution_count": 12,
   "metadata": {},
   "outputs": [],
   "source": [
    "#группируем новую таблицу из таблицы звонков\n",
    "new_calls = calls.groupby(['user_id', 'month'])['duration'].agg(['count', 'sum'])"
   ]
  },
  {
   "cell_type": "code",
   "execution_count": 13,
   "metadata": {},
   "outputs": [],
   "source": [
    "#аналогично по таблице сообщений\n",
    "new_messages = messages.groupby(['user_id', 'month'])['id'].count()"
   ]
  },
  {
   "cell_type": "code",
   "execution_count": 14,
   "metadata": {},
   "outputs": [],
   "source": [
    "#аналогично по таблице интернета\n",
    "new_internet = internet.groupby(['user_id', 'month']).sum()['mb_used']"
   ]
  },
  {
   "cell_type": "markdown",
   "metadata": {},
   "source": [
    "Мы взяли из каждой таблицы необходимую информацию и формируем новую таблицу с нужными нам данными"
   ]
  },
  {
   "cell_type": "code",
   "execution_count": 15,
   "metadata": {},
   "outputs": [
    {
     "data": {
      "text/html": [
       "<div>\n",
       "<style scoped>\n",
       "    .dataframe tbody tr th:only-of-type {\n",
       "        vertical-align: middle;\n",
       "    }\n",
       "\n",
       "    .dataframe tbody tr th {\n",
       "        vertical-align: top;\n",
       "    }\n",
       "\n",
       "    .dataframe thead th {\n",
       "        text-align: right;\n",
       "    }\n",
       "</style>\n",
       "<table border=\"1\" class=\"dataframe\">\n",
       "  <thead>\n",
       "    <tr style=\"text-align: right;\">\n",
       "      <th></th>\n",
       "      <th>user_id</th>\n",
       "      <th>month</th>\n",
       "      <th>count</th>\n",
       "      <th>sum</th>\n",
       "      <th>id</th>\n",
       "      <th>mb_used</th>\n",
       "    </tr>\n",
       "  </thead>\n",
       "  <tbody>\n",
       "    <tr>\n",
       "      <td>0</td>\n",
       "      <td>1000</td>\n",
       "      <td>5</td>\n",
       "      <td>22.0</td>\n",
       "      <td>180.0</td>\n",
       "      <td>22.0</td>\n",
       "      <td>2261.0</td>\n",
       "    </tr>\n",
       "    <tr>\n",
       "      <td>1</td>\n",
       "      <td>1000</td>\n",
       "      <td>6</td>\n",
       "      <td>43.0</td>\n",
       "      <td>214.0</td>\n",
       "      <td>60.0</td>\n",
       "      <td>23306.0</td>\n",
       "    </tr>\n",
       "    <tr>\n",
       "      <td>2</td>\n",
       "      <td>1000</td>\n",
       "      <td>7</td>\n",
       "      <td>47.0</td>\n",
       "      <td>385.0</td>\n",
       "      <td>75.0</td>\n",
       "      <td>14045.0</td>\n",
       "    </tr>\n",
       "    <tr>\n",
       "      <td>3</td>\n",
       "      <td>1000</td>\n",
       "      <td>8</td>\n",
       "      <td>52.0</td>\n",
       "      <td>459.0</td>\n",
       "      <td>81.0</td>\n",
       "      <td>14099.0</td>\n",
       "    </tr>\n",
       "    <tr>\n",
       "      <td>4</td>\n",
       "      <td>1000</td>\n",
       "      <td>9</td>\n",
       "      <td>58.0</td>\n",
       "      <td>521.0</td>\n",
       "      <td>57.0</td>\n",
       "      <td>14608.0</td>\n",
       "    </tr>\n",
       "    <tr>\n",
       "      <td>5</td>\n",
       "      <td>1000</td>\n",
       "      <td>10</td>\n",
       "      <td>57.0</td>\n",
       "      <td>403.0</td>\n",
       "      <td>73.0</td>\n",
       "      <td>14744.0</td>\n",
       "    </tr>\n",
       "    <tr>\n",
       "      <td>6</td>\n",
       "      <td>1000</td>\n",
       "      <td>11</td>\n",
       "      <td>43.0</td>\n",
       "      <td>381.0</td>\n",
       "      <td>58.0</td>\n",
       "      <td>14792.0</td>\n",
       "    </tr>\n",
       "    <tr>\n",
       "      <td>7</td>\n",
       "      <td>1000</td>\n",
       "      <td>12</td>\n",
       "      <td>46.0</td>\n",
       "      <td>378.0</td>\n",
       "      <td>70.0</td>\n",
       "      <td>9848.0</td>\n",
       "    </tr>\n",
       "    <tr>\n",
       "      <td>8</td>\n",
       "      <td>1001</td>\n",
       "      <td>11</td>\n",
       "      <td>59.0</td>\n",
       "      <td>488.0</td>\n",
       "      <td>NaN</td>\n",
       "      <td>18507.0</td>\n",
       "    </tr>\n",
       "    <tr>\n",
       "      <td>9</td>\n",
       "      <td>1001</td>\n",
       "      <td>12</td>\n",
       "      <td>63.0</td>\n",
       "      <td>473.0</td>\n",
       "      <td>NaN</td>\n",
       "      <td>14094.0</td>\n",
       "    </tr>\n",
       "  </tbody>\n",
       "</table>\n",
       "</div>"
      ],
      "text/plain": [
       "   user_id  month  count    sum    id  mb_used\n",
       "0     1000      5   22.0  180.0  22.0   2261.0\n",
       "1     1000      6   43.0  214.0  60.0  23306.0\n",
       "2     1000      7   47.0  385.0  75.0  14045.0\n",
       "3     1000      8   52.0  459.0  81.0  14099.0\n",
       "4     1000      9   58.0  521.0  57.0  14608.0\n",
       "5     1000     10   57.0  403.0  73.0  14744.0\n",
       "6     1000     11   43.0  381.0  58.0  14792.0\n",
       "7     1000     12   46.0  378.0  70.0   9848.0\n",
       "8     1001     11   59.0  488.0   NaN  18507.0\n",
       "9     1001     12   63.0  473.0   NaN  14094.0"
      ]
     },
     "execution_count": 15,
     "metadata": {},
     "output_type": "execute_result"
    }
   ],
   "source": [
    "# для нашего анализа данных формируем новую таблицу из сгруппированных выше\n",
    "df = pd.concat([new_calls, new_messages, new_internet], axis=1)\n",
    "df = df.reset_index()\n",
    "df.head(10)"
   ]
  },
  {
   "cell_type": "code",
   "execution_count": 16,
   "metadata": {},
   "outputs": [
    {
     "data": {
      "text/html": [
       "<div>\n",
       "<style scoped>\n",
       "    .dataframe tbody tr th:only-of-type {\n",
       "        vertical-align: middle;\n",
       "    }\n",
       "\n",
       "    .dataframe tbody tr th {\n",
       "        vertical-align: top;\n",
       "    }\n",
       "\n",
       "    .dataframe thead th {\n",
       "        text-align: right;\n",
       "    }\n",
       "</style>\n",
       "<table border=\"1\" class=\"dataframe\">\n",
       "  <thead>\n",
       "    <tr style=\"text-align: right;\">\n",
       "      <th></th>\n",
       "      <th>user_id</th>\n",
       "      <th>month</th>\n",
       "      <th>calls_count</th>\n",
       "      <th>calls_len</th>\n",
       "      <th>messages</th>\n",
       "      <th>internet_mb</th>\n",
       "    </tr>\n",
       "  </thead>\n",
       "  <tbody>\n",
       "    <tr>\n",
       "      <td>0</td>\n",
       "      <td>1000</td>\n",
       "      <td>5</td>\n",
       "      <td>22.0</td>\n",
       "      <td>180.0</td>\n",
       "      <td>22.0</td>\n",
       "      <td>2261.0</td>\n",
       "    </tr>\n",
       "    <tr>\n",
       "      <td>1</td>\n",
       "      <td>1000</td>\n",
       "      <td>6</td>\n",
       "      <td>43.0</td>\n",
       "      <td>214.0</td>\n",
       "      <td>60.0</td>\n",
       "      <td>23306.0</td>\n",
       "    </tr>\n",
       "    <tr>\n",
       "      <td>2</td>\n",
       "      <td>1000</td>\n",
       "      <td>7</td>\n",
       "      <td>47.0</td>\n",
       "      <td>385.0</td>\n",
       "      <td>75.0</td>\n",
       "      <td>14045.0</td>\n",
       "    </tr>\n",
       "    <tr>\n",
       "      <td>3</td>\n",
       "      <td>1000</td>\n",
       "      <td>8</td>\n",
       "      <td>52.0</td>\n",
       "      <td>459.0</td>\n",
       "      <td>81.0</td>\n",
       "      <td>14099.0</td>\n",
       "    </tr>\n",
       "    <tr>\n",
       "      <td>4</td>\n",
       "      <td>1000</td>\n",
       "      <td>9</td>\n",
       "      <td>58.0</td>\n",
       "      <td>521.0</td>\n",
       "      <td>57.0</td>\n",
       "      <td>14608.0</td>\n",
       "    </tr>\n",
       "    <tr>\n",
       "      <td>5</td>\n",
       "      <td>1000</td>\n",
       "      <td>10</td>\n",
       "      <td>57.0</td>\n",
       "      <td>403.0</td>\n",
       "      <td>73.0</td>\n",
       "      <td>14744.0</td>\n",
       "    </tr>\n",
       "    <tr>\n",
       "      <td>6</td>\n",
       "      <td>1000</td>\n",
       "      <td>11</td>\n",
       "      <td>43.0</td>\n",
       "      <td>381.0</td>\n",
       "      <td>58.0</td>\n",
       "      <td>14792.0</td>\n",
       "    </tr>\n",
       "    <tr>\n",
       "      <td>7</td>\n",
       "      <td>1000</td>\n",
       "      <td>12</td>\n",
       "      <td>46.0</td>\n",
       "      <td>378.0</td>\n",
       "      <td>70.0</td>\n",
       "      <td>9848.0</td>\n",
       "    </tr>\n",
       "    <tr>\n",
       "      <td>8</td>\n",
       "      <td>1001</td>\n",
       "      <td>11</td>\n",
       "      <td>59.0</td>\n",
       "      <td>488.0</td>\n",
       "      <td>NaN</td>\n",
       "      <td>18507.0</td>\n",
       "    </tr>\n",
       "    <tr>\n",
       "      <td>9</td>\n",
       "      <td>1001</td>\n",
       "      <td>12</td>\n",
       "      <td>63.0</td>\n",
       "      <td>473.0</td>\n",
       "      <td>NaN</td>\n",
       "      <td>14094.0</td>\n",
       "    </tr>\n",
       "  </tbody>\n",
       "</table>\n",
       "</div>"
      ],
      "text/plain": [
       "   user_id  month  calls_count  calls_len  messages  internet_mb\n",
       "0     1000      5         22.0      180.0      22.0       2261.0\n",
       "1     1000      6         43.0      214.0      60.0      23306.0\n",
       "2     1000      7         47.0      385.0      75.0      14045.0\n",
       "3     1000      8         52.0      459.0      81.0      14099.0\n",
       "4     1000      9         58.0      521.0      57.0      14608.0\n",
       "5     1000     10         57.0      403.0      73.0      14744.0\n",
       "6     1000     11         43.0      381.0      58.0      14792.0\n",
       "7     1000     12         46.0      378.0      70.0       9848.0\n",
       "8     1001     11         59.0      488.0       NaN      18507.0\n",
       "9     1001     12         63.0      473.0       NaN      14094.0"
      ]
     },
     "execution_count": 16,
     "metadata": {},
     "output_type": "execute_result"
    }
   ],
   "source": [
    "#для лучшего восприятия переименуем столбцы\n",
    "df.columns = ['user_id', 'month', 'calls_count', 'calls_len', 'messages', 'internet_mb']\n",
    "df.head(10)"
   ]
  },
  {
   "cell_type": "code",
   "execution_count": 17,
   "metadata": {
    "scrolled": true
   },
   "outputs": [
    {
     "name": "stdout",
     "output_type": "stream",
     "text": [
      "<class 'pandas.core.frame.DataFrame'>\n",
      "RangeIndex: 3214 entries, 0 to 3213\n",
      "Data columns (total 6 columns):\n",
      "user_id        3214 non-null int64\n",
      "month          3214 non-null int64\n",
      "calls_count    3174 non-null float64\n",
      "calls_len      3174 non-null float64\n",
      "messages       2717 non-null float64\n",
      "internet_mb    3203 non-null float64\n",
      "dtypes: float64(4), int64(2)\n",
      "memory usage: 150.8 KB\n"
     ]
    }
   ],
   "source": [
    "df.info()"
   ]
  },
  {
   "cell_type": "markdown",
   "metadata": {},
   "source": [
    "В новой таблице видны пропуски в столбцах звонки количество и длительность а также в столбце использования смс и интернета. \n",
    "Можем предположить что некоторые пользователи не пользуются отправкой сообщений, что понятно-многие перешли в мессенджеры.\n",
    "Естьь пользователи которые не совершали в этот период звонков и не пользовались мобильным интернетом."
   ]
  },
  {
   "cell_type": "code",
   "execution_count": 18,
   "metadata": {},
   "outputs": [
    {
     "data": {
      "text/html": [
       "<div>\n",
       "<style scoped>\n",
       "    .dataframe tbody tr th:only-of-type {\n",
       "        vertical-align: middle;\n",
       "    }\n",
       "\n",
       "    .dataframe tbody tr th {\n",
       "        vertical-align: top;\n",
       "    }\n",
       "\n",
       "    .dataframe thead th {\n",
       "        text-align: right;\n",
       "    }\n",
       "</style>\n",
       "<table border=\"1\" class=\"dataframe\">\n",
       "  <thead>\n",
       "    <tr style=\"text-align: right;\">\n",
       "      <th></th>\n",
       "      <th>user_id</th>\n",
       "      <th>month</th>\n",
       "      <th>calls_count</th>\n",
       "      <th>calls_len</th>\n",
       "      <th>messages</th>\n",
       "      <th>internet_mb</th>\n",
       "    </tr>\n",
       "  </thead>\n",
       "  <tbody>\n",
       "  </tbody>\n",
       "</table>\n",
       "</div>"
      ],
      "text/plain": [
       "Empty DataFrame\n",
       "Columns: [user_id, month, calls_count, calls_len, messages, internet_mb]\n",
       "Index: []"
      ]
     },
     "execution_count": 18,
     "metadata": {},
     "output_type": "execute_result"
    }
   ],
   "source": [
    "df[(df['calls_count'].isnull()) & (df['internet_mb'].isnull()) & df['messages'].isnull()]"
   ]
  },
  {
   "cell_type": "markdown",
   "metadata": {},
   "source": [
    "пользователей которые ни разу не совершали звонков, не отправляли сообщения а также не пользовались мобильным интернетом у нас нет, значит в каойто период они просто не пользовались какойто из услуг"
   ]
  },
  {
   "cell_type": "code",
   "execution_count": 19,
   "metadata": {},
   "outputs": [],
   "source": [
    "#заменим пропуски нулями- значит в это время абонент не пользовался данной услугой\n",
    "df=df.fillna(0)"
   ]
  },
  {
   "cell_type": "code",
   "execution_count": 20,
   "metadata": {
    "scrolled": true
   },
   "outputs": [
    {
     "name": "stdout",
     "output_type": "stream",
     "text": [
      "<class 'pandas.core.frame.DataFrame'>\n",
      "RangeIndex: 3214 entries, 0 to 3213\n",
      "Data columns (total 6 columns):\n",
      "user_id        3214 non-null int64\n",
      "month          3214 non-null int64\n",
      "calls_count    3214 non-null float64\n",
      "calls_len      3214 non-null float64\n",
      "messages       3214 non-null float64\n",
      "internet_mb    3214 non-null float64\n",
      "dtypes: float64(4), int64(2)\n",
      "memory usage: 150.8 KB\n"
     ]
    }
   ],
   "source": [
    "df.info()"
   ]
  },
  {
   "cell_type": "markdown",
   "metadata": {},
   "source": [
    "Добавим в нашу таблицу столбцы с тарифом и городом"
   ]
  },
  {
   "cell_type": "code",
   "execution_count": 21,
   "metadata": {},
   "outputs": [],
   "source": [
    "new_tariff = dict(pd.Series(users['tariff'].values, index=users['user_id']))\n",
    "df['tariffs'] = df['user_id'].map(new_tariff)"
   ]
  },
  {
   "cell_type": "code",
   "execution_count": 22,
   "metadata": {},
   "outputs": [],
   "source": [
    "new_city = dict(pd.Series(users['city'].values, index=users['user_id']))\n",
    "df['city'] = df['user_id'].map(new_city)"
   ]
  },
  {
   "cell_type": "markdown",
   "metadata": {},
   "source": [
    "в таблице имеются следующие данные для каждого пользователя:\n",
    "\n",
    "количество сделанных звонков и израсходованных минут разговора по месяцам;\n",
    "\n",
    "количество отправленных сообщений по месяцам;\n",
    "\n",
    "объем израсходованного интернет-трафика по месяцам;"
   ]
  },
  {
   "cell_type": "markdown",
   "metadata": {},
   "source": [
    " рассчитаем насколько превышены лимиты по звонкам, сообщениям, интернету"
   ]
  },
  {
   "cell_type": "code",
   "execution_count": 23,
   "metadata": {},
   "outputs": [],
   "source": [
    "def extra_calls(row):\n",
    "    if row['tariffs'] == 'smart':\n",
    "        result = row['calls_len']-tariffs.loc[0, 'minutes_included']\n",
    "        return np.where(result > 0, result, 0)\n",
    "    else:\n",
    "        result = row['calls_len']-tariffs.loc[1, 'minutes_included']\n",
    "        return np.where(result > 0, result, 0)"
   ]
  },
  {
   "cell_type": "code",
   "execution_count": 24,
   "metadata": {},
   "outputs": [],
   "source": [
    "# создаем столбец в таблице для превышающих лимит звонков\n",
    "df['calls_extra'] = df.apply(extra_calls, axis=1)\n",
    "df['calls_extra'] = df['calls_extra'].astype('int')"
   ]
  },
  {
   "cell_type": "code",
   "execution_count": 25,
   "metadata": {},
   "outputs": [],
   "source": [
    "def extra_messages(row):\n",
    "    if row['tariffs'] == 'smart':\n",
    "        result = row['messages']-tariffs.loc[0, 'messages_included']\n",
    "        return np.where(result > 0, result, 0)\n",
    "    else:\n",
    "        result = row['messages']-tariffs.loc[1, 'messages_included']\n",
    "        return np.where(result > 0, result, 0)"
   ]
  },
  {
   "cell_type": "code",
   "execution_count": 26,
   "metadata": {},
   "outputs": [],
   "source": [
    "# создаем столбец в таблице для превышающих лимит сообщений\n",
    "df['messages_extra'] = df.apply(extra_messages, axis=1)\n",
    "df['messages_extra'] = df['messages_extra'].astype('int')"
   ]
  },
  {
   "cell_type": "code",
   "execution_count": 27,
   "metadata": {},
   "outputs": [],
   "source": [
    "def extra_internet(row):\n",
    "    if row['tariffs'] == 'smart':\n",
    "        result = row['internet_mb']-tariffs.loc[0, 'mb_per_month_included']\n",
    "        return np.where(result > 0, result, 0)\n",
    "    else:\n",
    "        result = row['internet_mb']-tariffs.loc[1, 'mb_per_month_included']\n",
    "        return np.where(result > 0, result, 0)"
   ]
  },
  {
   "cell_type": "code",
   "execution_count": 28,
   "metadata": {},
   "outputs": [],
   "source": [
    "# создаем столбец в таблице для превышающих лимит мб интернета\n",
    "df['internet_extra'] = df.apply(extra_internet, axis=1)\n",
    "df['internet_extra'] = df['internet_extra'].apply(np.ceil)"
   ]
  },
  {
   "cell_type": "markdown",
   "metadata": {},
   "source": [
    "Создаем в нашей таблице столбец с абонентской платой за месяц, чтоб найти сумму потраченных средств каждым пользователем"
   ]
  },
  {
   "cell_type": "code",
   "execution_count": 29,
   "metadata": {},
   "outputs": [],
   "source": [
    "#столбец с абонентской платой\n",
    "tariff_for_munth = {'smart': 550, 'ultra': 1950}\n",
    "df['price_month'] = df['tariffs'].map(tariff_for_munth)"
   ]
  },
  {
   "cell_type": "code",
   "execution_count": 30,
   "metadata": {},
   "outputs": [],
   "source": [
    "def extra_month(row):\n",
    "    sum_for_month=0\n",
    "    if row['tariffs'] == 'smart':\n",
    "        sum_for_month += row['calls_extra']*tariffs.loc[0, 'rub_per_minute']\n",
    "        sum_for_month += row['messages_extra']*tariffs.loc[0, 'rub_per_message']\n",
    "        sum_for_month += row['internet_extra']/1024*tariffs.loc[0, 'rub_per_gb']\n",
    "        return sum_for_month \n",
    "    else:\n",
    "        sum_for_month += row['calls_extra']*tariffs.loc[1, 'rub_per_minute']\n",
    "        sum_for_month += row['messages_extra']*tariffs.loc[1, 'rub_per_message']\n",
    "        sum_for_month += row['internet_extra']/1024*tariffs.loc[1, 'rub_per_gb']\n",
    "        return sum_for_month"
   ]
  },
  {
   "cell_type": "code",
   "execution_count": 31,
   "metadata": {},
   "outputs": [],
   "source": [
    "# создаем столбец в таблице для суммы оплаты превышающих лимит\n",
    "df['pay_extra'] = df.apply(extra_month, axis=1)"
   ]
  },
  {
   "cell_type": "code",
   "execution_count": 32,
   "metadata": {},
   "outputs": [],
   "source": [
    "df['pay_extra'] = df.groupby('internet_extra')['pay_extra'].apply(np.ceil)"
   ]
  },
  {
   "cell_type": "markdown",
   "metadata": {},
   "source": [
    "чтобы найти общую сумму потраченных за месяц средств просуммируем абон плату и сверх переплаты"
   ]
  },
  {
   "cell_type": "code",
   "execution_count": 33,
   "metadata": {},
   "outputs": [],
   "source": [
    "df['all_pay'] = df['price_month'] + df['pay_extra']"
   ]
  },
  {
   "cell_type": "markdown",
   "metadata": {},
   "source": [
    "### Анализ пользовательских данных"
   ]
  },
  {
   "cell_type": "markdown",
   "metadata": {},
   "source": [
    "На этом этапе рассмотрим Сколько минут разговора, сколько сообщений и какой объём интернет-трафика требуется пользователям каждого тарифа в месяц. Рассчитаем среднее количество, дисперсию и стандартное отклонение"
   ]
  },
  {
   "cell_type": "markdown",
   "metadata": {},
   "source": [
    "Построим диаграмму размаха для каждого из тарифов, В размах «усов» попадают нормальные значения, а за пределами находятся выбросы- их мы отсечем"
   ]
  },
  {
   "cell_type": "code",
   "execution_count": 34,
   "metadata": {},
   "outputs": [
    {
     "name": "stdout",
     "output_type": "stream",
     "text": [
      "calls_len\n"
     ]
    },
    {
     "data": {
      "image/png": "[encoded data removed]",
      "text/plain": [
       "<Figure size 432x288 with 1 Axes>"
      ]
     },
     "metadata": {
      "needs_background": "light"
     },
     "output_type": "display_data"
    },
    {
     "name": "stdout",
     "output_type": "stream",
     "text": [
      "None\n",
      "internet_mb\n"
     ]
    },
    {
     "data": {
      "image/png": "[encoded data removed]",
      "text/plain": [
       "<Figure size 432x288 with 1 Axes>"
      ]
     },
     "metadata": {
      "needs_background": "light"
     },
     "output_type": "display_data"
    },
    {
     "name": "stdout",
     "output_type": "stream",
     "text": [
      "None\n",
      "messages\n"
     ]
    },
    {
     "data": {
      "image/png": "[encoded data removed]",
      "text/plain": [
       "<Figure size 432x288 with 1 Axes>"
      ]
     },
     "metadata": {
      "needs_background": "light"
     },
     "output_type": "display_data"
    },
    {
     "name": "stdout",
     "output_type": "stream",
     "text": [
      "None\n"
     ]
    }
   ],
   "source": [
    "list = ['calls_len', 'internet_mb', 'messages']  # создаем список\n",
    "for item in list:\n",
    "    def analyze(item):\n",
    "              print (item)\n",
    "              percentile_95 = np.percentile(df.query('tariffs == \"smart\"')[item], 95)\n",
    "             \n",
    "              \n",
    "              plt.ylim(0, percentile_95*1.5)\n",
    "              df.query('tariffs == \"smart\"').boxplot(column = item)\n",
    "              plt.show()\n",
    "              df.query('tariffs == \"smart\"')[item].describe()\n",
    "    print(analyze(item))"
   ]
  },
  {
   "cell_type": "markdown",
   "metadata": {},
   "source": [
    "По диаграмме видно, что телефонные звонки продолжительностью более 1100 минут для нас неинформативны, их отбрасываем. Аналогично поступаем с СМС количество которых превышает 110, а так же использование мобильного интернета более 32000 МБ, то что меньше 2000 оставим-поскольку предполагаем что тариф используют разного рода и профессий люди-есть те кто использует его по минимуму"
   ]
  },
  {
   "cell_type": "markdown",
   "metadata": {},
   "source": [
    "Аналогично строим диаграмму для тарифного плана УЛЬТРА"
   ]
  },
  {
   "cell_type": "code",
   "execution_count": 35,
   "metadata": {},
   "outputs": [
    {
     "name": "stdout",
     "output_type": "stream",
     "text": [
      "calls_len\n"
     ]
    },
    {
     "data": {
      "image/png": "[encoded data removed]",
      "text/plain": [
       "<Figure size 432x288 with 1 Axes>"
      ]
     },
     "metadata": {
      "needs_background": "light"
     },
     "output_type": "display_data"
    },
    {
     "name": "stdout",
     "output_type": "stream",
     "text": [
      "None\n",
      "internet_mb\n"
     ]
    },
    {
     "data": {
      "image/png": "[encoded data removed]",
      "text/plain": [
       "<Figure size 432x288 with 1 Axes>"
      ]
     },
     "metadata": {
      "needs_background": "light"
     },
     "output_type": "display_data"
    },
    {
     "name": "stdout",
     "output_type": "stream",
     "text": [
      "None\n",
      "messages\n"
     ]
    },
    {
     "data": {
      "image/png": "[encoded data removed]",
      "text/plain": [
       "<Figure size 432x288 with 1 Axes>"
      ]
     },
     "metadata": {
      "needs_background": "light"
     },
     "output_type": "display_data"
    },
    {
     "name": "stdout",
     "output_type": "stream",
     "text": [
      "None\n"
     ]
    }
   ],
   "source": [
    "list = ['calls_len', 'internet_mb', 'messages']  # создаем список\n",
    "for item in list:\n",
    "    def analyze(item):\n",
    "              print (item)\n",
    "              percentile_95 = np.percentile(df.query('tariffs == \"ultra\"')[item], 95)\n",
    "             \n",
    "              \n",
    "              plt.ylim(0, percentile_95*1.5)\n",
    "              df.query('tariffs == \"ultra\"').boxplot(column = item)\n",
    "              plt.show()\n",
    "              df.query('tariffs == \"ultra\"')[item].describe()\n",
    "    print(analyze(item))"
   ]
  },
  {
   "cell_type": "markdown",
   "metadata": {},
   "source": [
    "С тарифом УЛЬТРА ситуация немного иная- отбрасываем звонки продолжительностью свыше 1600 минут, СМС количество которых превышает 185, а также интернет свыше 48000 МБ"
   ]
  },
  {
   "cell_type": "markdown",
   "metadata": {},
   "source": [
    "Создаем столбцы со слишком длинными разговорами, большим количеством смс а также превышением трафика интернета"
   ]
  },
  {
   "cell_type": "code",
   "execution_count": 36,
   "metadata": {},
   "outputs": [],
   "source": [
    "df['too_call'] = ((df['tariffs']=='smart') & (df['calls_len'] > 1100) | (df['tariffs']=='ultra') & (df['calls_len'] > 1600))\n",
    "df['too_sms'] = ((df['tariffs']=='smart') & (df['messages'] > 110) | (df['tariffs']=='ultra') & (df['messages'] > 185))\n",
    "df['too_inet'] = ((df['tariffs']=='smart') & (df['internet_mb'] > 32000) | (df['tariffs']=='ultra') & (df['internet_mb'] > 48000))    "
   ]
  },
  {
   "cell_type": "markdown",
   "metadata": {},
   "source": [
    "Создаем новый датафрейм -чистый от аномальных значений"
   ]
  },
  {
   "cell_type": "code",
   "execution_count": 37,
   "metadata": {},
   "outputs": [],
   "source": [
    "data = df[(df['too_call'] == False) & (df['too_sms'] == False) & (df['too_inet'] == False)].reset_index(drop=True)"
   ]
  },
  {
   "cell_type": "code",
   "execution_count": 38,
   "metadata": {},
   "outputs": [
    {
     "data": {
      "text/html": [
       "<div>\n",
       "<style scoped>\n",
       "    .dataframe tbody tr th:only-of-type {\n",
       "        vertical-align: middle;\n",
       "    }\n",
       "\n",
       "    .dataframe tbody tr th {\n",
       "        vertical-align: top;\n",
       "    }\n",
       "\n",
       "    .dataframe thead th {\n",
       "        text-align: right;\n",
       "    }\n",
       "</style>\n",
       "<table border=\"1\" class=\"dataframe\">\n",
       "  <thead>\n",
       "    <tr style=\"text-align: right;\">\n",
       "      <th></th>\n",
       "      <th>user_id</th>\n",
       "      <th>month</th>\n",
       "      <th>calls_count</th>\n",
       "      <th>calls_len</th>\n",
       "      <th>messages</th>\n",
       "      <th>internet_mb</th>\n",
       "      <th>calls_extra</th>\n",
       "      <th>messages_extra</th>\n",
       "      <th>price_month</th>\n",
       "      <th>pay_extra</th>\n",
       "      <th>all_pay</th>\n",
       "    </tr>\n",
       "  </thead>\n",
       "  <tbody>\n",
       "    <tr>\n",
       "      <td>count</td>\n",
       "      <td>3167.000000</td>\n",
       "      <td>3167.000000</td>\n",
       "      <td>3167.000000</td>\n",
       "      <td>3167.000000</td>\n",
       "      <td>3167.000000</td>\n",
       "      <td>3167.000000</td>\n",
       "      <td>3167.000000</td>\n",
       "      <td>3167.000000</td>\n",
       "      <td>3167.000000</td>\n",
       "      <td>3167.000000</td>\n",
       "      <td>3167.000000</td>\n",
       "    </tr>\n",
       "    <tr>\n",
       "      <td>mean</td>\n",
       "      <td>1251.495106</td>\n",
       "      <td>8.294916</td>\n",
       "      <td>62.615725</td>\n",
       "      <td>508.099463</td>\n",
       "      <td>37.331228</td>\n",
       "      <td>17153.791601</td>\n",
       "      <td>48.566467</td>\n",
       "      <td>3.616040</td>\n",
       "      <td>979.681086</td>\n",
       "      <td>554.925166</td>\n",
       "      <td>1534.606252</td>\n",
       "    </tr>\n",
       "    <tr>\n",
       "      <td>std</td>\n",
       "      <td>145.029846</td>\n",
       "      <td>2.908075</td>\n",
       "      <td>32.695301</td>\n",
       "      <td>268.592862</td>\n",
       "      <td>34.611103</td>\n",
       "      <td>7466.689371</td>\n",
       "      <td>96.690903</td>\n",
       "      <td>10.210097</td>\n",
       "      <td>645.801342</td>\n",
       "      <td>738.348622</td>\n",
       "      <td>758.117672</td>\n",
       "    </tr>\n",
       "    <tr>\n",
       "      <td>min</td>\n",
       "      <td>1000.000000</td>\n",
       "      <td>1.000000</td>\n",
       "      <td>0.000000</td>\n",
       "      <td>0.000000</td>\n",
       "      <td>0.000000</td>\n",
       "      <td>0.000000</td>\n",
       "      <td>0.000000</td>\n",
       "      <td>0.000000</td>\n",
       "      <td>550.000000</td>\n",
       "      <td>0.000000</td>\n",
       "      <td>550.000000</td>\n",
       "    </tr>\n",
       "    <tr>\n",
       "      <td>25%</td>\n",
       "      <td>1123.000000</td>\n",
       "      <td>6.000000</td>\n",
       "      <td>40.000000</td>\n",
       "      <td>319.000000</td>\n",
       "      <td>9.000000</td>\n",
       "      <td>12504.500000</td>\n",
       "      <td>0.000000</td>\n",
       "      <td>0.000000</td>\n",
       "      <td>550.000000</td>\n",
       "      <td>0.000000</td>\n",
       "      <td>795.500000</td>\n",
       "    </tr>\n",
       "    <tr>\n",
       "      <td>50%</td>\n",
       "      <td>1253.000000</td>\n",
       "      <td>9.000000</td>\n",
       "      <td>62.000000</td>\n",
       "      <td>501.000000</td>\n",
       "      <td>30.000000</td>\n",
       "      <td>16940.000000</td>\n",
       "      <td>0.000000</td>\n",
       "      <td>0.000000</td>\n",
       "      <td>550.000000</td>\n",
       "      <td>174.000000</td>\n",
       "      <td>1684.000000</td>\n",
       "    </tr>\n",
       "    <tr>\n",
       "      <td>75%</td>\n",
       "      <td>1380.000000</td>\n",
       "      <td>11.000000</td>\n",
       "      <td>82.000000</td>\n",
       "      <td>665.000000</td>\n",
       "      <td>56.000000</td>\n",
       "      <td>21397.000000</td>\n",
       "      <td>52.000000</td>\n",
       "      <td>0.000000</td>\n",
       "      <td>1950.000000</td>\n",
       "      <td>927.500000</td>\n",
       "      <td>1950.000000</td>\n",
       "    </tr>\n",
       "    <tr>\n",
       "      <td>max</td>\n",
       "      <td>1499.000000</td>\n",
       "      <td>12.000000</td>\n",
       "      <td>196.000000</td>\n",
       "      <td>1580.000000</td>\n",
       "      <td>185.000000</td>\n",
       "      <td>45305.000000</td>\n",
       "      <td>585.000000</td>\n",
       "      <td>60.000000</td>\n",
       "      <td>1950.000000</td>\n",
       "      <td>4078.000000</td>\n",
       "      <td>4628.000000</td>\n",
       "    </tr>\n",
       "  </tbody>\n",
       "</table>\n",
       "</div>"
      ],
      "text/plain": [
       "           user_id        month  calls_count    calls_len     messages  \\\n",
       "count  3167.000000  3167.000000  3167.000000  3167.000000  3167.000000   \n",
       "mean   1251.495106     8.294916    62.615725   508.099463    37.331228   \n",
       "std     145.029846     2.908075    32.695301   268.592862    34.611103   \n",
       "min    1000.000000     1.000000     0.000000     0.000000     0.000000   \n",
       "25%    1123.000000     6.000000    40.000000   319.000000     9.000000   \n",
       "50%    1253.000000     9.000000    62.000000   501.000000    30.000000   \n",
       "75%    1380.000000    11.000000    82.000000   665.000000    56.000000   \n",
       "max    1499.000000    12.000000   196.000000  1580.000000   185.000000   \n",
       "\n",
       "        internet_mb  calls_extra  messages_extra  price_month    pay_extra  \\\n",
       "count   3167.000000  3167.000000     3167.000000  3167.000000  3167.000000   \n",
       "mean   17153.791601    48.566467        3.616040   979.681086   554.925166   \n",
       "std     7466.689371    96.690903       10.210097   645.801342   738.348622   \n",
       "min        0.000000     0.000000        0.000000   550.000000     0.000000   \n",
       "25%    12504.500000     0.000000        0.000000   550.000000     0.000000   \n",
       "50%    16940.000000     0.000000        0.000000   550.000000   174.000000   \n",
       "75%    21397.000000    52.000000        0.000000  1950.000000   927.500000   \n",
       "max    45305.000000   585.000000       60.000000  1950.000000  4078.000000   \n",
       "\n",
       "           all_pay  \n",
       "count  3167.000000  \n",
       "mean   1534.606252  \n",
       "std     758.117672  \n",
       "min     550.000000  \n",
       "25%     795.500000  \n",
       "50%    1684.000000  \n",
       "75%    1950.000000  \n",
       "max    4628.000000  "
      ]
     },
     "execution_count": 38,
     "metadata": {},
     "output_type": "execute_result"
    }
   ],
   "source": [
    "data.describe()"
   ]
  },
  {
   "cell_type": "markdown",
   "metadata": {},
   "source": [
    "от выбросов мы благополучно избавились"
   ]
  },
  {
   "cell_type": "code",
   "execution_count": 39,
   "metadata": {},
   "outputs": [],
   "source": [
    "mediana_data = data.pivot_table(index='user_id', values=['calls_len', 'messages', 'internet_mb', 'all_pay'], aggfunc='median')"
   ]
  },
  {
   "cell_type": "markdown",
   "metadata": {},
   "source": [
    "Добавим столбцы город и тариф"
   ]
  },
  {
   "cell_type": "code",
   "execution_count": 40,
   "metadata": {},
   "outputs": [],
   "source": [
    "for user_id in users['user_id']:\n",
    "    mediana_data.loc[user_id, 'tariff'] = users.loc[user_id-1000, 'tariff']"
   ]
  },
  {
   "cell_type": "code",
   "execution_count": 41,
   "metadata": {
    "scrolled": true
   },
   "outputs": [],
   "source": [
    "for user_id in users['user_id']:\n",
    "    mediana_data.loc[user_id, 'city'] = users.loc[user_id-1000, 'city']\n"
   ]
  },
  {
   "cell_type": "markdown",
   "metadata": {},
   "source": [
    "Посчитаем среднее количество, дисперсию и стандартное отклонение:"
   ]
  },
  {
   "cell_type": "code",
   "execution_count": 49,
   "metadata": {},
   "outputs": [],
   "source": [
    "mediana_data.dropna(subset=['calls_len'], inplace=True)\n",
    "data_stat = mediana_data.pivot_table(index=['tariff'], values=['calls_len', 'internet_mb', 'messages'], aggfunc={'calls_len':[np.median, np.var, np.std], 'internet_mb':[np.median, np.var, np.std], 'messages':[np.median, np.var, np.std]})"
   ]
  },
  {
   "cell_type": "code",
   "execution_count": 50,
   "metadata": {
    "scrolled": false
   },
   "outputs": [
    {
     "data": {
      "text/html": [
       "<div>\n",
       "<style scoped>\n",
       "    .dataframe tbody tr th:only-of-type {\n",
       "        vertical-align: middle;\n",
       "    }\n",
       "\n",
       "    .dataframe tbody tr th {\n",
       "        vertical-align: top;\n",
       "    }\n",
       "\n",
       "    .dataframe thead tr th {\n",
       "        text-align: left;\n",
       "    }\n",
       "\n",
       "    .dataframe thead tr:last-of-type th {\n",
       "        text-align: right;\n",
       "    }\n",
       "</style>\n",
       "<table border=\"1\" class=\"dataframe\">\n",
       "  <thead>\n",
       "    <tr>\n",
       "      <th></th>\n",
       "      <th colspan=\"3\" halign=\"left\">calls_len</th>\n",
       "      <th colspan=\"3\" halign=\"left\">internet_mb</th>\n",
       "      <th colspan=\"3\" halign=\"left\">messages</th>\n",
       "    </tr>\n",
       "    <tr>\n",
       "      <th></th>\n",
       "      <th>median</th>\n",
       "      <th>std</th>\n",
       "      <th>var</th>\n",
       "      <th>median</th>\n",
       "      <th>std</th>\n",
       "      <th>var</th>\n",
       "      <th>median</th>\n",
       "      <th>std</th>\n",
       "      <th>var</th>\n",
       "    </tr>\n",
       "    <tr>\n",
       "      <th>tariff</th>\n",
       "      <th></th>\n",
       "      <th></th>\n",
       "      <th></th>\n",
       "      <th></th>\n",
       "      <th></th>\n",
       "      <th></th>\n",
       "      <th></th>\n",
       "      <th></th>\n",
       "      <th></th>\n",
       "    </tr>\n",
       "  </thead>\n",
       "  <tbody>\n",
       "    <tr>\n",
       "      <td>smart</td>\n",
       "      <td>485.75</td>\n",
       "      <td>185.110148</td>\n",
       "      <td>34265.766918</td>\n",
       "      <td>16618.50</td>\n",
       "      <td>4416.285550</td>\n",
       "      <td>1.950358e+07</td>\n",
       "      <td>27.5</td>\n",
       "      <td>27.283576</td>\n",
       "      <td>744.393535</td>\n",
       "    </tr>\n",
       "    <tr>\n",
       "      <td>ultra</td>\n",
       "      <td>607.00</td>\n",
       "      <td>343.570766</td>\n",
       "      <td>118040.871208</td>\n",
       "      <td>19926.25</td>\n",
       "      <td>8878.854146</td>\n",
       "      <td>7.883405e+07</td>\n",
       "      <td>47.5</td>\n",
       "      <td>47.491260</td>\n",
       "      <td>2255.419781</td>\n",
       "    </tr>\n",
       "  </tbody>\n",
       "</table>\n",
       "</div>"
      ],
      "text/plain": [
       "       calls_len                            internet_mb               \\\n",
       "          median         std            var      median          std   \n",
       "tariff                                                                 \n",
       "smart     485.75  185.110148   34265.766918    16618.50  4416.285550   \n",
       "ultra     607.00  343.570766  118040.871208    19926.25  8878.854146   \n",
       "\n",
       "                     messages                          \n",
       "                 var   median        std          var  \n",
       "tariff                                                 \n",
       "smart   1.950358e+07     27.5  27.283576   744.393535  \n",
       "ultra   7.883405e+07     47.5  47.491260  2255.419781  "
      ]
     },
     "execution_count": 50,
     "metadata": {},
     "output_type": "execute_result"
    }
   ],
   "source": [
    "data_stat"
   ]
  },
  {
   "cell_type": "markdown",
   "metadata": {},
   "source": [
    "Пользователи тарифа СМАРТ почти полностью выговаривают лимит в 500 минут, сверхлимита используют мобильный интернет и практически вполовину неизрасходованы смс. пользователи тарифа УЛЬТРА используют в среднем свой лимит в 3 раза ниже заявленных предложений."
   ]
  },
  {
   "cell_type": "code",
   "execution_count": 51,
   "metadata": {
    "scrolled": false
   },
   "outputs": [
    {
     "data": {
      "text/plain": [
       "<matplotlib.axes._subplots.AxesSubplot at 0x7f8a1fedfb10>"
      ]
     },
     "execution_count": 51,
     "metadata": {},
     "output_type": "execute_result"
    },
    {
     "data": {
      "image/png": "[encoded data removed]",
      "text/plain": [
       "<Figure size 720x432 with 1 Axes>"
      ]
     },
     "metadata": {
      "needs_background": "light"
     },
     "output_type": "display_data"
    },
    {
     "data": {
      "image/png": "[encoded data removed]",
      "text/plain": [
       "<Figure size 720x432 with 1 Axes>"
      ]
     },
     "metadata": {
      "needs_background": "light"
     },
     "output_type": "display_data"
    }
   ],
   "source": [
    "# построим гистограмму длительности телефонных разговоров в тарифе ультра и смарт\n",
    "mediana_data1 = mediana_data.query('tariff == \"ultra\"')\n",
    "mediana_data2 = mediana_data.query('tariff == \"smart\"')\n",
    "mediana_data1.plot(y='calls_len', kind = 'hist',  figsize=(10, 6))\n",
    "mediana_data2.plot(y='calls_len', kind = 'hist',  figsize=(10, 6))"
   ]
  },
  {
   "cell_type": "markdown",
   "metadata": {},
   "source": [
    "Пользователи тарифа СМАРТ  говорят в среднем 200-600 минут, при этом лимит 500 минут-идет перерасход. У тарифа ультра лимит 3000 минут, но они их явно не выговаривают"
   ]
  },
  {
   "cell_type": "code",
   "execution_count": 52,
   "metadata": {
    "scrolled": false
   },
   "outputs": [
    {
     "data": {
      "text/plain": [
       "<matplotlib.axes._subplots.AxesSubplot at 0x7f8a1d7e5a90>"
      ]
     },
     "execution_count": 52,
     "metadata": {},
     "output_type": "execute_result"
    },
    {
     "data": {
      "image/png": "[encoded data removed]",
      "text/plain": [
       "<Figure size 720x432 with 1 Axes>"
      ]
     },
     "metadata": {
      "needs_background": "light"
     },
     "output_type": "display_data"
    },
    {
     "data": {
      "image/png": "[encoded data removed]",
      "text/plain": [
       "<Figure size 720x432 with 1 Axes>"
      ]
     },
     "metadata": {
      "needs_background": "light"
     },
     "output_type": "display_data"
    }
   ],
   "source": [
    "# построим гистограмму использования смс в тарифе ультра и смарт\n",
    "mediana_data1.plot(y='messages', kind = 'hist',  figsize=(10, 6))\n",
    "mediana_data2.plot(y='messages', kind = 'hist',  figsize=(10, 6))\n"
   ]
  },
  {
   "cell_type": "markdown",
   "metadata": {},
   "source": [
    "В наше время месенджеров оба тарифа не показывают активное использование смс"
   ]
  },
  {
   "cell_type": "code",
   "execution_count": 53,
   "metadata": {
    "scrolled": false
   },
   "outputs": [
    {
     "data": {
      "text/plain": [
       "<matplotlib.axes._subplots.AxesSubplot at 0x7f8a1d6fbf50>"
      ]
     },
     "execution_count": 53,
     "metadata": {},
     "output_type": "execute_result"
    },
    {
     "data": {
      "image/png": "[encoded data removed]",
      "text/plain": [
       "<Figure size 720x432 with 1 Axes>"
      ]
     },
     "metadata": {
      "needs_background": "light"
     },
     "output_type": "display_data"
    },
    {
     "data": {
      "image/png": "[encoded data removed]",
      "text/plain": [
       "<Figure size 720x432 with 1 Axes>"
      ]
     },
     "metadata": {
      "needs_background": "light"
     },
     "output_type": "display_data"
    }
   ],
   "source": [
    "mediana_data1.plot(y='internet_mb', kind = 'hist',  figsize=(10, 6))\n",
    "mediana_data2.plot(y='internet_mb', kind = 'hist',  figsize=(10, 6))"
   ]
  },
  {
   "cell_type": "markdown",
   "metadata": {},
   "source": [
    "В ситуации с интернетом большую активность проявляют пользователи тарифа УЛЬТРА, однако на гистограмме видно что включенных 15 Гб интернета у СМАРТА явно не хватает"
   ]
  },
  {
   "cell_type": "markdown",
   "metadata": {},
   "source": [
    "Более наглядную разницу двух тарифов можно увидеть на графиках seaborn"
   ]
  },
  {
   "cell_type": "code",
   "execution_count": 54,
   "metadata": {},
   "outputs": [
    {
     "data": {
      "image/png": "[encoded data removed]",
      "text/plain": [
       "<Figure size 432x288 with 1 Axes>"
      ]
     },
     "metadata": {
      "needs_background": "light"
     },
     "output_type": "display_data"
    }
   ],
   "source": [
    "for tariff in ['ultra', 'smart']:\n",
    "    sns.distplot(mediana_data.query('tariff == @tariff')['calls_len'], kde=False, label=tariff)\n",
    " \n",
    "    _ =plt.legend(['ultra', 'smart'])\n",
    "    "
   ]
  },
  {
   "cell_type": "code",
   "execution_count": 55,
   "metadata": {},
   "outputs": [
    {
     "data": {
      "image/png": "[encoded data removed]",
      "text/plain": [
       "<Figure size 432x288 with 1 Axes>"
      ]
     },
     "metadata": {
      "needs_background": "light"
     },
     "output_type": "display_data"
    }
   ],
   "source": [
    "for tariff in ['ultra', 'smart']:\n",
    "    sns.distplot(mediana_data.query('tariff == @tariff')['messages'], kde=False, label=tariff)\n",
    "    _ =plt.legend(['ultra', 'smart'])\n",
    "    "
   ]
  },
  {
   "cell_type": "code",
   "execution_count": 56,
   "metadata": {
    "scrolled": false
   },
   "outputs": [
    {
     "data": {
      "image/png": "[encoded data removed]",
      "text/plain": [
       "<Figure size 432x288 with 1 Axes>"
      ]
     },
     "metadata": {
      "needs_background": "light"
     },
     "output_type": "display_data"
    }
   ],
   "source": [
    "   for tariff in ['ultra', 'smart']:\n",
    "    sns.distplot(mediana_data.query('tariff == @tariff')['internet_mb'], kde=False, label=tariff)\n",
    "    _ =plt.legend(['ultra', 'smart'])"
   ]
  },
  {
   "cell_type": "markdown",
   "metadata": {},
   "source": [
    "### Проверка гипотез"
   ]
  },
  {
   "cell_type": "markdown",
   "metadata": {},
   "source": [
    "Чтобы понять, различаются ли средние чеки пользователей  разных тарифов, недостаточно просто сравнить числа за определённый период времени. Без проведения корректного теста нельзя считать отличия случайными или разницу достаточной, чтобы полагать расходы людей разными.\n",
    "нулевая гипотеза- предположим что расходы пользователей двух тарифов не отличается.\n",
    "тогда альтернативная гипоза- расходы отличаются"
   ]
  },
  {
   "cell_type": "code",
   "execution_count": 57,
   "metadata": {},
   "outputs": [],
   "source": [
    "ultra = data.query('tariffs == \"ultra\"')['all_pay']\n",
    "smart = data.query('tariffs == \"smart\"')['all_pay']"
   ]
  },
  {
   "cell_type": "code",
   "execution_count": 58,
   "metadata": {},
   "outputs": [
    {
     "data": {
      "text/plain": [
       "2054.1800411522636"
      ]
     },
     "execution_count": 58,
     "metadata": {},
     "output_type": "execute_result"
    }
   ],
   "source": [
    "ultra.mean()"
   ]
  },
  {
   "cell_type": "code",
   "execution_count": 59,
   "metadata": {},
   "outputs": [
    {
     "data": {
      "text/plain": [
       "1304.5261958997721"
      ]
     },
     "execution_count": 59,
     "metadata": {},
     "output_type": "execute_result"
    }
   ],
   "source": [
    "smart.mean()"
   ]
  },
  {
   "cell_type": "markdown",
   "metadata": {},
   "source": [
    "Начнём с формулировки нулевой гипотезы H0: Средняя выручка тарифа СМАРТ  равна средней выручке тарифа УЛЬТРА. Проверим гипотезу что выручки двух тарифов равны\n",
    "Исходя из нулевой гипотезы формулируем альтернативную гипотезу H₁. Для этой H₀ она звучит как Средняя выручка тарифа СМАРТ  не равна средней выручке тарифа УЛЬТРА\n",
    "Уровень значимости для выбранной  проверки гипотезы возьмем alpha = .05"
   ]
  },
  {
   "cell_type": "code",
   "execution_count": 60,
   "metadata": {},
   "outputs": [
    {
     "name": "stdout",
     "output_type": "stream",
     "text": [
      "p-значение: 1.4859379263860764e-162\n",
      "Отвергаем нулевую гипотезу\n"
     ]
    }
   ],
   "source": [
    "alpha = .05\n",
    "\n",
    "results = st.ttest_ind(\n",
    "    ultra, \n",
    "    smart)#  проверим гипотезу о равенстве средних двух независимых совокупностей\n",
    "\n",
    "print('p-значение:', results.pvalue)\n",
    "\n",
    "if (results.pvalue < alpha):\n",
    "    print(\"Отвергаем нулевую гипотезу\")\n",
    "else:\n",
    "    print(\"Не получилось отвергнуть нулевую гипотезу\")"
   ]
  },
  {
   "cell_type": "markdown",
   "metadata": {},
   "source": [
    "Получается мы не правы: по всей видимости,выручки отличаются\n",
    "наблюдаемое на выборке значение попадает зону значимости, вероятность такого события при верной нулевой гипотезе признаётся слишком малым-Значит гипотеза что выручки двух тарифов равны ошибочная"
   ]
  },
  {
   "cell_type": "markdown",
   "metadata": {},
   "source": [
    "построим гистограмму выручки по тарифам"
   ]
  },
  {
   "cell_type": "code",
   "execution_count": 61,
   "metadata": {},
   "outputs": [],
   "source": [
    "data2=data.pivot_table(index='tariffs', values='all_pay', aggfunc='median')"
   ]
  },
  {
   "cell_type": "code",
   "execution_count": 62,
   "metadata": {},
   "outputs": [
    {
     "data": {
      "text/plain": [
       "<matplotlib.axes._subplots.AxesSubplot at 0x7f8a21524b10>"
      ]
     },
     "execution_count": 62,
     "metadata": {},
     "output_type": "execute_result"
    },
    {
     "data": {
      "image/png": "[encoded data removed]",
      "text/plain": [
       "<Figure size 720x432 with 1 Axes>"
      ]
     },
     "metadata": {
      "needs_background": "light"
     },
     "output_type": "display_data"
    }
   ],
   "source": [
    "data2_1 = data.query('tariffs == \"ultra\"')\n",
    "data2_2 = data.query('tariffs == \"smart\"')\n",
    "data2_1.plot(y='all_pay', kind = 'hist',  figsize=(10, 6))#гистограмма УЛЬТРА"
   ]
  },
  {
   "cell_type": "code",
   "execution_count": 63,
   "metadata": {
    "scrolled": false
   },
   "outputs": [
    {
     "data": {
      "text/plain": [
       "<matplotlib.axes._subplots.AxesSubplot at 0x7f8a21594050>"
      ]
     },
     "execution_count": 63,
     "metadata": {},
     "output_type": "execute_result"
    },
    {
     "data": {
      "image/png": "[encoded data removed]",
      "text/plain": [
       "<Figure size 720x432 with 1 Axes>"
      ]
     },
     "metadata": {
      "needs_background": "light"
     },
     "output_type": "display_data"
    }
   ],
   "source": [
    "data2_2.plot(y='all_pay', kind = 'hist',  figsize=(10, 6))#гистограмма СМАРТ"
   ]
  },
  {
   "cell_type": "markdown",
   "metadata": {},
   "source": [
    "Клиенты тарифа СМАРТ часто докупают пакеты услуг, но расходы клиенто УЛЬТРА выше"
   ]
  },
  {
   "cell_type": "markdown",
   "metadata": {},
   "source": [
    "проверим нулевую гипотезу H0: Средняя выручка оператора от пользователей из Москвы равна средней выручке пользователей из регионов."
   ]
  },
  {
   "cell_type": "code",
   "execution_count": 64,
   "metadata": {},
   "outputs": [
    {
     "data": {
      "text/plain": [
       "1555.6447368421052"
      ]
     },
     "execution_count": 64,
     "metadata": {},
     "output_type": "execute_result"
    }
   ],
   "source": [
    "#рассмотрим сколько всреднем тратят москвичи\n",
    "moscow_pay = data.query('city == \"Москва\"')['all_pay']\n",
    "moscow_pay.mean()"
   ]
  },
  {
   "cell_type": "code",
   "execution_count": 65,
   "metadata": {},
   "outputs": [
    {
     "data": {
      "text/plain": [
       "1529.6076592418913"
      ]
     },
     "execution_count": 65,
     "metadata": {},
     "output_type": "execute_result"
    }
   ],
   "source": [
    "##рассмотрим сколько всреднем тратят регионы\n",
    "region_pay = data.query('city != \"Москва\"')['all_pay']\n",
    "region_pay.mean()"
   ]
  },
  {
   "cell_type": "markdown",
   "metadata": {},
   "source": [
    "H1: Средняя выручка оператора от пользователей из Москвы отличается от выручки пользователей из регионов.Чтобы проверить гипотезу о равенстве выручки в москве и ркгионах также применяем метод scipy.stats.ttest_ind"
   ]
  },
  {
   "cell_type": "code",
   "execution_count": 66,
   "metadata": {},
   "outputs": [
    {
     "name": "stdout",
     "output_type": "stream",
     "text": [
      "p-значение: 0.44660386346316017\n",
      "Не получилось отвергнуть нулевую гипотезу\n"
     ]
    }
   ],
   "source": [
    "alpha = .05\n",
    "\n",
    "results = st.ttest_ind(\n",
    "    moscow_pay, \n",
    "    region_pay)#  проверим гипотезу о равенстве средних двух независимых совокупностей\n",
    "\n",
    "print('p-значение:', results.pvalue)\n",
    "\n",
    "if (results.pvalue < alpha):\n",
    "    print(\"Отвергаем нулевую гипотезу\")\n",
    "else:\n",
    "    print(\"Не получилось отвергнуть нулевую гипотезу\")"
   ]
  },
  {
   "cell_type": "markdown",
   "metadata": {},
   "source": [
    "Полученное значение p-value говорит о том, что хотя средний чек двух тарифов и неодинаков, с вероятностью в почти 44% такое или большее различие можно получить случайно. Это явно слишком большая вероятность, чтобы делать вывод о значимом различии между выручками в Москве и регионах."
   ]
  },
  {
   "cell_type": "markdown",
   "metadata": {},
   "source": [
    "Условия применения статистического критерия т-теста (критерия Стьюдента)\n",
    "— данные распределялись по закону нормального распределения;\n",
    "\n",
    "— данные были количественными;\n",
    "\n",
    "— и это две независимые между собой выборки (независимые это значит, что это два разных тарифа, а никак, например, до и после увеличения стоимости тарифа одной группы, люди должны быть разными, тогда группы являются несвязанными, либо независимыми), этот аспект стоит учитывать для выбора вида т-критерия Стьюдента, так как для парных выборок существует свой парный т-критерий (paired t-test).\n",
    "\n",
    "В итоге Мы определились с тем, что это будет t-критерий Стьюдента."
   ]
  },
  {
   "cell_type": "markdown",
   "metadata": {},
   "source": [
    "### Общий вывод"
   ]
  },
  {
   "cell_type": "markdown",
   "metadata": {},
   "source": [
    "Среднему пользователю тарифа СМАРТ не хватает заложенных абонентской платой лимита звонков и интернета, как следствие он вынужден доплачивать. Пользователями тарифа УЛЬТРА вероятнее всего пользуются другой категории абоненты, они чувствуют себя куда более свободно, однако заложенный тарифом лимит они не используют в полном объеме. C точки зрения доходности- клиент тарифного плана УЛЬТРА в среднем приносит больше прибыли чем пользователь тарифа СМАРТ.\n",
    "Если рассматривать вопрос выручки по городам и регионам, то пользователи Москвы тратят на связь примерно столько же сколько пользователи других регионов суммарно.\n",
    "С точки зрения этх двух тарифов МЕГАЛАЙНУ не хватает промежуточного тарифа, он бы подошел тем пользователям СМАРТа кто вынужден постоянно докупать недостающие ему услуги связи. И это даже не с точки зрения лишних трат-а больше со стороны комфорта."
   ]
  },
  {
   "cell_type": "code",
   "execution_count": null,
   "metadata": {},
   "outputs": [],
   "source": []
  }
 ],
 "metadata": {
  "kernelspec": {
   "display_name": "Python 3",
   "language": "python",
   "name": "python3"
  },
  "language_info": {
   "codemirror_mode": {
    "name": "ipython",
    "version": 3
   },
   "file_extension": ".py",
   "mimetype": "text/x-python",
   "name": "python",
   "nbconvert_exporter": "python",
   "pygments_lexer": "ipython3",
   "version": "3.7.6"
  }
 },
 "nbformat": 4,
 "nbformat_minor": 2
}
