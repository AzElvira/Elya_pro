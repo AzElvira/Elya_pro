{
 "cells": [
  {
   "cell_type": "markdown",
   "metadata": {},
   "source": [
    "# Аналитика "
   ]
  },
  {
   "cell_type": "markdown",
   "metadata": {},
   "source": [
    " В нашем распоряжении есть данные с июня 2017 по конец мая 2018 года:\n",
    "- лог сервера с данными о посещениях сайта,\n",
    "- выгрузка всех заказов за этот период,\n",
    "- статистика рекламных расходов.\n",
    "\n",
    "Необходимо изучить:\n",
    "- как люди пользуются продуктом,\n",
    "- когда они начинают покупать,\n",
    "- сколько денег приносит каждый клиент\n",
    "- когда клиент окупается."
   ]
  },
  {
   "cell_type": "markdown",
   "metadata": {},
   "source": [
    "###  Открытие файла с данными"
   ]
  },
  {
   "cell_type": "code",
   "execution_count": 1,
   "metadata": {},
   "outputs": [],
   "source": [
    "import pandas as pd\n",
    "import numpy as np\n",
    "import matplotlib.pyplot as plt\n",
    "import seaborn as sns"
   ]
  },
  {
   "cell_type": "code",
   "execution_count": 2,
   "metadata": {},
   "outputs": [],
   "source": [
    "visits = pd.read_csv('/datasets/visits_log.csv')\n",
    "\n",
    "orders = pd.read_csv('/datasets/orders_log.csv')\n",
    "\n",
    "costs = pd.read_csv('/datasets/costs.csv')"
   ]
  },
  {
   "cell_type": "code",
   "execution_count": 3,
   "metadata": {},
   "outputs": [
    {
     "name": "stdout",
     "output_type": "stream",
     "text": [
      "<class 'pandas.core.frame.DataFrame'>\n",
      "RangeIndex: 359400 entries, 0 to 359399\n",
      "Data columns (total 5 columns):\n",
      "Device       359400 non-null object\n",
      "End Ts       359400 non-null object\n",
      "Source Id    359400 non-null int64\n",
      "Start Ts     359400 non-null object\n",
      "Uid          359400 non-null uint64\n",
      "dtypes: int64(1), object(3), uint64(1)\n",
      "memory usage: 13.7+ MB\n"
     ]
    }
   ],
   "source": [
    "visits.info()\n"
   ]
  },
  {
   "cell_type": "markdown",
   "metadata": {},
   "source": [
    "Таблица visits (лог сервера с информацией о посещениях сайта):\n",
    "- Uid — уникальный идентификатор пользователя\n",
    "- Device — категория устройства пользователя\n",
    "- Start Ts — дата и время начала сессии\n",
    "- End Ts — дата и время окончания сессии\n",
    "- Source Id — идентификатор рекламного источника, из которого пришел пользователь\n",
    "\n",
    "Изучая таблицу можно отметить что пропуски отсутствуют, необходимо привести даты к нужному типу."
   ]
  },
  {
   "cell_type": "code",
   "execution_count": 4,
   "metadata": {},
   "outputs": [],
   "source": [
    "#Приведем к нижнему регистру названия столбцов\n",
    "visits.columns = visits.columns.str.lower()"
   ]
  },
  {
   "cell_type": "code",
   "execution_count": 5,
   "metadata": {},
   "outputs": [],
   "source": [
    "visits.columns = ['device', 'end_ts', 'source_id', 'start_ts','uid']"
   ]
  },
  {
   "cell_type": "code",
   "execution_count": 6,
   "metadata": {},
   "outputs": [],
   "source": [
    "#приводим даты к нужному типу.\n",
    "visits['end_ts'] =pd.to_datetime( visits['end_ts'])\n",
    "\n",
    "visits['start_ts'] =pd.to_datetime( visits['start_ts'])"
   ]
  },
  {
   "cell_type": "code",
   "execution_count": 7,
   "metadata": {},
   "outputs": [
    {
     "name": "stdout",
     "output_type": "stream",
     "text": [
      "<class 'pandas.core.frame.DataFrame'>\n",
      "RangeIndex: 50415 entries, 0 to 50414\n",
      "Data columns (total 3 columns):\n",
      "Buy Ts     50415 non-null object\n",
      "Revenue    50415 non-null float64\n",
      "Uid        50415 non-null uint64\n",
      "dtypes: float64(1), object(1), uint64(1)\n",
      "memory usage: 1.2+ MB\n"
     ]
    }
   ],
   "source": [
    "orders.info()\n"
   ]
  },
  {
   "cell_type": "markdown",
   "metadata": {},
   "source": [
    "Таблица orders (информация о заказах):\n",
    "- Uid — уникальный id пользователя, который сделал заказ\n",
    "- Buy Ts — дата и время заказа\n",
    "- Revenue — выручка Яндекс.Афиши с этого заказа\n",
    "\n",
    "В таблице заказов 3 столбца, данные полные, заменим тип данных даты заказа"
   ]
  },
  {
   "cell_type": "code",
   "execution_count": 8,
   "metadata": {},
   "outputs": [],
   "source": [
    "orders.columns = orders.columns.str.lower()"
   ]
  },
  {
   "cell_type": "code",
   "execution_count": 9,
   "metadata": {},
   "outputs": [],
   "source": [
    "orders.columns = ['buy_ts', 'revenue', 'uid']"
   ]
  },
  {
   "cell_type": "code",
   "execution_count": 10,
   "metadata": {},
   "outputs": [],
   "source": [
    "orders['buy_ts'] = pd.to_datetime( orders['buy_ts'])"
   ]
  },
  {
   "cell_type": "code",
   "execution_count": 11,
   "metadata": {},
   "outputs": [
    {
     "name": "stdout",
     "output_type": "stream",
     "text": [
      "<class 'pandas.core.frame.DataFrame'>\n",
      "RangeIndex: 2542 entries, 0 to 2541\n",
      "Data columns (total 3 columns):\n",
      "source_id    2542 non-null int64\n",
      "dt           2542 non-null object\n",
      "costs        2542 non-null float64\n",
      "dtypes: float64(1), int64(1), object(1)\n",
      "memory usage: 59.7+ KB\n"
     ]
    }
   ],
   "source": [
    "costs.info()\n"
   ]
  },
  {
   "cell_type": "markdown",
   "metadata": {},
   "source": [
    "Таблица costs (информация о затратах на маркетинг):\n",
    "- source_id — идентификатор рекламного источника\n",
    "- dt — дата\n",
    "- costs — затраты на этот рекламный источник в этот день\n",
    "\n",
    "В таблице маркетинга также полные данные, заменим тип даты"
   ]
  },
  {
   "cell_type": "code",
   "execution_count": 12,
   "metadata": {},
   "outputs": [],
   "source": [
    "costs['dt'] = pd.to_datetime( costs['dt'])"
   ]
  },
  {
   "cell_type": "markdown",
   "metadata": {},
   "source": [
    "###  Построим отчёты и посчитаем метрики"
   ]
  },
  {
   "cell_type": "markdown",
   "metadata": {},
   "source": [
    "### Продукт\n",
    "- Сколько людей пользуются в день, неделю, месяц?\n",
    "- Сколько сессий в день?\n",
    "- Сколько длится одна сессия?\n",
    "- Как часто люди возвращаются?"
   ]
  },
  {
   "cell_type": "markdown",
   "metadata": {},
   "source": [
    "#### проверим сколько людей пользуются продуктом в день, неделю, месяц?"
   ]
  },
  {
   "cell_type": "code",
   "execution_count": 13,
   "metadata": {
    "scrolled": true
   },
   "outputs": [],
   "source": [
    "#Чтобы посчитать недельное и месячное использование, выделим в отдельные столбцы год, месяц и неделю, а также полную дату.\n",
    "visits['session_date'] = visits['start_ts'].dt.date\n",
    "\n",
    "visits['session_week'] = visits['start_ts'].dt.week\n",
    "\n",
    "visits['session_month'] = visits['start_ts'].dt.month\n",
    "\n",
    "visits['first_of_month'] = visits['start_ts'].astype('datetime64[M]')\n",
    "\n",
    "visits['session_year'] = visits['start_ts'].dt.year\n"
   ]
  },
  {
   "cell_type": "markdown",
   "metadata": {},
   "source": [
    "Посчитаем метрики. Сгруппируем данные по уникальным пользователям и найдём среднее"
   ]
  },
  {
   "cell_type": "code",
   "execution_count": 14,
   "metadata": {
    "scrolled": true
   },
   "outputs": [],
   "source": [
    "date_dau=visits.groupby(['session_year','session_date']).agg({'uid': 'nunique'})\n"
   ]
  },
  {
   "cell_type": "code",
   "execution_count": 15,
   "metadata": {
    "scrolled": true
   },
   "outputs": [
    {
     "data": {
      "text/plain": [
       "845.2803738317757"
      ]
     },
     "execution_count": 15,
     "metadata": {},
     "output_type": "execute_result"
    }
   ],
   "source": [
    "date_dau_2017=date_dau.query('session_year == 2017')\n",
    "date_dau_2017['uid'].mean()"
   ]
  },
  {
   "cell_type": "code",
   "execution_count": 16,
   "metadata": {},
   "outputs": [
    {
     "data": {
      "text/plain": [
       "997.46"
      ]
     },
     "execution_count": 16,
     "metadata": {},
     "output_type": "execute_result"
    }
   ],
   "source": [
    "date_dau_2018=date_dau.query('session_year == 2018')\n",
    "date_dau_2018['uid'].mean()"
   ]
  },
  {
   "cell_type": "code",
   "execution_count": 17,
   "metadata": {},
   "outputs": [
    {
     "data": {
      "text/plain": [
       "uid    907.991758\n",
       "dtype: float64"
      ]
     },
     "execution_count": 17,
     "metadata": {},
     "output_type": "execute_result"
    }
   ],
   "source": [
    "DAU = visits.groupby('session_date').agg({'uid': 'nunique'}).mean()\n",
    "DAU"
   ]
  },
  {
   "cell_type": "markdown",
   "metadata": {},
   "source": [
    "DAU — количество уникальных пользователей в день в среднем составляет 908 человек"
   ]
  },
  {
   "cell_type": "code",
   "execution_count": 18,
   "metadata": {},
   "outputs": [],
   "source": [
    "date_wau=visits.groupby(['session_year','session_week']).agg({'uid': 'nunique'})\n"
   ]
  },
  {
   "cell_type": "code",
   "execution_count": 19,
   "metadata": {},
   "outputs": [
    {
     "data": {
      "text/plain": [
       "5341.580645161291"
      ]
     },
     "execution_count": 19,
     "metadata": {},
     "output_type": "execute_result"
    }
   ],
   "source": [
    "date_wau_2017=date_wau.query('session_year == 2017')\n",
    "date_wau_2017['uid'].mean()"
   ]
  },
  {
   "cell_type": "code",
   "execution_count": 20,
   "metadata": {},
   "outputs": [
    {
     "data": {
      "text/plain": [
       "6244.181818181818"
      ]
     },
     "execution_count": 20,
     "metadata": {},
     "output_type": "execute_result"
    }
   ],
   "source": [
    "date_wau_2018=date_wau.query('session_year == 2018')\n",
    "date_wau_2018['uid'].mean()"
   ]
  },
  {
   "cell_type": "code",
   "execution_count": 21,
   "metadata": {},
   "outputs": [
    {
     "data": {
      "text/plain": [
       "uid    5716.245283\n",
       "dtype: float64"
      ]
     },
     "execution_count": 21,
     "metadata": {},
     "output_type": "execute_result"
    }
   ],
   "source": [
    "WAU = visits.groupby(['session_year', 'session_week']).agg({'uid': 'nunique'}).mean()\n",
    "WAU"
   ]
  },
  {
   "cell_type": "markdown",
   "metadata": {},
   "source": [
    "WAU — количество уникальных пользователей в неделю в среднем составляет  5716 человек"
   ]
  },
  {
   "cell_type": "code",
   "execution_count": 22,
   "metadata": {},
   "outputs": [],
   "source": [
    "date_mau=visits.groupby(['session_year', 'first_of_month']).agg({'uid': 'nunique'}).reset_index()\n"
   ]
  },
  {
   "cell_type": "code",
   "execution_count": 23,
   "metadata": {
    "scrolled": true
   },
   "outputs": [
    {
     "data": {
      "image/png": "[encoded data removed]",
      "text/plain": [
       "<Figure size 2592x648 with 1 Axes>"
      ]
     },
     "metadata": {
      "needs_background": "light"
     },
     "output_type": "display_data"
    }
   ],
   "source": [
    "plt.figure(figsize=(36, 9))\n",
    "ax = sns.barplot(x = \"first_of_month\", y=\"uid\", data=date_mau)\n",
    "plt.title='MAU'\n",
    "ax.set_xlabel='month'\n",
    "ax.set_ylabel='uid'\n",
    "plt.show()"
   ]
  },
  {
   "cell_type": "markdown",
   "metadata": {},
   "source": [
    "## <span style=\"color:red\">ДОПОЛНЕНИЕ</span>\n",
    "Исходя из месячной статистики можно увидеть рост колличества новых пользователей в течении 2018 года"
   ]
  },
  {
   "cell_type": "code",
   "execution_count": 24,
   "metadata": {},
   "outputs": [
    {
     "data": {
      "text/plain": [
       "uid    23228.416667\n",
       "dtype: float64"
      ]
     },
     "execution_count": 24,
     "metadata": {},
     "output_type": "execute_result"
    }
   ],
   "source": [
    "MAU = visits.groupby(['session_year', 'session_month']).agg({'uid': 'nunique'}).mean()\n",
    "MAU"
   ]
  },
  {
   "cell_type": "markdown",
   "metadata": {},
   "source": [
    "MAU — количество уникальных пользователей в месяц в среднем составляет 23228 человек"
   ]
  },
  {
   "cell_type": "markdown",
   "metadata": {},
   "source": [
    "недельный Sticky Factor - Степень вовлечения"
   ]
  },
  {
   "cell_type": "code",
   "execution_count": 25,
   "metadata": {},
   "outputs": [
    {
     "data": {
      "text/plain": [
       "uid    15.884409\n",
       "dtype: float64"
      ]
     },
     "execution_count": 25,
     "metadata": {},
     "output_type": "execute_result"
    }
   ],
   "source": [
    "sticky_factor_week = DAU/WAU*100\n",
    "sticky_factor_week"
   ]
  },
  {
   "cell_type": "markdown",
   "metadata": {},
   "source": [
    "Sticky Factor (месячный)"
   ]
  },
  {
   "cell_type": "code",
   "execution_count": 26,
   "metadata": {},
   "outputs": [
    {
     "data": {
      "text/plain": [
       "uid    3.90897\n",
       "dtype: float64"
      ]
     },
     "execution_count": 26,
     "metadata": {},
     "output_type": "execute_result"
    }
   ],
   "source": [
    "sticky_factor_month = DAU/MAU*100\n",
    "sticky_factor_month"
   ]
  },
  {
   "cell_type": "markdown",
   "metadata": {},
   "source": [
    "Чем выше этот показатель, тем регулярнее пользователи заходят в приложение."
   ]
  },
  {
   "cell_type": "markdown",
   "metadata": {},
   "source": [
    "Рассмотрим активных пользователей в трёх измерениях:\n",
    "- количество уникальных пользователей в день в среднем составляет 908 человек\n",
    "- количество уникальных пользователей в неделю в среднем составляет 5716 человек\n",
    "- количество уникальных пользователей в месяц в среднем составляет 23228 человек\n",
    "Не смотря на то что изначально часть аудитории имеет интерес к возврату на данный ресурс по итогам месяца можно сказать что возврат пользователей близок к 0"
   ]
  },
  {
   "cell_type": "markdown",
   "metadata": {},
   "source": [
    "#### Посчитаем сколько сессий в день?"
   ]
  },
  {
   "cell_type": "code",
   "execution_count": 27,
   "metadata": {},
   "outputs": [],
   "source": [
    "#Из таблицы визитов сгруппируем новую таблицу с количеством сессий по каждому месяцу\n",
    "session_per_day = visits.groupby(['session_year','session_month']).agg({'session_date':['count','nunique']})\n",
    "session_per_day.columns = ['session_count','days']\n",
    "session_per_day['session_per_days']=session_per_day['session_count']/session_per_day['days']\n"
   ]
  },
  {
   "cell_type": "code",
   "execution_count": 28,
   "metadata": {
    "scrolled": true
   },
   "outputs": [
    {
     "data": {
      "text/plain": [
       "uid    987.362637\n",
       "dtype: float64"
      ]
     },
     "execution_count": 28,
     "metadata": {},
     "output_type": "execute_result"
    }
   ],
   "source": [
    "session_count_mean = visits.groupby('session_date').agg({'uid':'count'}).mean()\n",
    "session_count_mean"
   ]
  },
  {
   "cell_type": "markdown",
   "metadata": {},
   "source": [
    "В среднем 987 сессий в день, максимальное колличество сессий приходится на ноябрь"
   ]
  },
  {
   "cell_type": "markdown",
   "metadata": {},
   "source": [
    "#### Рассмотрим сколько длится одна сессия?"
   ]
  },
  {
   "cell_type": "code",
   "execution_count": 29,
   "metadata": {},
   "outputs": [
    {
     "data": {
      "text/plain": [
       "count    359400.000000\n",
       "mean         10.717095\n",
       "std          16.618796\n",
       "min         -46.000000\n",
       "25%           2.000000\n",
       "50%           5.000000\n",
       "75%          14.000000\n",
       "max         711.000000\n",
       "Name: session_duration, dtype: float64"
      ]
     },
     "execution_count": 29,
     "metadata": {},
     "output_type": "execute_result"
    }
   ],
   "source": [
    "#добавим столбец с продолжительностью сессии\n",
    "visits['session_duration'] = (visits['end_ts'] - visits['start_ts']).dt.total_seconds()/60\n",
    "visits['session_duration'].describe()"
   ]
  },
  {
   "cell_type": "code",
   "execution_count": 30,
   "metadata": {},
   "outputs": [
    {
     "data": {
      "text/plain": [
       "count    359398.000000\n",
       "mean         10.717371\n",
       "std          16.618420\n",
       "min           0.000000\n",
       "25%           2.000000\n",
       "50%           5.000000\n",
       "75%          14.000000\n",
       "max         711.000000\n",
       "Name: session_duration, dtype: float64"
      ]
     },
     "execution_count": 30,
     "metadata": {},
     "output_type": "execute_result"
    }
   ],
   "source": [
    "#Продолжительность сессии не может быть отрицательным числом, поэтому сделаем срез оставив лишь положительные значения\n",
    "visits = visits.query('session_duration >= 0')\n",
    "visits['session_duration'].describe()"
   ]
  },
  {
   "cell_type": "code",
   "execution_count": 31,
   "metadata": {},
   "outputs": [
    {
     "name": "stdout",
     "output_type": "stream",
     "text": [
      "Длительность сессии\n"
     ]
    },
    {
     "data": {
      "image/png": "[encoded data removed]",
      "text/plain": [
       "<Figure size 432x288 with 1 Axes>"
      ]
     },
     "metadata": {
      "needs_background": "light"
     },
     "output_type": "display_data"
    },
    {
     "name": "stdout",
     "output_type": "stream",
     "text": [
      "Длительность сессии\n"
     ]
    },
    {
     "data": {
      "image/png": "[encoded data removed]",
      "text/plain": [
       "<Figure size 432x288 with 1 Axes>"
      ]
     },
     "metadata": {
      "needs_background": "light"
     },
     "output_type": "display_data"
    },
    {
     "name": "stdout",
     "output_type": "stream",
     "text": [
      "None\n"
     ]
    }
   ],
   "source": [
    "#рассмотрим на графике среднюю продолжительность сессии\n",
    "def analyz(session_duration):\n",
    "    print ('Длительность сессии')\n",
    "    percentile_95 = np.percentile(visits['session_duration'], 95)\n",
    "    ax = visits['session_duration'].hist(range = (0, percentile_95*1.5))\n",
    "    ax.set_xlabel('продолжительность сессии')\n",
    "    ax.set_ylabel('пользователи')\n",
    "    plt.show()\n",
    "    print('Длительность сессии')\n",
    "    ax = sns.boxplot(visits['session_duration'])\n",
    "    ax.set_xlabel('продолжительность')\n",
    "    plt.show()\n",
    "print(analyz('session_duration'))"
   ]
  },
  {
   "cell_type": "markdown",
   "metadata": {},
   "source": [
    "Половина пользователей пребывают на сайте не более 5 минут"
   ]
  },
  {
   "cell_type": "markdown",
   "metadata": {},
   "source": [
    "#### рассмотрим как часто люди возвращаются?"
   ]
  },
  {
   "cell_type": "code",
   "execution_count": 32,
   "metadata": {},
   "outputs": [],
   "source": [
    "#Для каждого клиента получим дату его первого заказа\n",
    "first_activity_date = visits.groupby(['uid'])['start_ts'].min()\n",
    "first_activity_date.name = 'first_activity_date'"
   ]
  },
  {
   "cell_type": "code",
   "execution_count": 33,
   "metadata": {},
   "outputs": [],
   "source": [
    "#Добавим в основную таблицу столбец first_activity_date с датами первой покупки клиента.\n",
    "visits = visits.join(first_activity_date,on='uid')"
   ]
  },
  {
   "cell_type": "code",
   "execution_count": 34,
   "metadata": {},
   "outputs": [],
   "source": [
    "#создадим столбец activity_month, в котором сохраним месяц, извлечённый из значений столбца start ts\n",
    "visits['first_activity_month'] = visits['first_activity_date'].astype('datetime64[M]')\n",
    "visits['activity_month'] = visits['start_ts'].astype('datetime64[M]')"
   ]
  },
  {
   "cell_type": "code",
   "execution_count": 35,
   "metadata": {},
   "outputs": [],
   "source": [
    "#Найдем lifetime («время жизни») для каждого события, преобразуем тип данных в число месяцев, прошедших между датами\n",
    "visits['lifetime'] = round((visits['activity_month'] - visits['first_activity_month'])/np.timedelta64(1,'M')).astype('int')"
   ]
  },
  {
   "cell_type": "code",
   "execution_count": 36,
   "metadata": {},
   "outputs": [],
   "source": [
    "#Создадим новый датафрейм со столбцами first_activity_month- \n",
    "#содержит когорту, сформированную на основе месяца первой покупки \n",
    "#и lifetime — порядковый номер относительно месяца первой покупки\n",
    "cohorts = visits.groupby(['first_activity_month', 'lifetime']).agg({'uid':'nunique'}).reset_index()"
   ]
  },
  {
   "cell_type": "code",
   "execution_count": 37,
   "metadata": {},
   "outputs": [],
   "source": [
    "#Сгруппируем новую таблицу users_count, \n",
    "#в которой для каждой когорты будет отображено число пользователей на нулевую неделю lifetime.\n",
    "users_count = cohorts[cohorts['lifetime'] == 0][['first_activity_month','uid']]"
   ]
  },
  {
   "cell_type": "code",
   "execution_count": 38,
   "metadata": {},
   "outputs": [],
   "source": [
    "users_count = users_count.rename(columns={'uid':'cohort_users'})\n"
   ]
  },
  {
   "cell_type": "code",
   "execution_count": 39,
   "metadata": {},
   "outputs": [],
   "source": [
    "#Объединим датафрейм cohorts и users_count по столбцу с месяцами когорты\n",
    "cohorts = cohorts.merge(users_count, on='first_activity_month')"
   ]
  },
  {
   "cell_type": "code",
   "execution_count": 40,
   "metadata": {},
   "outputs": [],
   "source": [
    "#Рассчитаем сколько пользователей из когорты относительно их изначального числа вернулось в последующие периоды\n",
    "cohorts['retention'] = cohorts['uid'] / cohorts['cohort_users']"
   ]
  },
  {
   "cell_type": "code",
   "execution_count": 41,
   "metadata": {},
   "outputs": [
    {
     "data": {
      "text/html": [
       "<div>\n",
       "<style scoped>\n",
       "    .dataframe tbody tr th:only-of-type {\n",
       "        vertical-align: middle;\n",
       "    }\n",
       "\n",
       "    .dataframe tbody tr th {\n",
       "        vertical-align: top;\n",
       "    }\n",
       "\n",
       "    .dataframe thead th {\n",
       "        text-align: right;\n",
       "    }\n",
       "</style>\n",
       "<table border=\"1\" class=\"dataframe\">\n",
       "  <thead>\n",
       "    <tr style=\"text-align: right;\">\n",
       "      <th>lifetime</th>\n",
       "      <th>0</th>\n",
       "      <th>1</th>\n",
       "      <th>2</th>\n",
       "      <th>3</th>\n",
       "      <th>4</th>\n",
       "      <th>5</th>\n",
       "      <th>6</th>\n",
       "      <th>7</th>\n",
       "      <th>8</th>\n",
       "      <th>9</th>\n",
       "      <th>10</th>\n",
       "      <th>11</th>\n",
       "    </tr>\n",
       "    <tr>\n",
       "      <th>first_activity_month</th>\n",
       "      <th></th>\n",
       "      <th></th>\n",
       "      <th></th>\n",
       "      <th></th>\n",
       "      <th></th>\n",
       "      <th></th>\n",
       "      <th></th>\n",
       "      <th></th>\n",
       "      <th></th>\n",
       "      <th></th>\n",
       "      <th></th>\n",
       "      <th></th>\n",
       "    </tr>\n",
       "  </thead>\n",
       "  <tbody>\n",
       "    <tr>\n",
       "      <td>2017-06-01</td>\n",
       "      <td>1.0</td>\n",
       "      <td>0.078664</td>\n",
       "      <td>0.053775</td>\n",
       "      <td>0.061392</td>\n",
       "      <td>0.068557</td>\n",
       "      <td>0.071423</td>\n",
       "      <td>0.061015</td>\n",
       "      <td>0.057772</td>\n",
       "      <td>0.052342</td>\n",
       "      <td>0.050833</td>\n",
       "      <td>0.040652</td>\n",
       "      <td>0.044951</td>\n",
       "    </tr>\n",
       "    <tr>\n",
       "      <td>2017-07-01</td>\n",
       "      <td>1.0</td>\n",
       "      <td>0.056088</td>\n",
       "      <td>0.051294</td>\n",
       "      <td>0.056164</td>\n",
       "      <td>0.058219</td>\n",
       "      <td>0.048174</td>\n",
       "      <td>0.045358</td>\n",
       "      <td>0.045738</td>\n",
       "      <td>0.038813</td>\n",
       "      <td>0.028615</td>\n",
       "      <td>0.027473</td>\n",
       "      <td>NaN</td>\n",
       "    </tr>\n",
       "    <tr>\n",
       "      <td>2017-08-01</td>\n",
       "      <td>1.0</td>\n",
       "      <td>0.076908</td>\n",
       "      <td>0.062862</td>\n",
       "      <td>0.062764</td>\n",
       "      <td>0.050093</td>\n",
       "      <td>0.044004</td>\n",
       "      <td>0.036342</td>\n",
       "      <td>0.039485</td>\n",
       "      <td>0.027895</td>\n",
       "      <td>0.026029</td>\n",
       "      <td>NaN</td>\n",
       "      <td>NaN</td>\n",
       "    </tr>\n",
       "    <tr>\n",
       "      <td>2017-09-01</td>\n",
       "      <td>1.0</td>\n",
       "      <td>0.085489</td>\n",
       "      <td>0.069205</td>\n",
       "      <td>0.050706</td>\n",
       "      <td>0.039392</td>\n",
       "      <td>0.037835</td>\n",
       "      <td>0.035860</td>\n",
       "      <td>0.024186</td>\n",
       "      <td>0.022809</td>\n",
       "      <td>NaN</td>\n",
       "      <td>NaN</td>\n",
       "      <td>NaN</td>\n",
       "    </tr>\n",
       "    <tr>\n",
       "      <td>2017-10-01</td>\n",
       "      <td>1.0</td>\n",
       "      <td>0.078608</td>\n",
       "      <td>0.052239</td>\n",
       "      <td>0.038958</td>\n",
       "      <td>0.034261</td>\n",
       "      <td>0.032221</td>\n",
       "      <td>0.021365</td>\n",
       "      <td>0.020364</td>\n",
       "      <td>NaN</td>\n",
       "      <td>NaN</td>\n",
       "      <td>NaN</td>\n",
       "      <td>NaN</td>\n",
       "    </tr>\n",
       "    <tr>\n",
       "      <td>2017-11-01</td>\n",
       "      <td>1.0</td>\n",
       "      <td>0.078281</td>\n",
       "      <td>0.044113</td>\n",
       "      <td>0.038682</td>\n",
       "      <td>0.033727</td>\n",
       "      <td>0.023415</td>\n",
       "      <td>0.021800</td>\n",
       "      <td>NaN</td>\n",
       "      <td>NaN</td>\n",
       "      <td>NaN</td>\n",
       "      <td>NaN</td>\n",
       "      <td>NaN</td>\n",
       "    </tr>\n",
       "    <tr>\n",
       "      <td>2017-12-01</td>\n",
       "      <td>1.0</td>\n",
       "      <td>0.055802</td>\n",
       "      <td>0.037993</td>\n",
       "      <td>0.031107</td>\n",
       "      <td>0.020263</td>\n",
       "      <td>0.019036</td>\n",
       "      <td>NaN</td>\n",
       "      <td>NaN</td>\n",
       "      <td>NaN</td>\n",
       "      <td>NaN</td>\n",
       "      <td>NaN</td>\n",
       "      <td>NaN</td>\n",
       "    </tr>\n",
       "    <tr>\n",
       "      <td>2018-01-01</td>\n",
       "      <td>1.0</td>\n",
       "      <td>0.059715</td>\n",
       "      <td>0.039339</td>\n",
       "      <td>0.024973</td>\n",
       "      <td>0.020244</td>\n",
       "      <td>NaN</td>\n",
       "      <td>NaN</td>\n",
       "      <td>NaN</td>\n",
       "      <td>NaN</td>\n",
       "      <td>NaN</td>\n",
       "      <td>NaN</td>\n",
       "      <td>NaN</td>\n",
       "    </tr>\n",
       "    <tr>\n",
       "      <td>2018-02-01</td>\n",
       "      <td>1.0</td>\n",
       "      <td>0.057080</td>\n",
       "      <td>0.025454</td>\n",
       "      <td>0.020093</td>\n",
       "      <td>NaN</td>\n",
       "      <td>NaN</td>\n",
       "      <td>NaN</td>\n",
       "      <td>NaN</td>\n",
       "      <td>NaN</td>\n",
       "      <td>NaN</td>\n",
       "      <td>NaN</td>\n",
       "      <td>NaN</td>\n",
       "    </tr>\n",
       "    <tr>\n",
       "      <td>2018-03-01</td>\n",
       "      <td>1.0</td>\n",
       "      <td>0.041818</td>\n",
       "      <td>0.027053</td>\n",
       "      <td>NaN</td>\n",
       "      <td>NaN</td>\n",
       "      <td>NaN</td>\n",
       "      <td>NaN</td>\n",
       "      <td>NaN</td>\n",
       "      <td>NaN</td>\n",
       "      <td>NaN</td>\n",
       "      <td>NaN</td>\n",
       "      <td>NaN</td>\n",
       "    </tr>\n",
       "    <tr>\n",
       "      <td>2018-04-01</td>\n",
       "      <td>1.0</td>\n",
       "      <td>0.048380</td>\n",
       "      <td>NaN</td>\n",
       "      <td>NaN</td>\n",
       "      <td>NaN</td>\n",
       "      <td>NaN</td>\n",
       "      <td>NaN</td>\n",
       "      <td>NaN</td>\n",
       "      <td>NaN</td>\n",
       "      <td>NaN</td>\n",
       "      <td>NaN</td>\n",
       "      <td>NaN</td>\n",
       "    </tr>\n",
       "    <tr>\n",
       "      <td>2018-05-01</td>\n",
       "      <td>1.0</td>\n",
       "      <td>NaN</td>\n",
       "      <td>NaN</td>\n",
       "      <td>NaN</td>\n",
       "      <td>NaN</td>\n",
       "      <td>NaN</td>\n",
       "      <td>NaN</td>\n",
       "      <td>NaN</td>\n",
       "      <td>NaN</td>\n",
       "      <td>NaN</td>\n",
       "      <td>NaN</td>\n",
       "      <td>NaN</td>\n",
       "    </tr>\n",
       "  </tbody>\n",
       "</table>\n",
       "</div>"
      ],
      "text/plain": [
       "lifetime               0         1         2         3         4         5   \\\n",
       "first_activity_month                                                          \n",
       "2017-06-01            1.0  0.078664  0.053775  0.061392  0.068557  0.071423   \n",
       "2017-07-01            1.0  0.056088  0.051294  0.056164  0.058219  0.048174   \n",
       "2017-08-01            1.0  0.076908  0.062862  0.062764  0.050093  0.044004   \n",
       "2017-09-01            1.0  0.085489  0.069205  0.050706  0.039392  0.037835   \n",
       "2017-10-01            1.0  0.078608  0.052239  0.038958  0.034261  0.032221   \n",
       "2017-11-01            1.0  0.078281  0.044113  0.038682  0.033727  0.023415   \n",
       "2017-12-01            1.0  0.055802  0.037993  0.031107  0.020263  0.019036   \n",
       "2018-01-01            1.0  0.059715  0.039339  0.024973  0.020244       NaN   \n",
       "2018-02-01            1.0  0.057080  0.025454  0.020093       NaN       NaN   \n",
       "2018-03-01            1.0  0.041818  0.027053       NaN       NaN       NaN   \n",
       "2018-04-01            1.0  0.048380       NaN       NaN       NaN       NaN   \n",
       "2018-05-01            1.0       NaN       NaN       NaN       NaN       NaN   \n",
       "\n",
       "lifetime                    6         7         8         9         10  \\\n",
       "first_activity_month                                                     \n",
       "2017-06-01            0.061015  0.057772  0.052342  0.050833  0.040652   \n",
       "2017-07-01            0.045358  0.045738  0.038813  0.028615  0.027473   \n",
       "2017-08-01            0.036342  0.039485  0.027895  0.026029       NaN   \n",
       "2017-09-01            0.035860  0.024186  0.022809       NaN       NaN   \n",
       "2017-10-01            0.021365  0.020364       NaN       NaN       NaN   \n",
       "2017-11-01            0.021800       NaN       NaN       NaN       NaN   \n",
       "2017-12-01                 NaN       NaN       NaN       NaN       NaN   \n",
       "2018-01-01                 NaN       NaN       NaN       NaN       NaN   \n",
       "2018-02-01                 NaN       NaN       NaN       NaN       NaN   \n",
       "2018-03-01                 NaN       NaN       NaN       NaN       NaN   \n",
       "2018-04-01                 NaN       NaN       NaN       NaN       NaN   \n",
       "2018-05-01                 NaN       NaN       NaN       NaN       NaN   \n",
       "\n",
       "lifetime                    11  \n",
       "first_activity_month            \n",
       "2017-06-01            0.044951  \n",
       "2017-07-01                 NaN  \n",
       "2017-08-01                 NaN  \n",
       "2017-09-01                 NaN  \n",
       "2017-10-01                 NaN  \n",
       "2017-11-01                 NaN  \n",
       "2017-12-01                 NaN  \n",
       "2018-01-01                 NaN  \n",
       "2018-02-01                 NaN  \n",
       "2018-03-01                 NaN  \n",
       "2018-04-01                 NaN  \n",
       "2018-05-01                 NaN  "
      ]
     },
     "execution_count": 41,
     "metadata": {},
     "output_type": "execute_result"
    }
   ],
   "source": [
    "retention_pivot = cohorts.pivot_table(index='first_activity_month', columns='lifetime', values='retention', aggfunc='sum')\n",
    "retention_pivot"
   ]
  },
  {
   "cell_type": "code",
   "execution_count": 42,
   "metadata": {
    "scrolled": true
   },
   "outputs": [
    {
     "data": {
      "image/png": "[encoded data removed]",
      "text/plain": [
       "<Figure size 936x648 with 2 Axes>"
      ]
     },
     "metadata": {
      "needs_background": "light"
     },
     "output_type": "display_data"
    }
   ],
   "source": [
    "plt.figure(figsize=(13, 9))\n",
    "plt.title='Когортный анализ'\n",
    "sns.heatmap(retention_pivot, annot=True, fmt='.1%', linewidths=1, linecolor='gray')\n",
    "plt.show()"
   ]
  },
  {
   "cell_type": "markdown",
   "metadata": {},
   "source": [
    "Исходя из приведенных данных тенденция невозврата пользователей прослеживается в каждой отдельной когорте что в целом представляет единую тенденцию"
   ]
  },
  {
   "cell_type": "markdown",
   "metadata": {},
   "source": [
    "## <span style=\"color:red\">ДОПОЛНЕНИЕ</span>\n",
    "Процент возврата невелик, имеет тенденцию к понижению, что составляет в среднем трехкратное снижение возврата пользователей"
   ]
  },
  {
   "cell_type": "markdown",
   "metadata": {},
   "source": [
    "## Продажи\n",
    "- Когда люди начинают покупать?\n",
    "- Сколько раз покупают за период?\n",
    "- Какой средний чек?\n",
    "- Сколько денег приносят? (LTV)"
   ]
  },
  {
   "cell_type": "markdown",
   "metadata": {},
   "source": [
    "#### Когда люди начинают покупать?"
   ]
  },
  {
   "cell_type": "code",
   "execution_count": 43,
   "metadata": {},
   "outputs": [],
   "source": [
    "#Создадим таблицу order_len с первым визитом и первой покупкой\n",
    "first_order_day = orders.groupby('uid').agg({'buy_ts':'min'}).rename(columns={'buy_ts':'first_order_date'}).reset_index()\n",
    "first_visit_day = visits.groupby('uid').agg({'start_ts':'min'}).rename(columns={'start_ts':'first_visit_date'}).reset_index()\n",
    "order_len = first_visit_day.merge(first_order_day, on='uid')"
   ]
  },
  {
   "cell_type": "code",
   "execution_count": 44,
   "metadata": {},
   "outputs": [],
   "source": [
    "order_len['order_day'] = order_len['first_order_date'].astype('datetime64[D]')\n",
    "order_len['session_day'] = order_len['first_visit_date'].astype('datetime64[D]')"
   ]
  },
  {
   "cell_type": "code",
   "execution_count": 45,
   "metadata": {},
   "outputs": [],
   "source": [
    "#найдем день начала покупки\n",
    "order_len['order_start'] = ((order_len['order_day']-order_len['session_day'])/np.timedelta64(1,'D')).astype('int')"
   ]
  },
  {
   "cell_type": "code",
   "execution_count": 46,
   "metadata": {},
   "outputs": [
    {
     "data": {
      "text/plain": [
       "count    36523.000000\n",
       "mean        16.895901\n",
       "std         47.071200\n",
       "min          0.000000\n",
       "25%          0.000000\n",
       "50%          0.000000\n",
       "75%          2.000000\n",
       "max        363.000000\n",
       "Name: order_start, dtype: float64"
      ]
     },
     "execution_count": 46,
     "metadata": {},
     "output_type": "execute_result"
    }
   ],
   "source": [
    "order_len['order_start'].describe()"
   ]
  },
  {
   "cell_type": "code",
   "execution_count": 47,
   "metadata": {},
   "outputs": [
    {
     "data": {
      "text/plain": [
       "<matplotlib.axes._subplots.AxesSubplot at 0x7f517a03b190>"
      ]
     },
     "execution_count": 47,
     "metadata": {},
     "output_type": "execute_result"
    },
    {
     "data": {
      "image/png": "[encoded data removed]",
      "text/plain": [
       "<Figure size 432x288 with 1 Axes>"
      ]
     },
     "metadata": {
      "needs_background": "light"
     },
     "output_type": "display_data"
    }
   ],
   "source": [
    "order_len['order_start'].hist(bins=50)"
   ]
  },
  {
   "cell_type": "markdown",
   "metadata": {},
   "source": [
    "Определенно большинство пользователей начинают совершать покупки в день первого посещения"
   ]
  },
  {
   "cell_type": "markdown",
   "metadata": {},
   "source": [
    "#### Сколько раз покупают за период?"
   ]
  },
  {
   "cell_type": "code",
   "execution_count": 48,
   "metadata": {},
   "outputs": [],
   "source": [
    "#Создадим новую таблицу с днями покупки, неделей и месяцем\n",
    "visits_orders = first_visit_day.merge(orders)\n"
   ]
  },
  {
   "cell_type": "code",
   "execution_count": 49,
   "metadata": {},
   "outputs": [],
   "source": [
    "visits_orders['buy_day']=visits_orders['buy_ts'].dt.date\n",
    "visits_orders['buy_week']=visits_orders['buy_ts'].dt.week\n",
    "visits_orders['buy_month']=visits_orders['buy_ts'].dt.month"
   ]
  },
  {
   "cell_type": "code",
   "execution_count": 50,
   "metadata": {},
   "outputs": [],
   "source": [
    "#Сколько покупок в день\n",
    "buy_per_day = visits_orders.groupby('buy_day')['uid'].count()\n"
   ]
  },
  {
   "cell_type": "code",
   "execution_count": 51,
   "metadata": {},
   "outputs": [
    {
     "data": {
      "text/plain": [
       "count    364.000000\n",
       "mean     138.502747\n",
       "std       76.858480\n",
       "min        1.000000\n",
       "25%       82.750000\n",
       "50%      136.000000\n",
       "75%      177.000000\n",
       "max      814.000000\n",
       "Name: uid, dtype: float64"
      ]
     },
     "execution_count": 51,
     "metadata": {},
     "output_type": "execute_result"
    }
   ],
   "source": [
    "buy_per_day.describe()"
   ]
  },
  {
   "cell_type": "code",
   "execution_count": 52,
   "metadata": {},
   "outputs": [
    {
     "name": "stderr",
     "output_type": "stream",
     "text": [
      "/opt/conda/lib/python3.7/site-packages/pandas/plotting/_matplotlib/converter.py:103: FutureWarning: Using an implicitly registered datetime converter for a matplotlib plotting method. The converter was registered by pandas on import. Future versions of pandas will require you to explicitly register matplotlib converters.\n",
      "\n",
      "To register the converters:\n",
      "\t>>> from pandas.plotting import register_matplotlib_converters\n",
      "\t>>> register_matplotlib_converters()\n",
      "  warnings.warn(msg, FutureWarning)\n"
     ]
    },
    {
     "data": {
      "image/png": "[encoded data removed]",
      "text/plain": [
       "<Figure size 432x288 with 1 Axes>"
      ]
     },
     "metadata": {
      "needs_background": "light"
     },
     "output_type": "display_data"
    }
   ],
   "source": [
    "plt.plot(buy_per_day)\n",
    "plt.xlim=10\n",
    "plt.grid()\n",
    "plt.show()"
   ]
  },
  {
   "cell_type": "code",
   "execution_count": 53,
   "metadata": {},
   "outputs": [
    {
     "data": {
      "text/plain": [
       "buy_week\n",
       "1     1006\n",
       "2      942\n",
       "3      991\n",
       "4     1128\n",
       "5     1442\n",
       "6     1272\n",
       "7     1368\n",
       "8     1347\n",
       "9     1252\n",
       "10    1293\n",
       "11    1007\n",
       "12    1418\n",
       "13     862\n",
       "14     733\n",
       "15     698\n",
       "16     890\n",
       "17     890\n",
       "18     547\n",
       "19     635\n",
       "20    1004\n",
       "21    1027\n",
       "22    1536\n",
       "23     938\n",
       "24     343\n",
       "25     371\n",
       "26     460\n",
       "27     477\n",
       "28     636\n",
       "29     716\n",
       "30     381\n",
       "31     314\n",
       "32     325\n",
       "33     392\n",
       "34     480\n",
       "35     588\n",
       "36     666\n",
       "37     668\n",
       "38     826\n",
       "39    1110\n",
       "40    1666\n",
       "41    1270\n",
       "42    1140\n",
       "43    1132\n",
       "44    1059\n",
       "45     919\n",
       "46    1257\n",
       "47    1894\n",
       "48    1387\n",
       "49    1520\n",
       "50    1388\n",
       "51    1184\n",
       "52    1620\n",
       "Name: uid, dtype: int64"
      ]
     },
     "execution_count": 53,
     "metadata": {},
     "output_type": "execute_result"
    }
   ],
   "source": [
    "#сколько покупок в неделю\n",
    "buy_per_week = visits_orders.groupby('buy_week')['uid'].count()\n",
    "buy_per_week"
   ]
  },
  {
   "cell_type": "code",
   "execution_count": 54,
   "metadata": {
    "scrolled": true
   },
   "outputs": [
    {
     "data": {
      "text/plain": [
       "count      52.000000\n",
       "mean      969.519231\n",
       "std       397.630457\n",
       "min       314.000000\n",
       "25%       658.500000\n",
       "50%       997.500000\n",
       "75%      1270.500000\n",
       "max      1894.000000\n",
       "Name: uid, dtype: float64"
      ]
     },
     "execution_count": 54,
     "metadata": {},
     "output_type": "execute_result"
    }
   ],
   "source": [
    "buy_per_week.describe()"
   ]
  },
  {
   "cell_type": "code",
   "execution_count": 55,
   "metadata": {},
   "outputs": [
    {
     "data": {
      "image/png": "[encoded data removed]",
      "text/plain": [
       "<Figure size 432x288 with 1 Axes>"
      ]
     },
     "metadata": {
      "needs_background": "light"
     },
     "output_type": "display_data"
    }
   ],
   "source": [
    "plt.plot(buy_per_week)\n",
    "plt.xlim=10\n",
    "plt.grid()\n",
    "plt.show()"
   ]
  },
  {
   "cell_type": "code",
   "execution_count": 56,
   "metadata": {
    "scrolled": true
   },
   "outputs": [],
   "source": [
    "#Сколько покупок в месяц\n",
    "buy_per_month = visits_orders.groupby('buy_month')['uid'].count()\n"
   ]
  },
  {
   "cell_type": "code",
   "execution_count": 57,
   "metadata": {},
   "outputs": [
    {
     "data": {
      "text/plain": [
       "<matplotlib.axes._subplots.AxesSubplot at 0x7f517a7d4990>"
      ]
     },
     "execution_count": 57,
     "metadata": {},
     "output_type": "execute_result"
    },
    {
     "data": {
      "image/png": "[encoded data removed]",
      "text/plain": [
       "<Figure size 432x288 with 1 Axes>"
      ]
     },
     "metadata": {
      "needs_background": "light"
     },
     "output_type": "display_data"
    }
   ],
   "source": [
    "buy_per_month.plot(kind='bar')"
   ]
  },
  {
   "cell_type": "code",
   "execution_count": 58,
   "metadata": {
    "scrolled": true
   },
   "outputs": [
    {
     "data": {
      "text/plain": [
       "count      12.000000\n",
       "mean     4201.250000\n",
       "std      1511.861052\n",
       "min      1807.000000\n",
       "25%      3045.500000\n",
       "50%      4533.500000\n",
       "75%      5409.250000\n",
       "max      6218.000000\n",
       "Name: uid, dtype: float64"
      ]
     },
     "execution_count": 58,
     "metadata": {},
     "output_type": "execute_result"
    }
   ],
   "source": [
    "buy_per_month.describe()"
   ]
  },
  {
   "cell_type": "markdown",
   "metadata": {},
   "source": [
    "Исходя из расчетов можно сказать что в среднем ежедневно совершается 138 покупок, но бывают дни когда за весь день происходит лишь одна сделка, а бывают и плодотворные дни когда за день проходит 814 покупок.\n",
    "Если смотреть по неделям то здесь есть недели когда за весь период лишь 314 продажи, но в среднем 970 сделок.\n",
    "Таким образом в среднем за месяц зафиксировали 4201 покупку, самые низкие показатели у августа 1807 продаж а самые высокие в декабре 6218"
   ]
  },
  {
   "cell_type": "markdown",
   "metadata": {},
   "source": [
    "## <span style=\"color:red\">ДОПОЛНЕНИЕ</span>\n",
    "Данный сервис четко показывает зависимость числа пользователей от сезонности. В летние месяцы покупок становится меньше более чем в 2 раза. Это скорее всего связано с иными возможностями проведения досуга у потребителей"
   ]
  },
  {
   "cell_type": "markdown",
   "metadata": {},
   "source": [
    "#### Какой средний чек?"
   ]
  },
  {
   "cell_type": "code",
   "execution_count": 59,
   "metadata": {},
   "outputs": [],
   "source": [
    "mean_order_month=visits_orders.groupby('buy_month').agg({'revenue':'mean'})\n"
   ]
  },
  {
   "cell_type": "code",
   "execution_count": 60,
   "metadata": {},
   "outputs": [
    {
     "data": {
      "text/plain": [
       "<matplotlib.axes._subplots.AxesSubplot at 0x7f517a763c10>"
      ]
     },
     "execution_count": 60,
     "metadata": {},
     "output_type": "execute_result"
    },
    {
     "data": {
      "image/png": "[encoded data removed]",
      "text/plain": [
       "<Figure size 432x288 with 1 Axes>"
      ]
     },
     "metadata": {
      "needs_background": "light"
     },
     "output_type": "display_data"
    }
   ],
   "source": [
    "mean_order_month.plot(kind='bar')"
   ]
  },
  {
   "cell_type": "code",
   "execution_count": 61,
   "metadata": {},
   "outputs": [
    {
     "data": {
      "text/plain": [
       "0.4991138712873802"
      ]
     },
     "execution_count": 61,
     "metadata": {},
     "output_type": "execute_result"
    }
   ],
   "source": [
    "standard_deviation = np.std(mean_order_month['revenue'])\n",
    "standard_deviation"
   ]
  },
  {
   "cell_type": "markdown",
   "metadata": {},
   "source": [
    "В декабре средний чек выше в отличии от других месяцев, январь и июнь показывают минимум. Средний чек колеблется от 4 до почти 6 у.е."
   ]
  },
  {
   "cell_type": "markdown",
   "metadata": {},
   "source": [
    "## <span style=\"color:red\">ДОПОЛНЕНИЕ</span>\n",
    "Исходя из показателей стандартного отклонения колебания среднего чека незначительны"
   ]
  },
  {
   "cell_type": "markdown",
   "metadata": {},
   "source": [
    "#### Сколько денег приносят? (LTV)"
   ]
  },
  {
   "cell_type": "markdown",
   "metadata": {},
   "source": [
    "LTV «пожизненная» ценность клиента — итоговая сумма денег, которую один клиент приносит в среднем со всех своих покупок. Найдем валовую прибыль с клиента за период."
   ]
  },
  {
   "cell_type": "code",
   "execution_count": 62,
   "metadata": {},
   "outputs": [],
   "source": [
    "#добавим столбец с месяцем покупки\n",
    "orders = orders.set_index('uid')\n",
    "orders['buy_month'] = orders['buy_ts'].astype('datetime64[M]')"
   ]
  },
  {
   "cell_type": "code",
   "execution_count": 63,
   "metadata": {},
   "outputs": [],
   "source": [
    "costs_ltv = costs.rename(columns={'dt':'n_date'})"
   ]
  },
  {
   "cell_type": "code",
   "execution_count": 64,
   "metadata": {
    "scrolled": true
   },
   "outputs": [],
   "source": [
    "# сгруппируем новую таблицу пользователей с датой первой сессии\n",
    "users=visits.groupby('uid').agg({'start_ts':'min'}).rename(columns={'start_ts':'n_dt'})\n"
   ]
  },
  {
   "cell_type": "code",
   "execution_count": 65,
   "metadata": {
    "scrolled": false
   },
   "outputs": [],
   "source": [
    "users=visits.set_index('uid').join(users)\n"
   ]
  },
  {
   "cell_type": "code",
   "execution_count": 66,
   "metadata": {},
   "outputs": [],
   "source": [
    "#из обобщенной таблицы сгруппируем новую таблицу с идентификатор рекламного источника, из которого пришел пользователь\n",
    "#уникальным id пользователя, который сделал заказ, источником и месяцем первой сессии\n",
    "users=users.query('start_ts == n_dt')\n",
    "users=users.query('start_ts == n_dt')[['n_dt', 'device','source_id']]\n",
    "users['n_date']=users['n_dt'].dt.date\n",
    "users['n_date']=users['n_date'].astype('datetime64[M]')\n"
   ]
  },
  {
   "cell_type": "code",
   "execution_count": 67,
   "metadata": {},
   "outputs": [],
   "source": [
    "users['n_month']=users['n_dt'].astype('datetime64[M]')"
   ]
  },
  {
   "cell_type": "code",
   "execution_count": 68,
   "metadata": {},
   "outputs": [],
   "source": [
    "#сгруппируем подготовительные таблицы для дальнейших расчетов\n",
    "users=users.reset_index().set_index(['source_id','n_date'])"
   ]
  },
  {
   "cell_type": "code",
   "execution_count": 69,
   "metadata": {},
   "outputs": [],
   "source": [
    "costs_ltv = costs_ltv.set_index(['source_id','n_date'])"
   ]
  },
  {
   "cell_type": "code",
   "execution_count": 70,
   "metadata": {},
   "outputs": [],
   "source": [
    "users=users.join(costs_ltv, how='left')"
   ]
  },
  {
   "cell_type": "code",
   "execution_count": 71,
   "metadata": {},
   "outputs": [],
   "source": [
    "#таблица для рассчета во сколько обходится новый клиент\n",
    "cac=(users.reset_index().groupby(['source_id','n_date']).\n",
    "     agg({'device':'count','costs':max}).rename(columns={'device':'users'}))"
   ]
  },
  {
   "cell_type": "code",
   "execution_count": 72,
   "metadata": {},
   "outputs": [],
   "source": [
    "#для расчета разделим затраты на юзеров\n",
    "cac['n_cost']=cac['costs']/cac['users']"
   ]
  },
  {
   "cell_type": "code",
   "execution_count": 73,
   "metadata": {},
   "outputs": [],
   "source": [
    "users=users.join(cac[['n_cost','users']], how='left').reset_index()"
   ]
  },
  {
   "cell_type": "code",
   "execution_count": 74,
   "metadata": {},
   "outputs": [],
   "source": [
    "#таблица для расчета суммы денег, которую один клиент приносит в среднем со всех своих покупок\n",
    "ltv=orders.join(users.set_index('uid'), how='left')[['n_month','buy_month','revenue']]"
   ]
  },
  {
   "cell_type": "code",
   "execution_count": 75,
   "metadata": {},
   "outputs": [],
   "source": [
    "#добавим в таблицу столбец с возрастом каждой когорты в месяцах\n",
    "ltv['age_month']=((ltv['buy_month']-ltv['n_month'])/np.timedelta64(1,'M')).round().astype('int')\n",
    "ltv=ltv.groupby(['n_month','age_month']).agg({'revenue':'sum'})\n",
    "ltv=ltv.pivot_table(index='n_month', columns='age_month', values='revenue', aggfunc='sum')"
   ]
  },
  {
   "cell_type": "code",
   "execution_count": 76,
   "metadata": {},
   "outputs": [
    {
     "data": {
      "text/html": [
       "<div>\n",
       "<style scoped>\n",
       "    .dataframe tbody tr th:only-of-type {\n",
       "        vertical-align: middle;\n",
       "    }\n",
       "\n",
       "    .dataframe tbody tr th {\n",
       "        vertical-align: top;\n",
       "    }\n",
       "\n",
       "    .dataframe thead th {\n",
       "        text-align: right;\n",
       "    }\n",
       "</style>\n",
       "<table border=\"1\" class=\"dataframe\">\n",
       "  <thead>\n",
       "    <tr style=\"text-align: right;\">\n",
       "      <th>age_month</th>\n",
       "      <th>0</th>\n",
       "      <th>1</th>\n",
       "      <th>2</th>\n",
       "      <th>3</th>\n",
       "      <th>4</th>\n",
       "      <th>5</th>\n",
       "      <th>6</th>\n",
       "      <th>7</th>\n",
       "      <th>8</th>\n",
       "      <th>9</th>\n",
       "      <th>10</th>\n",
       "      <th>11</th>\n",
       "    </tr>\n",
       "    <tr>\n",
       "      <th>n_month</th>\n",
       "      <th></th>\n",
       "      <th></th>\n",
       "      <th></th>\n",
       "      <th></th>\n",
       "      <th></th>\n",
       "      <th></th>\n",
       "      <th></th>\n",
       "      <th></th>\n",
       "      <th></th>\n",
       "      <th></th>\n",
       "      <th></th>\n",
       "      <th></th>\n",
       "    </tr>\n",
       "  </thead>\n",
       "  <tbody>\n",
       "    <tr>\n",
       "      <td>2017-06-01</td>\n",
       "      <td>9557.49</td>\n",
       "      <td>12222.07</td>\n",
       "      <td>13686.76</td>\n",
       "      <td>17568.85</td>\n",
       "      <td>21509.44</td>\n",
       "      <td>24333.92</td>\n",
       "      <td>27823.87</td>\n",
       "      <td>30094.68</td>\n",
       "      <td>32412.59</td>\n",
       "      <td>35894.23</td>\n",
       "      <td>38098.24</td>\n",
       "      <td>40026.05</td>\n",
       "    </tr>\n",
       "    <tr>\n",
       "      <td>2017-07-01</td>\n",
       "      <td>9874.89</td>\n",
       "      <td>10934.17</td>\n",
       "      <td>12043.07</td>\n",
       "      <td>13026.03</td>\n",
       "      <td>13873.02</td>\n",
       "      <td>14671.10</td>\n",
       "      <td>15259.10</td>\n",
       "      <td>16029.40</td>\n",
       "      <td>16753.92</td>\n",
       "      <td>17344.95</td>\n",
       "      <td>17812.11</td>\n",
       "      <td>NaN</td>\n",
       "    </tr>\n",
       "    <tr>\n",
       "      <td>2017-08-01</td>\n",
       "      <td>6234.81</td>\n",
       "      <td>7232.13</td>\n",
       "      <td>8233.48</td>\n",
       "      <td>9179.69</td>\n",
       "      <td>9989.73</td>\n",
       "      <td>10522.63</td>\n",
       "      <td>11009.28</td>\n",
       "      <td>12255.51</td>\n",
       "      <td>13086.15</td>\n",
       "      <td>13461.87</td>\n",
       "      <td>NaN</td>\n",
       "      <td>NaN</td>\n",
       "    </tr>\n",
       "    <tr>\n",
       "      <td>2017-09-01</td>\n",
       "      <td>12357.20</td>\n",
       "      <td>16057.68</td>\n",
       "      <td>18168.31</td>\n",
       "      <td>28607.24</td>\n",
       "      <td>29895.72</td>\n",
       "      <td>31805.77</td>\n",
       "      <td>32772.61</td>\n",
       "      <td>33263.99</td>\n",
       "      <td>33682.56</td>\n",
       "      <td>NaN</td>\n",
       "      <td>NaN</td>\n",
       "      <td>NaN</td>\n",
       "    </tr>\n",
       "    <tr>\n",
       "      <td>2017-10-01</td>\n",
       "      <td>18362.32</td>\n",
       "      <td>22172.15</td>\n",
       "      <td>23499.17</td>\n",
       "      <td>24557.22</td>\n",
       "      <td>25600.69</td>\n",
       "      <td>26622.88</td>\n",
       "      <td>27201.79</td>\n",
       "      <td>27857.69</td>\n",
       "      <td>NaN</td>\n",
       "      <td>NaN</td>\n",
       "      <td>NaN</td>\n",
       "      <td>NaN</td>\n",
       "    </tr>\n",
       "    <tr>\n",
       "      <td>2017-11-01</td>\n",
       "      <td>16531.79</td>\n",
       "      <td>19199.37</td>\n",
       "      <td>20542.22</td>\n",
       "      <td>21911.75</td>\n",
       "      <td>23020.49</td>\n",
       "      <td>23728.12</td>\n",
       "      <td>24426.72</td>\n",
       "      <td>NaN</td>\n",
       "      <td>NaN</td>\n",
       "      <td>NaN</td>\n",
       "      <td>NaN</td>\n",
       "      <td>NaN</td>\n",
       "    </tr>\n",
       "    <tr>\n",
       "      <td>2017-12-01</td>\n",
       "      <td>16857.00</td>\n",
       "      <td>18596.03</td>\n",
       "      <td>22794.33</td>\n",
       "      <td>27918.15</td>\n",
       "      <td>29375.72</td>\n",
       "      <td>31157.85</td>\n",
       "      <td>NaN</td>\n",
       "      <td>NaN</td>\n",
       "      <td>NaN</td>\n",
       "      <td>NaN</td>\n",
       "      <td>NaN</td>\n",
       "      <td>NaN</td>\n",
       "    </tr>\n",
       "    <tr>\n",
       "      <td>2018-01-01</td>\n",
       "      <td>10597.01</td>\n",
       "      <td>12548.71</td>\n",
       "      <td>13713.47</td>\n",
       "      <td>14019.35</td>\n",
       "      <td>14546.82</td>\n",
       "      <td>NaN</td>\n",
       "      <td>NaN</td>\n",
       "      <td>NaN</td>\n",
       "      <td>NaN</td>\n",
       "      <td>NaN</td>\n",
       "      <td>NaN</td>\n",
       "      <td>NaN</td>\n",
       "    </tr>\n",
       "    <tr>\n",
       "      <td>2018-02-01</td>\n",
       "      <td>11512.63</td>\n",
       "      <td>13497.09</td>\n",
       "      <td>14160.28</td>\n",
       "      <td>15061.29</td>\n",
       "      <td>NaN</td>\n",
       "      <td>NaN</td>\n",
       "      <td>NaN</td>\n",
       "      <td>NaN</td>\n",
       "      <td>NaN</td>\n",
       "      <td>NaN</td>\n",
       "      <td>NaN</td>\n",
       "      <td>NaN</td>\n",
       "    </tr>\n",
       "    <tr>\n",
       "      <td>2018-03-01</td>\n",
       "      <td>12011.39</td>\n",
       "      <td>12995.39</td>\n",
       "      <td>13770.16</td>\n",
       "      <td>NaN</td>\n",
       "      <td>NaN</td>\n",
       "      <td>NaN</td>\n",
       "      <td>NaN</td>\n",
       "      <td>NaN</td>\n",
       "      <td>NaN</td>\n",
       "      <td>NaN</td>\n",
       "      <td>NaN</td>\n",
       "      <td>NaN</td>\n",
       "    </tr>\n",
       "    <tr>\n",
       "      <td>2018-04-01</td>\n",
       "      <td>8043.82</td>\n",
       "      <td>9882.55</td>\n",
       "      <td>NaN</td>\n",
       "      <td>NaN</td>\n",
       "      <td>NaN</td>\n",
       "      <td>NaN</td>\n",
       "      <td>NaN</td>\n",
       "      <td>NaN</td>\n",
       "      <td>NaN</td>\n",
       "      <td>NaN</td>\n",
       "      <td>NaN</td>\n",
       "      <td>NaN</td>\n",
       "    </tr>\n",
       "    <tr>\n",
       "      <td>2018-05-01</td>\n",
       "      <td>10368.11</td>\n",
       "      <td>10371.53</td>\n",
       "      <td>NaN</td>\n",
       "      <td>NaN</td>\n",
       "      <td>NaN</td>\n",
       "      <td>NaN</td>\n",
       "      <td>NaN</td>\n",
       "      <td>NaN</td>\n",
       "      <td>NaN</td>\n",
       "      <td>NaN</td>\n",
       "      <td>NaN</td>\n",
       "      <td>NaN</td>\n",
       "    </tr>\n",
       "  </tbody>\n",
       "</table>\n",
       "</div>"
      ],
      "text/plain": [
       "age_month         0         1         2         3         4         5   \\\n",
       "n_month                                                                  \n",
       "2017-06-01   9557.49  12222.07  13686.76  17568.85  21509.44  24333.92   \n",
       "2017-07-01   9874.89  10934.17  12043.07  13026.03  13873.02  14671.10   \n",
       "2017-08-01   6234.81   7232.13   8233.48   9179.69   9989.73  10522.63   \n",
       "2017-09-01  12357.20  16057.68  18168.31  28607.24  29895.72  31805.77   \n",
       "2017-10-01  18362.32  22172.15  23499.17  24557.22  25600.69  26622.88   \n",
       "2017-11-01  16531.79  19199.37  20542.22  21911.75  23020.49  23728.12   \n",
       "2017-12-01  16857.00  18596.03  22794.33  27918.15  29375.72  31157.85   \n",
       "2018-01-01  10597.01  12548.71  13713.47  14019.35  14546.82       NaN   \n",
       "2018-02-01  11512.63  13497.09  14160.28  15061.29       NaN       NaN   \n",
       "2018-03-01  12011.39  12995.39  13770.16       NaN       NaN       NaN   \n",
       "2018-04-01   8043.82   9882.55       NaN       NaN       NaN       NaN   \n",
       "2018-05-01  10368.11  10371.53       NaN       NaN       NaN       NaN   \n",
       "\n",
       "age_month         6         7         8         9         10        11  \n",
       "n_month                                                                 \n",
       "2017-06-01  27823.87  30094.68  32412.59  35894.23  38098.24  40026.05  \n",
       "2017-07-01  15259.10  16029.40  16753.92  17344.95  17812.11       NaN  \n",
       "2017-08-01  11009.28  12255.51  13086.15  13461.87       NaN       NaN  \n",
       "2017-09-01  32772.61  33263.99  33682.56       NaN       NaN       NaN  \n",
       "2017-10-01  27201.79  27857.69       NaN       NaN       NaN       NaN  \n",
       "2017-11-01  24426.72       NaN       NaN       NaN       NaN       NaN  \n",
       "2017-12-01       NaN       NaN       NaN       NaN       NaN       NaN  \n",
       "2018-01-01       NaN       NaN       NaN       NaN       NaN       NaN  \n",
       "2018-02-01       NaN       NaN       NaN       NaN       NaN       NaN  \n",
       "2018-03-01       NaN       NaN       NaN       NaN       NaN       NaN  \n",
       "2018-04-01       NaN       NaN       NaN       NaN       NaN       NaN  \n",
       "2018-05-01       NaN       NaN       NaN       NaN       NaN       NaN  "
      ]
     },
     "execution_count": 76,
     "metadata": {},
     "output_type": "execute_result"
    }
   ],
   "source": [
    "#посчитаем накопительный LTV  после первой покупки\n",
    "ltv=ltv.cumsum(axis=1)\n",
    "ltv"
   ]
  },
  {
   "cell_type": "code",
   "execution_count": 77,
   "metadata": {},
   "outputs": [],
   "source": [
    "cohorts=(users.groupby('n_month').\n",
    "         agg({'device':'count', 'n_cost':'sum'}).rename(columns={'device':'cohort_size'}))\n"
   ]
  },
  {
   "cell_type": "code",
   "execution_count": 78,
   "metadata": {},
   "outputs": [],
   "source": [
    "ltv=cohorts[['cohort_size']].join(ltv)\n"
   ]
  },
  {
   "cell_type": "code",
   "execution_count": 79,
   "metadata": {},
   "outputs": [
    {
     "data": {
      "text/html": [
       "<div>\n",
       "<style scoped>\n",
       "    .dataframe tbody tr th:only-of-type {\n",
       "        vertical-align: middle;\n",
       "    }\n",
       "\n",
       "    .dataframe tbody tr th {\n",
       "        vertical-align: top;\n",
       "    }\n",
       "\n",
       "    .dataframe thead th {\n",
       "        text-align: right;\n",
       "    }\n",
       "</style>\n",
       "<table border=\"1\" class=\"dataframe\">\n",
       "  <thead>\n",
       "    <tr style=\"text-align: right;\">\n",
       "      <th></th>\n",
       "      <th>0</th>\n",
       "      <th>1</th>\n",
       "      <th>2</th>\n",
       "      <th>3</th>\n",
       "      <th>4</th>\n",
       "      <th>5</th>\n",
       "      <th>6</th>\n",
       "      <th>7</th>\n",
       "      <th>8</th>\n",
       "      <th>9</th>\n",
       "      <th>10</th>\n",
       "      <th>11</th>\n",
       "    </tr>\n",
       "    <tr>\n",
       "      <th>n_month</th>\n",
       "      <th></th>\n",
       "      <th></th>\n",
       "      <th></th>\n",
       "      <th></th>\n",
       "      <th></th>\n",
       "      <th></th>\n",
       "      <th></th>\n",
       "      <th></th>\n",
       "      <th></th>\n",
       "      <th></th>\n",
       "      <th></th>\n",
       "      <th></th>\n",
       "    </tr>\n",
       "  </thead>\n",
       "  <tbody>\n",
       "    <tr>\n",
       "      <td>2017-06-01</td>\n",
       "      <td>0.720830</td>\n",
       "      <td>0.921794</td>\n",
       "      <td>1.032262</td>\n",
       "      <td>1.325051</td>\n",
       "      <td>1.622252</td>\n",
       "      <td>1.835276</td>\n",
       "      <td>2.098489</td>\n",
       "      <td>2.269755</td>\n",
       "      <td>2.444573</td>\n",
       "      <td>2.707160</td>\n",
       "      <td>2.873387</td>\n",
       "      <td>3.018783</td>\n",
       "    </tr>\n",
       "    <tr>\n",
       "      <td>2017-07-01</td>\n",
       "      <td>0.751514</td>\n",
       "      <td>0.832129</td>\n",
       "      <td>0.916520</td>\n",
       "      <td>0.991326</td>\n",
       "      <td>1.055785</td>\n",
       "      <td>1.116522</td>\n",
       "      <td>1.161271</td>\n",
       "      <td>1.219893</td>\n",
       "      <td>1.275032</td>\n",
       "      <td>1.320011</td>\n",
       "      <td>1.355564</td>\n",
       "      <td>NaN</td>\n",
       "    </tr>\n",
       "    <tr>\n",
       "      <td>2017-08-01</td>\n",
       "      <td>0.612397</td>\n",
       "      <td>0.710356</td>\n",
       "      <td>0.808710</td>\n",
       "      <td>0.901649</td>\n",
       "      <td>0.981213</td>\n",
       "      <td>1.033556</td>\n",
       "      <td>1.081355</td>\n",
       "      <td>1.203763</td>\n",
       "      <td>1.285350</td>\n",
       "      <td>1.322254</td>\n",
       "      <td>NaN</td>\n",
       "      <td>NaN</td>\n",
       "    </tr>\n",
       "    <tr>\n",
       "      <td>2017-09-01</td>\n",
       "      <td>0.739775</td>\n",
       "      <td>0.961307</td>\n",
       "      <td>1.087662</td>\n",
       "      <td>1.712598</td>\n",
       "      <td>1.789734</td>\n",
       "      <td>1.904081</td>\n",
       "      <td>1.961962</td>\n",
       "      <td>1.991379</td>\n",
       "      <td>2.016437</td>\n",
       "      <td>NaN</td>\n",
       "      <td>NaN</td>\n",
       "      <td>NaN</td>\n",
       "    </tr>\n",
       "    <tr>\n",
       "      <td>2017-10-01</td>\n",
       "      <td>0.706868</td>\n",
       "      <td>0.853530</td>\n",
       "      <td>0.904614</td>\n",
       "      <td>0.945345</td>\n",
       "      <td>0.985514</td>\n",
       "      <td>1.024864</td>\n",
       "      <td>1.047149</td>\n",
       "      <td>1.072398</td>\n",
       "      <td>NaN</td>\n",
       "      <td>NaN</td>\n",
       "      <td>NaN</td>\n",
       "      <td>NaN</td>\n",
       "    </tr>\n",
       "    <tr>\n",
       "      <td>2017-11-01</td>\n",
       "      <td>0.606716</td>\n",
       "      <td>0.704616</td>\n",
       "      <td>0.753898</td>\n",
       "      <td>0.804160</td>\n",
       "      <td>0.844851</td>\n",
       "      <td>0.870821</td>\n",
       "      <td>0.896459</td>\n",
       "      <td>NaN</td>\n",
       "      <td>NaN</td>\n",
       "      <td>NaN</td>\n",
       "      <td>NaN</td>\n",
       "      <td>NaN</td>\n",
       "    </tr>\n",
       "    <tr>\n",
       "      <td>2017-12-01</td>\n",
       "      <td>0.667128</td>\n",
       "      <td>0.735952</td>\n",
       "      <td>0.902103</td>\n",
       "      <td>1.104882</td>\n",
       "      <td>1.162566</td>\n",
       "      <td>1.233095</td>\n",
       "      <td>NaN</td>\n",
       "      <td>NaN</td>\n",
       "      <td>NaN</td>\n",
       "      <td>NaN</td>\n",
       "      <td>NaN</td>\n",
       "      <td>NaN</td>\n",
       "    </tr>\n",
       "    <tr>\n",
       "      <td>2018-01-01</td>\n",
       "      <td>0.468397</td>\n",
       "      <td>0.554664</td>\n",
       "      <td>0.606147</td>\n",
       "      <td>0.619667</td>\n",
       "      <td>0.642982</td>\n",
       "      <td>NaN</td>\n",
       "      <td>NaN</td>\n",
       "      <td>NaN</td>\n",
       "      <td>NaN</td>\n",
       "      <td>NaN</td>\n",
       "      <td>NaN</td>\n",
       "      <td>NaN</td>\n",
       "    </tr>\n",
       "    <tr>\n",
       "      <td>2018-02-01</td>\n",
       "      <td>0.518657</td>\n",
       "      <td>0.608059</td>\n",
       "      <td>0.637937</td>\n",
       "      <td>0.678528</td>\n",
       "      <td>NaN</td>\n",
       "      <td>NaN</td>\n",
       "      <td>NaN</td>\n",
       "      <td>NaN</td>\n",
       "      <td>NaN</td>\n",
       "      <td>NaN</td>\n",
       "      <td>NaN</td>\n",
       "      <td>NaN</td>\n",
       "    </tr>\n",
       "    <tr>\n",
       "      <td>2018-03-01</td>\n",
       "      <td>0.583360</td>\n",
       "      <td>0.631151</td>\n",
       "      <td>0.668779</td>\n",
       "      <td>NaN</td>\n",
       "      <td>NaN</td>\n",
       "      <td>NaN</td>\n",
       "      <td>NaN</td>\n",
       "      <td>NaN</td>\n",
       "      <td>NaN</td>\n",
       "      <td>NaN</td>\n",
       "      <td>NaN</td>\n",
       "      <td>NaN</td>\n",
       "    </tr>\n",
       "    <tr>\n",
       "      <td>2018-04-01</td>\n",
       "      <td>0.512052</td>\n",
       "      <td>0.629101</td>\n",
       "      <td>NaN</td>\n",
       "      <td>NaN</td>\n",
       "      <td>NaN</td>\n",
       "      <td>NaN</td>\n",
       "      <td>NaN</td>\n",
       "      <td>NaN</td>\n",
       "      <td>NaN</td>\n",
       "      <td>NaN</td>\n",
       "      <td>NaN</td>\n",
       "      <td>NaN</td>\n",
       "    </tr>\n",
       "    <tr>\n",
       "      <td>2018-05-01</td>\n",
       "      <td>0.678852</td>\n",
       "      <td>0.679076</td>\n",
       "      <td>NaN</td>\n",
       "      <td>NaN</td>\n",
       "      <td>NaN</td>\n",
       "      <td>NaN</td>\n",
       "      <td>NaN</td>\n",
       "      <td>NaN</td>\n",
       "      <td>NaN</td>\n",
       "      <td>NaN</td>\n",
       "      <td>NaN</td>\n",
       "      <td>NaN</td>\n",
       "    </tr>\n",
       "  </tbody>\n",
       "</table>\n",
       "</div>"
      ],
      "text/plain": [
       "                  0         1         2         3         4         5   \\\n",
       "n_month                                                                  \n",
       "2017-06-01  0.720830  0.921794  1.032262  1.325051  1.622252  1.835276   \n",
       "2017-07-01  0.751514  0.832129  0.916520  0.991326  1.055785  1.116522   \n",
       "2017-08-01  0.612397  0.710356  0.808710  0.901649  0.981213  1.033556   \n",
       "2017-09-01  0.739775  0.961307  1.087662  1.712598  1.789734  1.904081   \n",
       "2017-10-01  0.706868  0.853530  0.904614  0.945345  0.985514  1.024864   \n",
       "2017-11-01  0.606716  0.704616  0.753898  0.804160  0.844851  0.870821   \n",
       "2017-12-01  0.667128  0.735952  0.902103  1.104882  1.162566  1.233095   \n",
       "2018-01-01  0.468397  0.554664  0.606147  0.619667  0.642982       NaN   \n",
       "2018-02-01  0.518657  0.608059  0.637937  0.678528       NaN       NaN   \n",
       "2018-03-01  0.583360  0.631151  0.668779       NaN       NaN       NaN   \n",
       "2018-04-01  0.512052  0.629101       NaN       NaN       NaN       NaN   \n",
       "2018-05-01  0.678852  0.679076       NaN       NaN       NaN       NaN   \n",
       "\n",
       "                  6         7         8         9         10        11  \n",
       "n_month                                                                 \n",
       "2017-06-01  2.098489  2.269755  2.444573  2.707160  2.873387  3.018783  \n",
       "2017-07-01  1.161271  1.219893  1.275032  1.320011  1.355564       NaN  \n",
       "2017-08-01  1.081355  1.203763  1.285350  1.322254       NaN       NaN  \n",
       "2017-09-01  1.961962  1.991379  2.016437       NaN       NaN       NaN  \n",
       "2017-10-01  1.047149  1.072398       NaN       NaN       NaN       NaN  \n",
       "2017-11-01  0.896459       NaN       NaN       NaN       NaN       NaN  \n",
       "2017-12-01       NaN       NaN       NaN       NaN       NaN       NaN  \n",
       "2018-01-01       NaN       NaN       NaN       NaN       NaN       NaN  \n",
       "2018-02-01       NaN       NaN       NaN       NaN       NaN       NaN  \n",
       "2018-03-01       NaN       NaN       NaN       NaN       NaN       NaN  \n",
       "2018-04-01       NaN       NaN       NaN       NaN       NaN       NaN  \n",
       "2018-05-01       NaN       NaN       NaN       NaN       NaN       NaN  "
      ]
     },
     "execution_count": 79,
     "metadata": {},
     "output_type": "execute_result"
    }
   ],
   "source": [
    "#для расчета LTV с помощью команды div разделим наши данные столбцов на cohort_size\n",
    "ltv=ltv.div(ltv['cohort_size'],axis=0).drop(columns=['cohort_size'])\n",
    "ltv"
   ]
  },
  {
   "cell_type": "code",
   "execution_count": 80,
   "metadata": {
    "scrolled": true
   },
   "outputs": [
    {
     "data": {
      "text/plain": [
       "<matplotlib.axes._subplots.AxesSubplot at 0x7f51797f6e10>"
      ]
     },
     "execution_count": 80,
     "metadata": {},
     "output_type": "execute_result"
    },
    {
     "data": {
      "image/png": "[encoded data removed]",
      "text/plain": [
       "<Figure size 936x648 with 2 Axes>"
      ]
     },
     "metadata": {
      "needs_background": "light"
     },
     "output_type": "display_data"
    }
   ],
   "source": [
    "plt.figure(figsize=(13, 9))\n",
    "plt.title='LTV'\n",
    "sns.heatmap(ltv, annot=True, fmt='.1f', linewidths=1, linecolor='gray')"
   ]
  },
  {
   "cell_type": "markdown",
   "metadata": {},
   "source": [
    "Неплохая динамика у первой и четвертой когорты, но в общем все примерно идут с одной скоростью роста"
   ]
  },
  {
   "cell_type": "markdown",
   "metadata": {},
   "source": [
    "### Маркетинг\n",
    "- Сколько денег потратили? Всего / на каждый источник / по времени\n",
    "- Сколько стоило привлечение одного покупателя из каждого источника?\n",
    "- На сколько окупились расходы? (ROI)"
   ]
  },
  {
   "cell_type": "markdown",
   "metadata": {},
   "source": [
    "#### Сколько денег потратили? Всего"
   ]
  },
  {
   "cell_type": "code",
   "execution_count": 81,
   "metadata": {},
   "outputs": [
    {
     "data": {
      "text/plain": [
       "329131.62"
      ]
     },
     "execution_count": 81,
     "metadata": {},
     "output_type": "execute_result"
    }
   ],
   "source": [
    "total_costs=costs['costs'].sum()\n",
    "total_costs"
   ]
  },
  {
   "cell_type": "markdown",
   "metadata": {},
   "source": [
    "всего потрачено на рекламу 329131.62"
   ]
  },
  {
   "cell_type": "code",
   "execution_count": 82,
   "metadata": {},
   "outputs": [],
   "source": [
    "costs['month']=costs['dt'].astype('datetime64[M]').dt.date"
   ]
  },
  {
   "cell_type": "code",
   "execution_count": 83,
   "metadata": {},
   "outputs": [],
   "source": [
    "#сгруппируем помесячно\n",
    "month_costs=costs.groupby('month')['costs'].sum()\n"
   ]
  },
  {
   "cell_type": "code",
   "execution_count": 84,
   "metadata": {},
   "outputs": [
    {
     "data": {
      "text/plain": [
       "<matplotlib.axes._subplots.AxesSubplot at 0x7f5172641bd0>"
      ]
     },
     "execution_count": 84,
     "metadata": {},
     "output_type": "execute_result"
    },
    {
     "data": {
      "image/png": "[encoded data removed]",
      "text/plain": [
       "<Figure size 432x288 with 1 Axes>"
      ]
     },
     "metadata": {
      "needs_background": "light"
     },
     "output_type": "display_data"
    }
   ],
   "source": [
    "month_costs.plot(kind='bar', title='Расходы в месяц')"
   ]
  },
  {
   "cell_type": "markdown",
   "metadata": {},
   "source": [
    "Самые высокие затраты с октября по январь"
   ]
  },
  {
   "cell_type": "code",
   "execution_count": 85,
   "metadata": {},
   "outputs": [
    {
     "data": {
      "text/plain": [
       "source_id\n",
       "1      20833.27\n",
       "2      42806.04\n",
       "3     141321.63\n",
       "4      61073.60\n",
       "5      51757.10\n",
       "9       5517.49\n",
       "10      5822.49\n",
       "Name: costs, dtype: float64"
      ]
     },
     "execution_count": 85,
     "metadata": {},
     "output_type": "execute_result"
    }
   ],
   "source": [
    "sours_costs=costs.groupby('source_id')['costs'].sum()\n",
    "sours_costs"
   ]
  },
  {
   "cell_type": "code",
   "execution_count": 86,
   "metadata": {},
   "outputs": [
    {
     "data": {
      "text/plain": [
       "<matplotlib.axes._subplots.AxesSubplot at 0x7f517a09bfd0>"
      ]
     },
     "execution_count": 86,
     "metadata": {},
     "output_type": "execute_result"
    },
    {
     "data": {
      "image/png": "[encoded data removed]",
      "text/plain": [
       "<Figure size 432x288 with 1 Axes>"
      ]
     },
     "metadata": {
      "needs_background": "light"
     },
     "output_type": "display_data"
    }
   ],
   "source": [
    "sours_costs.plot(kind='bar', title='Расходы по источникам')"
   ]
  },
  {
   "cell_type": "markdown",
   "metadata": {},
   "source": [
    "#### Сколько стоило привлечение одного покупателя из каждого источника?"
   ]
  },
  {
   "cell_type": "code",
   "execution_count": 87,
   "metadata": {},
   "outputs": [],
   "source": [
    "#из visits вычленяем uid и sours_id,  то что получилось мерджим с orders, \n",
    "# получаем таблицу, из которой группируем для каждого уникального uid каждый источник\n",
    "uid_source=visits.groupby('uid')['source_id'].mean().astype('int')\n",
    "order_source=pd.merge(orders,uid_source, on='uid').reset_index()\n",
    "source_size = order_source.groupby('source_id').agg({'uid':'nunique'})\n"
   ]
  },
  {
   "cell_type": "code",
   "execution_count": 88,
   "metadata": {},
   "outputs": [
    {
     "data": {
      "text/plain": [
       "<matplotlib.axes._subplots.AxesSubplot at 0x7f51764ec0d0>"
      ]
     },
     "execution_count": 88,
     "metadata": {},
     "output_type": "execute_result"
    },
    {
     "data": {
      "image/png": "[encoded data removed]",
      "text/plain": [
       "<Figure size 432x288 with 1 Axes>"
      ]
     },
     "metadata": {
      "needs_background": "light"
     },
     "output_type": "display_data"
    }
   ],
   "source": [
    "source_size.plot(kind='bar')"
   ]
  },
  {
   "cell_type": "code",
   "execution_count": 89,
   "metadata": {},
   "outputs": [],
   "source": [
    "#сформируем таблицу где для каждого юзера соответствует сас, идентификатор рекламного источника,\n",
    "#затраты на этот рекламный источник\n",
    "costs_sourse_total=pd.merge(sours_costs,source_size, on='source_id')\n",
    "costs_sourse_total['cac']=costs_sourse_total['costs']/costs_sourse_total['uid']\n"
   ]
  },
  {
   "cell_type": "code",
   "execution_count": 90,
   "metadata": {},
   "outputs": [],
   "source": [
    "total_orders=order_source.groupby('source_id').agg({'revenue':'sum'}).reset_index()\n",
    "roi=pd.merge(sours_costs,total_orders, on='source_id')\n",
    "roi['roi']=(roi['revenue']-roi['costs'])*100/roi['costs']"
   ]
  },
  {
   "cell_type": "code",
   "execution_count": 166,
   "metadata": {},
   "outputs": [
    {
     "data": {
      "text/html": [
       "<div>\n",
       "<style scoped>\n",
       "    .dataframe tbody tr th:only-of-type {\n",
       "        vertical-align: middle;\n",
       "    }\n",
       "\n",
       "    .dataframe tbody tr th {\n",
       "        vertical-align: top;\n",
       "    }\n",
       "\n",
       "    .dataframe thead th {\n",
       "        text-align: right;\n",
       "    }\n",
       "</style>\n",
       "<table border=\"1\" class=\"dataframe\">\n",
       "  <thead>\n",
       "    <tr style=\"text-align: right;\">\n",
       "      <th></th>\n",
       "      <th>source_id</th>\n",
       "      <th>costs</th>\n",
       "      <th>revenue</th>\n",
       "      <th>roi</th>\n",
       "    </tr>\n",
       "  </thead>\n",
       "  <tbody>\n",
       "    <tr>\n",
       "      <td>0</td>\n",
       "      <td>1</td>\n",
       "      <td>20833.27</td>\n",
       "      <td>36352.44</td>\n",
       "      <td>74.492242</td>\n",
       "    </tr>\n",
       "    <tr>\n",
       "      <td>1</td>\n",
       "      <td>2</td>\n",
       "      <td>42806.04</td>\n",
       "      <td>76215.84</td>\n",
       "      <td>78.049266</td>\n",
       "    </tr>\n",
       "    <tr>\n",
       "      <td>2</td>\n",
       "      <td>3</td>\n",
       "      <td>141321.63</td>\n",
       "      <td>58209.70</td>\n",
       "      <td>-58.810481</td>\n",
       "    </tr>\n",
       "    <tr>\n",
       "      <td>3</td>\n",
       "      <td>4</td>\n",
       "      <td>61073.60</td>\n",
       "      <td>45157.22</td>\n",
       "      <td>-26.060982</td>\n",
       "    </tr>\n",
       "    <tr>\n",
       "      <td>4</td>\n",
       "      <td>5</td>\n",
       "      <td>51757.10</td>\n",
       "      <td>25286.58</td>\n",
       "      <td>-51.143746</td>\n",
       "    </tr>\n",
       "    <tr>\n",
       "      <td>5</td>\n",
       "      <td>9</td>\n",
       "      <td>5517.49</td>\n",
       "      <td>1920.19</td>\n",
       "      <td>-65.198125</td>\n",
       "    </tr>\n",
       "    <tr>\n",
       "      <td>6</td>\n",
       "      <td>10</td>\n",
       "      <td>5822.49</td>\n",
       "      <td>2446.22</td>\n",
       "      <td>-57.986703</td>\n",
       "    </tr>\n",
       "  </tbody>\n",
       "</table>\n",
       "</div>"
      ],
      "text/plain": [
       "   source_id      costs   revenue        roi\n",
       "0          1   20833.27  36352.44  74.492242\n",
       "1          2   42806.04  76215.84  78.049266\n",
       "2          3  141321.63  58209.70 -58.810481\n",
       "3          4   61073.60  45157.22 -26.060982\n",
       "4          5   51757.10  25286.58 -51.143746\n",
       "5          9    5517.49   1920.19 -65.198125\n",
       "6         10    5822.49   2446.22 -57.986703"
      ]
     },
     "execution_count": 166,
     "metadata": {},
     "output_type": "execute_result"
    }
   ],
   "source": [
    "roi"
   ]
  },
  {
   "cell_type": "markdown",
   "metadata": {},
   "source": [
    "Лишь два источника показывают положительный результат, другие убыточные"
   ]
  },
  {
   "cell_type": "markdown",
   "metadata": {},
   "source": [
    "# ВЫВОД"
   ]
  },
  {
   "cell_type": "markdown",
   "metadata": {},
   "source": [
    "Данные по пользователям, их возврату на ресурс, а также тенденции покупок свидетельствуют, что бизнес модель вырабатывет только спонтанные вспелески продаж, без тенденции к развитию. В промежуточных выводах не прослеживается четких маркеров, манипуляции с которыми могли бы привести к устойчивому росту. Это по видимому связано с тем, что первичные действия в виде удержания клиентов (возврат пользователей) нерезультативны. Поэтому и возврат клиентов практически отсутсвует. Отсувие возврата клиентов не может обеспечить постоянный рост стабильных продаж. Таким образом, напрашивается вывод, что эта модель продаж находится в прямой зависимости от факторов или обстоятелсьтв, во время возникновения которых происходят вспелески интереса пользователей, но отсувует стабильность роста пользователей и продаж."
   ]
  },
  {
   "cell_type": "markdown",
   "metadata": {},
   "source": [
    "В глаза бросается большая текучесть, люди приходят и не возвращаются, а затраты на рекламу окупаются лишь у двух источников, значит от других надо либо отказаться либо пересмотреть условия и формат."
   ]
  },
  {
   "cell_type": "code",
   "execution_count": null,
   "metadata": {},
   "outputs": [],
   "source": []
  }
 ],
 "metadata": {
  "kernelspec": {
   "display_name": "Python 3",
   "language": "python",
   "name": "python3"
  },
  "language_info": {
   "codemirror_mode": {
    "name": "ipython",
    "version": 3
   },
   "file_extension": ".py",
   "mimetype": "text/x-python",
   "name": "python",
   "nbconvert_exporter": "python",
   "pygments_lexer": "ipython3",
   "version": "3.7.6"
  }
 },
 "nbformat": 4,
 "nbformat_minor": 2
}
