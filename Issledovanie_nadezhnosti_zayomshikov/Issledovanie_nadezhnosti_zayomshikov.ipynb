{
 "cells": [
  {
   "cell_type": "markdown",
   "metadata": {},
   "source": [
    "## Исследование надёжности заёмщиков\n",
    "\n",
    "Заказчик — кредитный отдел банка. Нужно разобраться, влияет ли семейное положение и количество детей клиента на факт погашения кредита в срок. Входные данные от банка — статистика о платёжеспособности клиентов.\n",
    "\n",
    "Результаты исследования будут учтены при построении модели **кредитного скоринга** — специальной системы, которая оценивает способность потенциального заёмщика вернуть кредит банку."
   ]
  },
  {
   "cell_type": "markdown",
   "metadata": {},
   "source": [
    "### Шаг 1. Откройте файл с данными и изучите общую информацию. "
   ]
  },
  {
   "cell_type": "code",
   "execution_count": 60,
   "metadata": {
    "scrolled": true
   },
   "outputs": [
    {
     "name": "stdout",
     "output_type": "stream",
     "text": [
      "<class 'pandas.core.frame.DataFrame'>\n",
      "RangeIndex: 21525 entries, 0 to 21524\n",
      "Data columns (total 12 columns):\n",
      "children            21525 non-null int64\n",
      "days_employed       19351 non-null float64\n",
      "dob_years           21525 non-null int64\n",
      "education           21525 non-null object\n",
      "education_id        21525 non-null int64\n",
      "family_status       21525 non-null object\n",
      "family_status_id    21525 non-null int64\n",
      "gender              21525 non-null object\n",
      "income_type         21525 non-null object\n",
      "debt                21525 non-null int64\n",
      "total_income        19351 non-null float64\n",
      "purpose             21525 non-null object\n",
      "dtypes: float64(2), int64(5), object(5)\n",
      "memory usage: 2.0+ MB\n"
     ]
    }
   ],
   "source": [
    "import pandas as pd\n",
    "data = pd.read_csv('/datasets/data.csv')\n",
    "# импортируем библиотеку pandas и прочитаем файл с данными\n",
    "data.info()\n",
    "# рассмотрим общую информацию"
   ]
  },
  {
   "cell_type": "code",
   "execution_count": 62,
   "metadata": {
    "scrolled": false
   },
   "outputs": [
    {
     "name": "stdout",
     "output_type": "stream",
     "text": [
      " 0     14149\n",
      " 1      4818\n",
      " 2      2055\n",
      " 3       330\n",
      " 20       76\n",
      "-1        47\n",
      " 4        41\n",
      " 5         9\n",
      "Name: children, dtype: int64\n",
      "-986.927316     1\n",
      "-7026.359174    1\n",
      "-4236.274243    1\n",
      "-6620.396473    1\n",
      "-1238.560080    1\n",
      "               ..\n",
      "-2849.351119    1\n",
      "-5619.328204    1\n",
      "-448.829898     1\n",
      "-1687.038672    1\n",
      "-582.538413     1\n",
      "Name: days_employed, Length: 19351, dtype: int64\n",
      "35    617\n",
      "40    609\n",
      "41    607\n",
      "34    603\n",
      "38    598\n",
      "42    597\n",
      "33    581\n",
      "39    573\n",
      "31    560\n",
      "36    555\n",
      "44    547\n",
      "29    545\n",
      "30    540\n",
      "48    538\n",
      "37    537\n",
      "50    514\n",
      "43    513\n",
      "32    510\n",
      "49    508\n",
      "28    503\n",
      "45    497\n",
      "27    493\n",
      "56    487\n",
      "52    484\n",
      "47    480\n",
      "54    479\n",
      "46    475\n",
      "58    461\n",
      "57    460\n",
      "53    459\n",
      "51    448\n",
      "59    444\n",
      "55    443\n",
      "26    408\n",
      "60    377\n",
      "25    357\n",
      "61    355\n",
      "62    352\n",
      "63    269\n",
      "64    265\n",
      "24    264\n",
      "23    254\n",
      "65    194\n",
      "66    183\n",
      "22    183\n",
      "67    167\n",
      "21    111\n",
      "0     101\n",
      "68     99\n",
      "69     85\n",
      "70     65\n",
      "71     58\n",
      "20     51\n",
      "72     33\n",
      "19     14\n",
      "73      8\n",
      "74      6\n",
      "75      1\n",
      "Name: dob_years, dtype: int64\n",
      "среднее                13750\n",
      "высшее                  4718\n",
      "СРЕДНЕЕ                  772\n",
      "Среднее                  711\n",
      "неоконченное высшее      668\n",
      "ВЫСШЕЕ                   274\n",
      "Высшее                   268\n",
      "начальное                250\n",
      "Неоконченное высшее       47\n",
      "НЕОКОНЧЕННОЕ ВЫСШЕЕ       29\n",
      "НАЧАЛЬНОЕ                 17\n",
      "Начальное                 15\n",
      "ученая степень             4\n",
      "Ученая степень             1\n",
      "УЧЕНАЯ СТЕПЕНЬ             1\n",
      "Name: education, dtype: int64\n",
      "1    15233\n",
      "0     5260\n",
      "2      744\n",
      "3      282\n",
      "4        6\n",
      "Name: education_id, dtype: int64\n",
      "женат / замужем          12380\n",
      "гражданский брак          4177\n",
      "Не женат / не замужем     2813\n",
      "в разводе                 1195\n",
      "вдовец / вдова             960\n",
      "Name: family_status, dtype: int64\n",
      "0    12380\n",
      "1     4177\n",
      "4     2813\n",
      "3     1195\n",
      "2      960\n",
      "Name: family_status_id, dtype: int64\n",
      "F      14236\n",
      "M       7288\n",
      "XNA        1\n",
      "Name: gender, dtype: int64\n",
      "сотрудник          11119\n",
      "компаньон           5085\n",
      "пенсионер           3856\n",
      "госслужащий         1459\n",
      "безработный            2\n",
      "предприниматель        2\n",
      "в декрете              1\n",
      "студент                1\n",
      "Name: income_type, dtype: int64\n",
      "0    19784\n",
      "1     1741\n",
      "Name: debt, dtype: int64\n",
      "112874.418757    1\n",
      "133912.272223    1\n",
      "182036.676828    1\n",
      "122421.963500    1\n",
      "198271.837248    1\n",
      "                ..\n",
      "133299.194693    1\n",
      "115080.782380    1\n",
      "84896.781597     1\n",
      "153838.839212    1\n",
      "150014.128510    1\n",
      "Name: total_income, Length: 19351, dtype: int64\n",
      "свадьба                                   797\n",
      "на проведение свадьбы                     777\n",
      "сыграть свадьбу                           774\n",
      "операции с недвижимостью                  676\n",
      "покупка коммерческой недвижимости         664\n",
      "операции с жильем                         653\n",
      "покупка жилья для сдачи                   653\n",
      "операции с коммерческой недвижимостью     651\n",
      "жилье                                     647\n",
      "покупка жилья                             647\n",
      "покупка жилья для семьи                   641\n",
      "строительство собственной недвижимости    635\n",
      "недвижимость                              634\n",
      "операции со своей недвижимостью           630\n",
      "строительство жилой недвижимости          626\n",
      "покупка недвижимости                      624\n",
      "строительство недвижимости                620\n",
      "покупка своего жилья                      620\n",
      "ремонт жилью                              612\n",
      "покупка жилой недвижимости                607\n",
      "на покупку своего автомобиля              505\n",
      "заняться высшим образованием              496\n",
      "автомобиль                                495\n",
      "сделка с подержанным автомобилем          489\n",
      "свой автомобиль                           480\n",
      "на покупку подержанного автомобиля        479\n",
      "автомобили                                478\n",
      "на покупку автомобиля                     472\n",
      "дополнительное образование                462\n",
      "приобретение автомобиля                   462\n",
      "сделка с автомобилем                      455\n",
      "высшее образование                        453\n",
      "образование                               447\n",
      "получение дополнительного образования     447\n",
      "получение образования                     443\n",
      "профильное образование                    436\n",
      "получение высшего образования             426\n",
      "заняться образованием                     412\n",
      "Name: purpose, dtype: int64\n"
     ]
    }
   ],
   "source": [
    "for row in data:\n",
    "    print(data[row].value_counts())\n",
    "#методом value_counts считаем количество дублей ошибок"
   ]
  },
  {
   "cell_type": "markdown",
   "metadata": {},
   "source": [
    "### Шаг 2. Предобработка данных"
   ]
  },
  {
   "cell_type": "markdown",
   "metadata": {},
   "source": [
    "### Обработка пропусков"
   ]
  },
  {
   "cell_type": "code",
   "execution_count": 63,
   "metadata": {},
   "outputs": [
    {
     "data": {
      "text/plain": [
       "children               0\n",
       "days_employed       2174\n",
       "dob_years              0\n",
       "education              0\n",
       "education_id           0\n",
       "family_status          0\n",
       "family_status_id       0\n",
       "gender                 0\n",
       "income_type            0\n",
       "debt                   0\n",
       "total_income        2174\n",
       "purpose                0\n",
       "dtype: int64"
      ]
     },
     "execution_count": 63,
     "metadata": {},
     "output_type": "execute_result"
    }
   ],
   "source": [
    "data.isnull().sum()# методом isnull.sum узнаем сколько всего недостает     "
   ]
  },
  {
   "cell_type": "code",
   "execution_count": 64,
   "metadata": {},
   "outputs": [],
   "source": [
    "data['days_employed'] = abs(data['days_employed'])\n",
    "data['days_employed'] /= 365\n",
    "# избавляемся от отрицательных значений abs модуль числа\n",
    "# переводим дни стажа в года"
   ]
  },
  {
   "cell_type": "code",
   "execution_count": 65,
   "metadata": {},
   "outputs": [],
   "source": [
    "data['gender'] = data['gender'].replace('XNA', 'F')\n",
    "# replace заменит значение XNA на Fб значение одно и не принципиально на какой из гендера его менять"
   ]
  },
  {
   "cell_type": "code",
   "execution_count": 66,
   "metadata": {},
   "outputs": [
    {
     "data": {
      "text/plain": [
       "0"
      ]
     },
     "execution_count": 66,
     "metadata": {},
     "output_type": "execute_result"
    }
   ],
   "source": [
    "data['dob_years'].min()\n",
    "# минимальное значение в возрасте"
   ]
  },
  {
   "cell_type": "code",
   "execution_count": 67,
   "metadata": {
    "scrolled": true
   },
   "outputs": [
    {
     "data": {
      "text/plain": [
       "75"
      ]
     },
     "execution_count": 67,
     "metadata": {},
     "output_type": "execute_result"
    }
   ],
   "source": [
    "data['dob_years'].max()\n",
    "# максимальное значение в возрасте"
   ]
  },
  {
   "cell_type": "code",
   "execution_count": 68,
   "metadata": {
    "scrolled": true
   },
   "outputs": [],
   "source": [
    "incommed = data.groupby('income_type')['dob_years'].median()# по каждому типу занятости ищем медиану по возрасту."
   ]
  },
  {
   "cell_type": "code",
   "execution_count": 69,
   "metadata": {
    "scrolled": false
   },
   "outputs": [
    {
     "data": {
      "text/plain": [
       "income_type\n",
       "безработный        38.0\n",
       "в декрете          39.0\n",
       "госслужащий        40.0\n",
       "компаньон          39.0\n",
       "пенсионер          60.0\n",
       "предприниматель    42.5\n",
       "сотрудник          39.0\n",
       "студент            22.0\n",
       "Name: dob_years, dtype: float64"
      ]
     },
     "execution_count": 69,
     "metadata": {},
     "output_type": "execute_result"
    }
   ],
   "source": [
    "incommed"
   ]
  },
  {
   "cell_type": "code",
   "execution_count": 70,
   "metadata": {},
   "outputs": [],
   "source": [
    "# на основании каждого типа занятости заполняем нулевые значения в возрасте на медиану\n",
    "\n",
    "data.loc[(data['income_type'] == 'безработный') & (data['dob_years'] == 0), 'dob_years'] = 38\n",
    "data.loc[(data['income_type'] == 'в декрете') & (data['dob_years'] == 0), 'dob_years'] = 39\n",
    "data.loc[(data['income_type'] == 'госслужащий') & (data['dob_years'] == 0), 'dob_years'] = 40\n",
    "data.loc[(data['income_type'] == 'компаньон') & (data['dob_years'] == 0), 'dob_years'] = 39\n",
    "data.loc[(data['income_type'] == 'пенсионер') & (data['dob_years'] == 0), 'dob_years'] = 60\n",
    "data.loc[(data['income_type'] == 'предприниматель') & (data['dob_years'] == 0), 'dob_years'] = 42.5\n",
    "data.loc[(data['income_type'] == 'сотрудник') & (data['dob_years'] == 0), 'dob_years'] = 39\n",
    "data.loc[(data['income_type'] == 'студент') & (data['dob_years'] == 0), 'dob_years'] = 22"
   ]
  },
  {
   "cell_type": "code",
   "execution_count": 71,
   "metadata": {},
   "outputs": [
    {
     "data": {
      "text/plain": [
       "0"
      ]
     },
     "execution_count": 71,
     "metadata": {},
     "output_type": "execute_result"
    }
   ],
   "source": [
    "data['dob_years'].isnull().sum()\n",
    "#проверка: вычисление суммарного количества пропусков, выявленных в таблице"
   ]
  },
  {
   "cell_type": "code",
   "execution_count": 72,
   "metadata": {},
   "outputs": [],
   "source": [
    "data['total_income'] = data['total_income'].fillna(0)\n",
    " # заменили пропуски в доходах граждан на нули"
   ]
  },
  {
   "cell_type": "code",
   "execution_count": 73,
   "metadata": {
    "scrolled": true
   },
   "outputs": [],
   "source": [
    "#для каждого из типа занятости высчитываем медиану и заменяем значения в доходах на медиану в зависимости от типа дохода\n",
    "median_s = data['total_income'][data['income_type'] == 'сотрудник'].median()\n",
    "data.loc[(data['income_type'] == 'сотрудник') & (data['total_income'] == 0),'total_income'] = median_s\n"
   ]
  },
  {
   "cell_type": "code",
   "execution_count": 74,
   "metadata": {},
   "outputs": [],
   "source": [
    "median_b = data['total_income'][data['income_type'] == 'безработный'].median()\n",
    "data.loc[(data['income_type'] == 'безработный') & (data['total_income'] == 0),'total_income'] = median_b"
   ]
  },
  {
   "cell_type": "code",
   "execution_count": 75,
   "metadata": {},
   "outputs": [],
   "source": [
    "median_d = data['total_income'][data['income_type'] == 'в декрете'].median()\n",
    "data.loc[(data['income_type'] == 'в декрете') & (data['total_income'] == 0),'total_income'] = median_d"
   ]
  },
  {
   "cell_type": "code",
   "execution_count": 76,
   "metadata": {},
   "outputs": [],
   "source": [
    "median_g = data['total_income'][data['income_type'] == 'госслужащий'].median()\n",
    "data.loc[(data['income_type'] == 'госслужащий') & (data['total_income'] == 0),'total_income'] = median_g"
   ]
  },
  {
   "cell_type": "code",
   "execution_count": 77,
   "metadata": {},
   "outputs": [],
   "source": [
    "median_k = data['total_income'][data['income_type'] == 'компаньон'].median()\n",
    "data.loc[(data['income_type'] == 'компаньон') & (data['total_income'] == 0),'total_income'] = median_k"
   ]
  },
  {
   "cell_type": "code",
   "execution_count": 78,
   "metadata": {},
   "outputs": [],
   "source": [
    "median_pr = data['total_income'][data['income_type'] == 'предприниматель'].median()\n",
    "data.loc[(data['income_type'] == 'предприниматель') & (data['total_income'] == 0),'total_income'] = median_pr\n",
    " "
   ]
  },
  {
   "cell_type": "code",
   "execution_count": 79,
   "metadata": {},
   "outputs": [],
   "source": [
    "median_st = data['total_income'][data['income_type'] == 'студент'].median()\n",
    "data.loc[(data['income_type'] == 'студент') & (data['total_income'] == 0),'total_income'] = median_st"
   ]
  },
  {
   "cell_type": "code",
   "execution_count": 80,
   "metadata": {},
   "outputs": [],
   "source": [
    "median_p = data['total_income'][data['income_type'] == 'пенсионер'].median()\n",
    "data.loc[(data['income_type'] == 'пенсионер') & (data['total_income'] == 0),'total_income'] = median_p"
   ]
  },
  {
   "cell_type": "code",
   "execution_count": 81,
   "metadata": {},
   "outputs": [],
   "source": [
    "data['children'] = data['children'].replace(20,2)\n",
    "data['children'] = data['children'].replace(-1,1)\n",
    "# заменим две ошибки в категории дети"
   ]
  },
  {
   "cell_type": "code",
   "execution_count": 82,
   "metadata": {},
   "outputs": [],
   "source": [
    "data['days_employed'] = data['days_employed'].fillna(0)\n",
    "# заменили пропуски в доходах граждан на нули"
   ]
  },
  {
   "cell_type": "code",
   "execution_count": 83,
   "metadata": {},
   "outputs": [],
   "source": [
    "# группируем данные по возрасту dob_years\n",
    "# функция принимает как параметр строку с возрастом клиентов \n",
    "#в теле объявляется переменная, ей присваивается значение row['dob_years'],\n",
    "# затем цикл if проходит по списку значений и фильтрует по группам\n",
    "\n",
    "def days_employed(row):\n",
    "    age = row['dob_years']\n",
    "    if age <= 30:\n",
    "        return '1группа'\n",
    "    if age > 30 and age <= 40:\n",
    "        return '2группа'\n",
    "    if age > 40 and age <= 55:\n",
    "        return '3группа'\n",
    "    if age > 55 and age < 80:\n",
    "        return '4группа'\n",
    "    else:\n",
    "        return '5группа'"
   ]
  },
  {
   "cell_type": "code",
   "execution_count": 84,
   "metadata": {},
   "outputs": [],
   "source": [
    "data['age_group'] = data.apply(days_employed, axis=1)\n",
    "#в таблице создаем новый столбец показывающий к какой возрастной категории относится человек"
   ]
  },
  {
   "cell_type": "code",
   "execution_count": 85,
   "metadata": {
    "scrolled": true
   },
   "outputs": [
    {
     "data": {
      "text/plain": [
       "age_group\n",
       "1группа      5.021288\n",
       "2группа     11.485743\n",
       "3группа    106.589034\n",
       "4группа    604.486033\n",
       "Name: days_employed, dtype: float64"
      ]
     },
     "execution_count": 85,
     "metadata": {},
     "output_type": "execute_result"
    }
   ],
   "source": [
    "data.groupby('age_group')['days_employed'].mean()\n",
    "#высчитываем средний стаж каждой возрастной группы граждан"
   ]
  },
  {
   "cell_type": "code",
   "execution_count": 86,
   "metadata": {},
   "outputs": [],
   "source": [
    "# группируем данные по стажу и в зависимости от принадлежности той или иной возрастной группе и заменяем нули в стаже средним значением \n",
    "\n",
    "def group(row):\n",
    "    group1 = row['age_group']\n",
    "    group2 = row['days_employed']\n",
    "    if group2 == 0 and  group1 == '1группа':\n",
    "        return 5.021288 \n",
    "   \n",
    "    if group2 == 0 and  group1 == '2группа':\n",
    "        return 11.485743\n",
    "   \n",
    "    if group2 == 0 and  group1 == '3группа':\n",
    "        return 106.589034\n",
    "    if group2 == 0 and  group1 == '4группа':\n",
    "        return 604.486033\n",
    "    else: \n",
    "        return group2\n",
    "data['days_employed'] = data.apply(group, axis=1)\n"
   ]
  },
  {
   "cell_type": "code",
   "execution_count": 87,
   "metadata": {},
   "outputs": [],
   "source": [
    "data['education'] = data['education'].str.lower() \n",
    "#приводим все значения к одному регистру"
   ]
  },
  {
   "cell_type": "code",
   "execution_count": 88,
   "metadata": {
    "scrolled": true
   },
   "outputs": [
    {
     "data": {
      "text/plain": [
       "array(['высшее', 'среднее', 'неоконченное высшее', 'начальное',\n",
       "       'ученая степень'], dtype=object)"
      ]
     },
     "execution_count": 88,
     "metadata": {},
     "output_type": "execute_result"
    }
   ],
   "source": [
    "data['education'].unique() \n",
    "# теперь мы видим 5 уникальных значений в столбце образование"
   ]
  },
  {
   "cell_type": "markdown",
   "metadata": {},
   "source": [
    "На этапе предобработки в данных обнаружились и пропуски и нулевые значения в столбцах, а также в столбце education  дубликатов, от которых мы успешно избавились. Их удаление не позволит нам провести точный анализ. Поскольку сведения о доходах,стаже, а также типах занятости важно нам сохранить для анализа, мы не удаляем все пропущенные значения, а заполняем пропущенные значения. Теперь данные таблицы корректны и удобны для работы."
   ]
  },
  {
   "cell_type": "markdown",
   "metadata": {},
   "source": []
  },
  {
   "cell_type": "markdown",
   "metadata": {},
   "source": [
    "### Замена типа данных"
   ]
  },
  {
   "cell_type": "code",
   "execution_count": 89,
   "metadata": {},
   "outputs": [
    {
     "data": {
      "text/plain": [
       "children              int64\n",
       "days_employed       float64\n",
       "dob_years           float64\n",
       "education            object\n",
       "education_id          int64\n",
       "family_status        object\n",
       "family_status_id      int64\n",
       "gender               object\n",
       "income_type          object\n",
       "debt                  int64\n",
       "total_income        float64\n",
       "purpose              object\n",
       "age_group            object\n",
       "dtype: object"
      ]
     },
     "execution_count": 89,
     "metadata": {},
     "output_type": "execute_result"
    }
   ],
   "source": [
    "data.dtypes\n",
    "#рассмотрим какие типы данных в нашей таблице"
   ]
  },
  {
   "cell_type": "code",
   "execution_count": 90,
   "metadata": {},
   "outputs": [],
   "source": [
    "data['dob_years'] = data['dob_years'].astype('int')"
   ]
  },
  {
   "cell_type": "code",
   "execution_count": 91,
   "metadata": {},
   "outputs": [],
   "source": [
    "data['total_income'] = data['total_income'].astype('int')"
   ]
  },
  {
   "cell_type": "code",
   "execution_count": 92,
   "metadata": {},
   "outputs": [],
   "source": [
    "data['days_employed'] = data['days_employed'].astype('int')"
   ]
  },
  {
   "cell_type": "markdown",
   "metadata": {},
   "source": [
    "подозрительные данные: столбцы 'days_employed', 'dob_years' и 'total_income' распознаны как строки — тип float64. Это может помешать нашим расчётам. с помощью аргумента ('int') метода astype()  переводим эти значения в целое число"
   ]
  },
  {
   "cell_type": "markdown",
   "metadata": {},
   "source": [
    "### Обработка дубликатов"
   ]
  },
  {
   "cell_type": "code",
   "execution_count": 93,
   "metadata": {},
   "outputs": [
    {
     "data": {
      "text/plain": [
       "71"
      ]
     },
     "execution_count": 93,
     "metadata": {},
     "output_type": "execute_result"
    }
   ],
   "source": [
    "data.duplicated().sum()\n",
    "# считаем количество дубликатов в наборе данных"
   ]
  },
  {
   "cell_type": "code",
   "execution_count": 94,
   "metadata": {},
   "outputs": [],
   "source": [
    "data = data.drop_duplicates().reset_index(drop=True)\n",
    "#удаляем их"
   ]
  },
  {
   "cell_type": "code",
   "execution_count": 95,
   "metadata": {
    "scrolled": true
   },
   "outputs": [
    {
     "name": "stdout",
     "output_type": "stream",
     "text": [
      "<class 'pandas.core.frame.DataFrame'>\n",
      "RangeIndex: 21454 entries, 0 to 21453\n",
      "Data columns (total 13 columns):\n",
      "children            21454 non-null int64\n",
      "days_employed       21454 non-null int64\n",
      "dob_years           21454 non-null int64\n",
      "education           21454 non-null object\n",
      "education_id        21454 non-null int64\n",
      "family_status       21454 non-null object\n",
      "family_status_id    21454 non-null int64\n",
      "gender              21454 non-null object\n",
      "income_type         21454 non-null object\n",
      "debt                21454 non-null int64\n",
      "total_income        21454 non-null int64\n",
      "purpose             21454 non-null object\n",
      "age_group           21454 non-null object\n",
      "dtypes: int64(7), object(6)\n",
      "memory usage: 2.1+ MB\n"
     ]
    }
   ],
   "source": [
    "data.info()"
   ]
  },
  {
   "cell_type": "markdown",
   "metadata": {},
   "source": [
    "### Вывод"
   ]
  },
  {
   "cell_type": "markdown",
   "metadata": {},
   "source": [
    "### Лемматизация"
   ]
  },
  {
   "cell_type": "code",
   "execution_count": 96,
   "metadata": {},
   "outputs": [],
   "source": [
    "from pymystem3 import Mystem\n",
    "m = Mystem()\n",
    "#  импортируется pymystem3"
   ]
  },
  {
   "cell_type": "code",
   "execution_count": 97,
   "metadata": {},
   "outputs": [],
   "source": [
    "def lemma_pur(purpose):\n",
    "    lemma = ' '.join(m.lemmatize(purpose))\n",
    "    return lemma\n",
    "#Лемматизируем столбец purpose"
   ]
  },
  {
   "cell_type": "code",
   "execution_count": 98,
   "metadata": {},
   "outputs": [],
   "source": [
    "data['purpose_new'] = data['purpose'].apply(lemma_pur)\n",
    "#создаем новый столбец purpose_new на основе нашей лемматизации"
   ]
  },
  {
   "cell_type": "code",
   "execution_count": 99,
   "metadata": {},
   "outputs": [
    {
     "data": {
      "text/plain": [
       "array(['покупка   жилье \\n', 'приобретение   автомобиль \\n',\n",
       "       'дополнительный   образование \\n', 'сыграть   свадьба \\n',\n",
       "       'операция   с   жилье \\n', 'образование \\n',\n",
       "       'на   проведение   свадьба \\n', 'покупка   жилье   для   семья \\n',\n",
       "       'покупка   недвижимость \\n',\n",
       "       'покупка   коммерческий   недвижимость \\n',\n",
       "       'покупка   жилой   недвижимость \\n',\n",
       "       'строительство   собственный   недвижимость \\n', 'недвижимость \\n',\n",
       "       'строительство   недвижимость \\n',\n",
       "       'на   покупка   подержать   автомобиль \\n',\n",
       "       'на   покупка   свой   автомобиль \\n',\n",
       "       'операция   с   коммерческий   недвижимость \\n',\n",
       "       'строительство   жилой   недвижимость \\n', 'жилье \\n',\n",
       "       'операция   со   свой   недвижимость \\n', 'автомобиль \\n',\n",
       "       'заниматься   образование \\n',\n",
       "       'сделка   с   подержанный   автомобиль \\n',\n",
       "       'получение   образование \\n', 'свадьба \\n',\n",
       "       'получение   дополнительный   образование \\n',\n",
       "       'покупка   свой   жилье \\n', 'операция   с   недвижимость \\n',\n",
       "       'получение   высокий   образование \\n', 'свой   автомобиль \\n',\n",
       "       'сделка   с   автомобиль \\n', 'профильный   образование \\n',\n",
       "       'высокий   образование \\n', 'покупка   жилье   для   сдача \\n',\n",
       "       'на   покупка   автомобиль \\n', 'ремонт   жилье \\n',\n",
       "       'заниматься   высокий   образование \\n'], dtype=object)"
      ]
     },
     "execution_count": 99,
     "metadata": {},
     "output_type": "execute_result"
    }
   ],
   "source": [
    "data['purpose_new'].unique()"
   ]
  },
  {
   "cell_type": "markdown",
   "metadata": {},
   "source": [
    "### Категоризация данных"
   ]
  },
  {
   "cell_type": "code",
   "execution_count": 100,
   "metadata": {},
   "outputs": [],
   "source": [
    "# группируем данные по доходу  в зависимости от суммы их дохода \n",
    "def total_group(row):\n",
    "    income = row['total_income']\n",
    "    if income <= 55000:\n",
    "        return 'доход 15-55'\n",
    "    if income > 55 and income <= 120000:\n",
    "        return 'доход 55-120'\n",
    "    if income > 120000 and income <= 200000:\n",
    "        return 'доход 120-200'\n",
    "    else:\n",
    "        return 'доход больше 200'"
   ]
  },
  {
   "cell_type": "code",
   "execution_count": 101,
   "metadata": {},
   "outputs": [],
   "source": [
    "data['income_group'] = data.apply(total_group, axis=1)\n",
    "#создадим столбец содержащий принадлежность данного лица к той или иной группе "
   ]
  },
  {
   "cell_type": "code",
   "execution_count": 102,
   "metadata": {},
   "outputs": [],
   "source": [
    "#создадим новый столбец с категориями целей кредита\n",
    "def purpose_category(list):\n",
    "     if 'автомобиль' in list:\n",
    "        return 'автомобиль'\n",
    "     if 'недвижимость' in list:\n",
    "        return 'недвижимость'\n",
    "     if 'жилье' in list:\n",
    "        return 'жилье'\n",
    "     if 'образование' in list:\n",
    "        return 'образование'\n",
    "     if 'свадьба' in list:\n",
    "        return 'свадьба'\n",
    "     if 'строительство' in list:\n",
    "        return 'строительство'\n",
    "data['purpose_category'] = data['purpose_new'].apply(purpose_category)"
   ]
  },
  {
   "cell_type": "markdown",
   "metadata": {},
   "source": [
    "### Вывод"
   ]
  },
  {
   "cell_type": "markdown",
   "metadata": {},
   "source": [
    "В огромной таблице данных нам понадобиться определённый сегмент,нас интересуют данные по узкой возрастной категории, целям кредита, их доходы. Чтобы выделить их, мы прибегли к категоризации — объединению избранных данных в произвольные группы по заданному критерию.\n",
    "Для ответа на поставленные задачи таблица data полность готова."
   ]
  },
  {
   "cell_type": "markdown",
   "metadata": {},
   "source": [
    "### Шаг 3. Ответьте на вопросы"
   ]
  },
  {
   "cell_type": "markdown",
   "metadata": {},
   "source": [
    "- Есть ли зависимость между наличием детей и возвратом кредита в срок?"
   ]
  },
  {
   "cell_type": "code",
   "execution_count": 103,
   "metadata": {},
   "outputs": [],
   "source": [
    "data_pivot1 = data.pivot_table(index=['debt'], columns = 'children', values = 'family_status_id', aggfunc = 'count')"
   ]
  },
  {
   "cell_type": "code",
   "execution_count": 104,
   "metadata": {},
   "outputs": [],
   "source": [
    " ch0 = data_pivot1[0][1] / data_pivot1[0][0]\n",
    "ch1 = data_pivot1[1][1] / data_pivot1[1][0]\n",
    "ch2 = data_pivot1[2][1] / data_pivot1[2][0]\n",
    "ch3 = data_pivot1[3][1] / data_pivot1[3][0]\n",
    "ch4 = data_pivot1[4][1] / data_pivot1[4][0]"
   ]
  },
  {
   "cell_type": "code",
   "execution_count": 105,
   "metadata": {},
   "outputs": [
    {
     "name": "stdout",
     "output_type": "stream",
     "text": [
      "8.16% нет детей\n",
      "10.09% 1 ребенок\n",
      "10.49% 2 детей\n",
      "8.91% 3 детей\n",
      "10.81% 4 детей\n"
     ]
    }
   ],
   "source": [
    "print(\"{0:.2f}% нет детей\".format(ch0*100))\n",
    "print(\"{0:.2f}% 1 ребенок\".format(ch1*100))\n",
    "print(\"{0:.2f}% 2 детей\".format(ch2*100))\n",
    "print(\"{0:.2f}% 3 детей\".format(ch3*100))\n",
    "print(\"{0:.2f}% 4 детей\".format(ch4*100))"
   ]
  },
  {
   "cell_type": "markdown",
   "metadata": {},
   "source": [
    "### Вывод"
   ]
  },
  {
   "cell_type": "markdown",
   "metadata": {},
   "source": [
    "увеличение колличества детей в семье заемщика в среднем понижает платежную дисциплину и увеличивает риск невозврата кредита"
   ]
  },
  {
   "cell_type": "markdown",
   "metadata": {},
   "source": [
    "- Есть ли зависимость между семейным положением и возвратом кредита в срок?"
   ]
  },
  {
   "cell_type": "code",
   "execution_count": 106,
   "metadata": {},
   "outputs": [],
   "source": [
    "data_pivot2 = data.pivot_table(index=['debt'], columns = 'family_status', values = 'age_group', aggfunc = 'count') "
   ]
  },
  {
   "cell_type": "code",
   "execution_count": 107,
   "metadata": {},
   "outputs": [],
   "source": [
    "no_fam = data_pivot2['Не женат / не замужем'][1] / data_pivot2['Не женат / не замужем'][0]\n",
    "divorce = data_pivot2['в разводе'][1] / data_pivot2['в разводе'][0]\n",
    "vdow = data_pivot2['вдовец / вдова'][1] / data_pivot2['вдовец / вдова'][0]\n",
    "gr_br = data_pivot2['гражданский брак'][1] / data_pivot2['гражданский брак'][0]\n",
    "fam = data_pivot2['женат / замужем'][1] / data_pivot2['женат / замужем'][0]\n"
   ]
  },
  {
   "cell_type": "code",
   "execution_count": 108,
   "metadata": {},
   "outputs": [
    {
     "name": "stdout",
     "output_type": "stream",
     "text": [
      "10.80% Не женат / не замужем\n",
      "7.66% в разводе\n",
      "7.03% вдовец / вдова\n",
      "10.31% гражданский брак\n",
      "8.16% женат / замужем\n"
     ]
    }
   ],
   "source": [
    "print(\"{0:.2f}% Не женат / не замужем\".format(no_fam*100))\n",
    "print(\"{0:.2f}% в разводе\".format(divorce*100))\n",
    "print(\"{0:.2f}% вдовец / вдова\".format(vdow*100))\n",
    "print(\"{0:.2f}% гражданский брак\".format(gr_br*100))\n",
    "print(\"{0:.2f}% женат / замужем\".format(fam*100))"
   ]
  },
  {
   "cell_type": "markdown",
   "metadata": {},
   "source": [
    "### Вывод"
   ]
  },
  {
   "cell_type": "markdown",
   "metadata": {},
   "source": [
    "Респонденты вступавшие в брак, в том числе находящиеся в нем, обладают также повышенной ответственностью, так как имеют опыт исполнения увеличенной финансовой нагрузки при возникновении семьи"
   ]
  },
  {
   "cell_type": "markdown",
   "metadata": {},
   "source": [
    "- Есть ли зависимость между уровнем дохода и возвратом кредита в срок?"
   ]
  },
  {
   "cell_type": "code",
   "execution_count": 109,
   "metadata": {},
   "outputs": [],
   "source": [
    "data_pivot3 = data.pivot_table(index=['debt'], columns = 'income_group', values = 'age_group', aggfunc = 'count') "
   ]
  },
  {
   "cell_type": "code",
   "execution_count": 110,
   "metadata": {},
   "outputs": [],
   "source": [
    "com1 = data_pivot3['доход 15-55'][1] / data_pivot3['доход 15-55'][0]\n",
    "com2 = data_pivot3['доход 55-120'][1] / data_pivot3['доход 55-120'][0]\n",
    "com3 = data_pivot3['доход 120-200'][1] / data_pivot3['доход 120-200'][0]\n",
    "com4 = data_pivot3['доход больше 200'][1] / data_pivot3['доход больше 200'][0]"
   ]
  },
  {
   "cell_type": "code",
   "execution_count": 111,
   "metadata": {},
   "outputs": [
    {
     "name": "stdout",
     "output_type": "stream",
     "text": [
      "6.42% доход 15-55\n",
      "9.03% доход 55-120\n",
      "9.53% доход 120-200\n",
      "7.60% доход больше 200\n"
     ]
    }
   ],
   "source": [
    "print(\"{0:.2f}% доход 15-55\".format(com1*100))\n",
    "print(\"{0:.2f}% доход 55-120\".format(com2*100))\n",
    "print(\"{0:.2f}% доход 120-200\".format(com3*100))\n",
    "print(\"{0:.2f}% доход больше 200\".format(com4*100))"
   ]
  },
  {
   "cell_type": "markdown",
   "metadata": {},
   "source": [
    "### Вывод"
   ]
  },
  {
   "cell_type": "markdown",
   "metadata": {},
   "source": [
    "риск невозврата кредита имеет тенденцию к снижению у респондентов с наиболее низкими доходами и тех чей доход выше среднего"
   ]
  },
  {
   "cell_type": "markdown",
   "metadata": {},
   "source": [
    "- Как разные цели кредита влияют на его возврат в срок?"
   ]
  },
  {
   "cell_type": "code",
   "execution_count": 112,
   "metadata": {},
   "outputs": [],
   "source": [
    "data_pivot4 = data.pivot_table(index=['debt'], columns = 'purpose_category', values = 'age_group', aggfunc = 'count') "
   ]
  },
  {
   "cell_type": "code",
   "execution_count": 113,
   "metadata": {},
   "outputs": [],
   "source": [
    "cel1 = data_pivot4['недвижимость'][1] / data_pivot4['недвижимость'][0]\n",
    "cel2 = data_pivot4['образование'][1] / data_pivot4['образование'][0]\n",
    "cel3 = data_pivot4['автомобиль'][1] / data_pivot4['автомобиль'][0]\n",
    "cel4 = data_pivot4['свадьба'][1] / data_pivot4['свадьба'][0]\n",
    "cel5 = data_pivot4['жилье'][1] / data_pivot4['жилье'][0]"
   ]
  },
  {
   "cell_type": "code",
   "execution_count": 114,
   "metadata": {},
   "outputs": [
    {
     "name": "stdout",
     "output_type": "stream",
     "text": [
      "8.07% недвижимость\n",
      "10.16% образование\n",
      "10.33% автомобиль\n",
      "8.70% свадьба\n",
      "7.42% жилье\n"
     ]
    }
   ],
   "source": [
    "print(\"{0:.2f}% недвижимость\".format(cel1*100))\n",
    "print(\"{0:.2f}% образование\".format(cel2*100))\n",
    "print(\"{0:.2f}% автомобиль\".format(cel3*100))\n",
    "print(\"{0:.2f}% свадьба\".format(cel4*100))\n",
    "print(\"{0:.2f}% жилье\".format(cel5*100))"
   ]
  },
  {
   "cell_type": "markdown",
   "metadata": {},
   "source": [
    "### Шаг 4. Общий вывод"
   ]
  },
  {
   "cell_type": "markdown",
   "metadata": {},
   "source": [
    "Мотивация и причины невозврата у исследованных групп разная. Отсутствует прямая зависимость возвращаемости кредита от уровня дохода, что видно по заемщикам с высокими финансовыми возможностями. Увеличение расходов на содержание иждевенцев(детей) имеет определенное влияние, связанное с приоритетом обеспечения первоочередных нужд ребенка. Выделяется повышенная ответственность по возврату кредита у тех, кто принял обдуманное решение родить третьего ребенка, что может объяснить выделение отдельной группы родителей-заемщиков. Люди не готовые взять ответственность по Семейному Кодексу РФ, с большей долей вероятности не готовы брать ответственность и по другим обязательствам. Выбор цели кредита также определяет риск его невозвращаемости, т к кредит на автомобиль и образование зачастую берут люди, имеющие малый опыт финансовых накоплений. \n",
    "Таким образом, исходя из выборки можно сделать вывод_ что на возвращаемость кредита влияет социальный портрет заемщика, который по определенным критериям может быть отнесен к группам которые способны принять ответственное решение, не увеличивая финансовую нагрузку, способные правильно определить цель кредита.\n",
    "\n"
   ]
  }
 ],
 "metadata": {
  "kernelspec": {
   "display_name": "Python 3",
   "language": "python",
   "name": "python3"
  },
  "language_info": {
   "codemirror_mode": {
    "name": "ipython",
    "version": 3
   },
   "file_extension": ".py",
   "mimetype": "text/x-python",
   "name": "python",
   "nbconvert_exporter": "python",
   "pygments_lexer": "ipython3",
   "version": "3.7.6"
  }
 },
 "nbformat": 4,
 "nbformat_minor": 2
}
