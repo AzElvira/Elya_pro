{
 "cells": [
  {
   "cell_type": "markdown",
   "metadata": {},
   "source": [
    "# Рынок заведений общественного питания Москвы"
   ]
  },
  {
   "cell_type": "markdown",
   "metadata": {},
   "source": [
    " В Москве планируется открытие нового кафе с оригинальной идеей — гостей должны обслуживать роботы. Проект дорогой и необходимо обратиться к инвесторам. Их интересует текущее положение дел на рынке — насколько продолжительно будет популярно данное заведение?\n",
    "Требуется подготовить исследование рынка исходя из открытых данных о заведениях общественного питания в Москве."
   ]
  },
  {
   "cell_type": "markdown",
   "metadata": {},
   "source": [
    "### Загрузка данных и подготовка их к анализу"
   ]
  },
  {
   "cell_type": "code",
   "execution_count": 1,
   "metadata": {},
   "outputs": [],
   "source": [
    "import pandas as pd\n",
    "import numpy as np\n",
    "import matplotlib.pyplot as plt\n",
    "import seaborn as sns\n",
    "import pylab\n",
    "from plotly import graph_objects as go\n",
    "import requests\n",
    "import re\n",
    "import json"
   ]
  },
  {
   "cell_type": "code",
   "execution_count": 2,
   "metadata": {},
   "outputs": [],
   "source": [
    "rest = pd.read_csv('/datasets/rest_data.csv')"
   ]
  },
  {
   "cell_type": "code",
   "execution_count": 3,
   "metadata": {},
   "outputs": [
    {
     "name": "stdout",
     "output_type": "stream",
     "text": [
      "<class 'pandas.core.frame.DataFrame'>\n",
      "RangeIndex: 15366 entries, 0 to 15365\n",
      "Data columns (total 6 columns):\n",
      "id             15366 non-null int64\n",
      "object_name    15366 non-null object\n",
      "chain          15366 non-null object\n",
      "object_type    15366 non-null object\n",
      "address        15366 non-null object\n",
      "number         15366 non-null int64\n",
      "dtypes: int64(2), object(4)\n",
      "memory usage: 720.4+ KB\n"
     ]
    }
   ],
   "source": [
    "rest.info()"
   ]
  },
  {
   "cell_type": "code",
   "execution_count": 4,
   "metadata": {
    "scrolled": true
   },
   "outputs": [
    {
     "data": {
      "text/html": [
       "<div>\n",
       "<style scoped>\n",
       "    .dataframe tbody tr th:only-of-type {\n",
       "        vertical-align: middle;\n",
       "    }\n",
       "\n",
       "    .dataframe tbody tr th {\n",
       "        vertical-align: top;\n",
       "    }\n",
       "\n",
       "    .dataframe thead th {\n",
       "        text-align: right;\n",
       "    }\n",
       "</style>\n",
       "<table border=\"1\" class=\"dataframe\">\n",
       "  <thead>\n",
       "    <tr style=\"text-align: right;\">\n",
       "      <th></th>\n",
       "      <th>id</th>\n",
       "      <th>object_name</th>\n",
       "      <th>chain</th>\n",
       "      <th>object_type</th>\n",
       "      <th>address</th>\n",
       "      <th>number</th>\n",
       "    </tr>\n",
       "  </thead>\n",
       "  <tbody>\n",
       "    <tr>\n",
       "      <td>0</td>\n",
       "      <td>151635</td>\n",
       "      <td>СМЕТАНА</td>\n",
       "      <td>нет</td>\n",
       "      <td>кафе</td>\n",
       "      <td>город Москва, улица Егора Абакумова, дом 9</td>\n",
       "      <td>48</td>\n",
       "    </tr>\n",
       "    <tr>\n",
       "      <td>1</td>\n",
       "      <td>77874</td>\n",
       "      <td>Родник</td>\n",
       "      <td>нет</td>\n",
       "      <td>кафе</td>\n",
       "      <td>город Москва, улица Талалихина, дом 2/1, корпус 1</td>\n",
       "      <td>35</td>\n",
       "    </tr>\n",
       "    <tr>\n",
       "      <td>2</td>\n",
       "      <td>24309</td>\n",
       "      <td>Кафе «Академия»</td>\n",
       "      <td>нет</td>\n",
       "      <td>кафе</td>\n",
       "      <td>город Москва, Абельмановская улица, дом 6</td>\n",
       "      <td>95</td>\n",
       "    </tr>\n",
       "    <tr>\n",
       "      <td>3</td>\n",
       "      <td>21894</td>\n",
       "      <td>ПИЦЦЕТОРИЯ</td>\n",
       "      <td>да</td>\n",
       "      <td>кафе</td>\n",
       "      <td>город Москва, Абрамцевская улица, дом 1</td>\n",
       "      <td>40</td>\n",
       "    </tr>\n",
       "    <tr>\n",
       "      <td>4</td>\n",
       "      <td>119365</td>\n",
       "      <td>Кафе «Вишневая метель»</td>\n",
       "      <td>нет</td>\n",
       "      <td>кафе</td>\n",
       "      <td>город Москва, Абрамцевская улица, дом 9, корпус 1</td>\n",
       "      <td>50</td>\n",
       "    </tr>\n",
       "  </tbody>\n",
       "</table>\n",
       "</div>"
      ],
      "text/plain": [
       "       id             object_name chain object_type  \\\n",
       "0  151635                 СМЕТАНА   нет        кафе   \n",
       "1   77874                  Родник   нет        кафе   \n",
       "2   24309         Кафе «Академия»   нет        кафе   \n",
       "3   21894              ПИЦЦЕТОРИЯ    да        кафе   \n",
       "4  119365  Кафе «Вишневая метель»   нет        кафе   \n",
       "\n",
       "                                             address  number  \n",
       "0         город Москва, улица Егора Абакумова, дом 9      48  \n",
       "1  город Москва, улица Талалихина, дом 2/1, корпус 1      35  \n",
       "2          город Москва, Абельмановская улица, дом 6      95  \n",
       "3            город Москва, Абрамцевская улица, дом 1      40  \n",
       "4  город Москва, Абрамцевская улица, дом 9, корпус 1      50  "
      ]
     },
     "execution_count": 4,
     "metadata": {},
     "output_type": "execute_result"
    }
   ],
   "source": [
    "rest.head(5)"
   ]
  },
  {
   "cell_type": "code",
   "execution_count": 5,
   "metadata": {},
   "outputs": [],
   "source": [
    "#Приведем к нижнему регистру названия заведений и адреса\n",
    "rest['object_name'] = rest['object_name'].str.lower()\n",
    "rest['object_type'] = rest['object_type'].str.lower()\n",
    "rest['address'] = rest['address'].str.lower()"
   ]
  },
  {
   "cell_type": "code",
   "execution_count": 6,
   "metadata": {},
   "outputs": [
    {
     "data": {
      "text/plain": [
       "0"
      ]
     },
     "execution_count": 6,
     "metadata": {},
     "output_type": "execute_result"
    }
   ],
   "source": [
    "# проверим на дубликаты\n",
    "rest.duplicated().sum()"
   ]
  },
  {
   "cell_type": "code",
   "execution_count": 7,
   "metadata": {},
   "outputs": [
    {
     "data": {
      "text/plain": [
       "array(['да', 'нет'], dtype=object)"
      ]
     },
     "execution_count": 7,
     "metadata": {},
     "output_type": "execute_result"
    }
   ],
   "source": [
    "np.unique(rest[['chain']].values)"
   ]
  },
  {
   "cell_type": "code",
   "execution_count": 8,
   "metadata": {},
   "outputs": [
    {
     "data": {
      "text/plain": [
       "array(['бар', 'буфет', 'закусочная', 'кафе', 'кафетерий',\n",
       "       'магазин (отдел кулинарии)', 'предприятие быстрого обслуживания',\n",
       "       'ресторан', 'столовая'], dtype=object)"
      ]
     },
     "execution_count": 8,
     "metadata": {},
     "output_type": "execute_result"
    }
   ],
   "source": [
    "np.unique(rest[['object_type']].values)"
   ]
  },
  {
   "cell_type": "code",
   "execution_count": 9,
   "metadata": {},
   "outputs": [],
   "source": [
    "#длинные названия заменим на ёмкие\n",
    "rest['object_type']=rest['object_type'].str.replace('магазин \\(отдел кулинарии\\)', 'кулинария')\n",
    "rest['object_type']=rest['object_type'].str.replace('предприятие быстрого обслуживания', 'фастфуд')"
   ]
  },
  {
   "cell_type": "markdown",
   "metadata": {},
   "source": [
    "Таблица rest_data:\n",
    "\n",
    "- object_name — название объекта общественного питания;\n",
    "- chain — сетевой ресторан;\n",
    "- object_type — тип объекта общественного питания;\n",
    "- address — адрес;\n",
    "- number — количество посадочных мест.\n",
    "\n",
    "Данные полные, дубликаты отсутствуют."
   ]
  },
  {
   "cell_type": "markdown",
   "metadata": {},
   "source": [
    "### Анализ данных"
   ]
  },
  {
   "cell_type": "markdown",
   "metadata": {},
   "source": [
    "#### Исследуем соотношение видов объектов общественного питания по количеству. Построим график"
   ]
  },
  {
   "cell_type": "code",
   "execution_count": 10,
   "metadata": {},
   "outputs": [],
   "source": [
    "#сгруппируем таблицу по видам объектов и посчитаем их колличество\n",
    "count_type=rest.groupby('object_type').count().reset_index()"
   ]
  },
  {
   "cell_type": "code",
   "execution_count": 11,
   "metadata": {},
   "outputs": [
    {
     "data": {
      "image/png": "[encoded data removed]",
      "text/plain": [
       "<Figure size 432x288 with 1 Axes>"
      ]
     },
     "metadata": {
      "needs_background": "light"
     },
     "output_type": "display_data"
    }
   ],
   "source": [
    "#изобразим графически\n",
    "count_type[['object_type', 'number']].set_index('object_type').sort_values('number', ascending=False).plot(kind='bar')\n",
    "plt.xlabel('Вид объекта')\n",
    "plt.ylabel('Колличество объектов')\n",
    "plt.title('Cоотношение видов объектов общественного питания по количеству')\n",
    "plt.xticks(rotation=45)\n",
    "plt.show();"
   ]
  },
  {
   "cell_type": "code",
   "execution_count": 12,
   "metadata": {
    "scrolled": true
   },
   "outputs": [
    {
     "data": {
      "text/plain": [
       "object_type\n",
       "кулинария      273\n",
       "закусочная     360\n",
       "кафетерий      398\n",
       "буфет          585\n",
       "бар            856\n",
       "фастфуд       1923\n",
       "ресторан      2285\n",
       "столовая      2587\n",
       "кафе          6099\n",
       "Name: object_name, dtype: int64"
      ]
     },
     "execution_count": 12,
     "metadata": {},
     "output_type": "execute_result"
    }
   ],
   "source": [
    "rest.groupby('object_type')['object_name'].count().sort_values()"
   ]
  },
  {
   "cell_type": "markdown",
   "metadata": {},
   "source": [
    "Если рассматривать по типу заведений общественного питания, то привалирует кафе. Что удивительно на втором месте по популярности идут столовая, ресторан и фастфуд, хотя по колличеству их в 2-2,5 раза меньше чем кафе. Меньше всего в городе есть кулинарий и закусочных."
   ]
  },
  {
   "cell_type": "markdown",
   "metadata": {},
   "source": [
    "#### Исследуем соотношение сетевых и несетевых заведений по количеству. Построим график"
   ]
  },
  {
   "cell_type": "code",
   "execution_count": 13,
   "metadata": {},
   "outputs": [
    {
     "data": {
      "text/html": [
       "<div>\n",
       "<style scoped>\n",
       "    .dataframe tbody tr th:only-of-type {\n",
       "        vertical-align: middle;\n",
       "    }\n",
       "\n",
       "    .dataframe tbody tr th {\n",
       "        vertical-align: top;\n",
       "    }\n",
       "\n",
       "    .dataframe thead th {\n",
       "        text-align: right;\n",
       "    }\n",
       "</style>\n",
       "<table border=\"1\" class=\"dataframe\">\n",
       "  <thead>\n",
       "    <tr style=\"text-align: right;\">\n",
       "      <th></th>\n",
       "      <th>chain</th>\n",
       "      <th>object_name</th>\n",
       "    </tr>\n",
       "  </thead>\n",
       "  <tbody>\n",
       "    <tr>\n",
       "      <td>0</td>\n",
       "      <td>да</td>\n",
       "      <td>2968</td>\n",
       "    </tr>\n",
       "    <tr>\n",
       "      <td>1</td>\n",
       "      <td>нет</td>\n",
       "      <td>12398</td>\n",
       "    </tr>\n",
       "  </tbody>\n",
       "</table>\n",
       "</div>"
      ],
      "text/plain": [
       "  chain  object_name\n",
       "0    да         2968\n",
       "1   нет        12398"
      ]
     },
     "execution_count": 13,
     "metadata": {},
     "output_type": "execute_result"
    }
   ],
   "source": [
    "#построим таблицу где посчитаем сколько сетевых и несетевых заведений\n",
    "count_set=rest.groupby('chain')['object_name'].count().reset_index()\n",
    "count_set"
   ]
  },
  {
   "cell_type": "code",
   "execution_count": 14,
   "metadata": {
    "scrolled": true
   },
   "outputs": [
    {
     "data": {
      "image/png": "[encoded data removed]",
      "text/plain": [
       "<Figure size 432x288 with 1 Axes>"
      ]
     },
     "metadata": {},
     "output_type": "display_data"
    }
   ],
   "source": [
    "# рассмотрим их соотношение графически\n",
    "vals = [2968, 12398]\n",
    "labels = [\"Сеть\", \"Несетевой\"]\n",
    "explode = (0.2, 0)\n",
    "fig, ax = plt.subplots()\n",
    "ax.pie(vals, labels=labels, autopct='%1.1f%%', shadow=True, explode=explode,\\\n",
    "       wedgeprops={'lw':1, 'ls':'--','edgecolor':\"k\"}, rotatelabels=True)\n",
    "ax.axis(\"equal\");"
   ]
  },
  {
   "cell_type": "markdown",
   "metadata": {},
   "source": [
    "Несмотря на кажущееся огромное колличество сетевых заведений в Москве,их колличество в 4 раза меньше иных заведений, обслуживающих население города"
   ]
  },
  {
   "cell_type": "markdown",
   "metadata": {},
   "source": [
    "#### Для какого вида объекта общественного питания характерно сетевое распространение?"
   ]
  },
  {
   "cell_type": "code",
   "execution_count": 15,
   "metadata": {
    "scrolled": true
   },
   "outputs": [],
   "source": [
    "#построим таблицу с расчетами по объектам заведений-сетевики и несетевики\n",
    "data=rest.groupby(['object_type', 'chain'])['number'].aggregate('count').unstack()\n",
    "sett=data.sort_values('да', ascending=False)"
   ]
  },
  {
   "cell_type": "code",
   "execution_count": 16,
   "metadata": {},
   "outputs": [
    {
     "data": {
      "image/png": "[encoded data removed]",
      "text/plain": [
       "<Figure size 432x288 with 1 Axes>"
      ]
     },
     "metadata": {
      "needs_background": "light"
     },
     "output_type": "display_data"
    }
   ],
   "source": [
    "sett.plot(kind='bar',stacked=True)\n",
    "plt.title('Соотношение сетевых объектов к несетевым')\n",
    "plt.ylabel('Колличество объектов')\n",
    "plt.show();"
   ]
  },
  {
   "cell_type": "code",
   "execution_count": 17,
   "metadata": {},
   "outputs": [
    {
     "data": {
      "image/png": "[encoded data removed]",
      "text/plain": [
       "<Figure size 432x288 with 1 Axes>"
      ]
     },
     "metadata": {
      "needs_background": "light"
     },
     "output_type": "display_data"
    }
   ],
   "source": [
    "sett.plot(kind='bar', rot=45)\n",
    "plt.title('Соотношение сетевых объектов к несетевым')\n",
    "plt.ylabel('Колличество объектов');"
   ]
  },
  {
   "cell_type": "markdown",
   "metadata": {},
   "source": [
    "Примечательно, что сетевые фастфуды незначительно отстают по колличеству от несетевых заведений быстрого питания. В целом ни один из объектов питания не является зоной влияния сетевиков. "
   ]
  },
  {
   "cell_type": "markdown",
   "metadata": {},
   "source": [
    "#### Что характерно для сетевых заведений: много заведений с небольшим числом посадочных мест в каждом или мало заведений с большим количеством посадочных мест?"
   ]
  },
  {
   "cell_type": "code",
   "execution_count": 18,
   "metadata": {},
   "outputs": [
    {
     "data": {
      "image/png": "[encoded data removed]",
      "text/plain": [
       "<Figure size 432x288 with 1 Axes>"
      ]
     },
     "metadata": {
      "needs_background": "light"
     },
     "output_type": "display_data"
    }
   ],
   "source": [
    "rest.query('chain == \"да\"')['number'].hist(bins=20)\n",
    "plt.title('График распределения числа посадочных мест')\n",
    "plt.ylabel('Колличество посадочных мест');"
   ]
  },
  {
   "cell_type": "code",
   "execution_count": 19,
   "metadata": {
    "scrolled": true
   },
   "outputs": [
    {
     "data": {
      "image/png": "[encoded data removed]",
      "text/plain": [
       "<Figure size 432x288 with 1 Axes>"
      ]
     },
     "metadata": {
      "needs_background": "light"
     },
     "output_type": "display_data"
    }
   ],
   "source": [
    "percentile_95 = np.percentile(rest.query('chain == \"да\"')['number'], 95)\n",
    "plt.ylim(0, percentile_95*1.5)\n",
    "rest.query('chain == \"да\"').boxplot(column = 'number')\n",
    "plt.show()"
   ]
  },
  {
   "cell_type": "markdown",
   "metadata": {},
   "source": [
    "Сетевые заведения имеют большее присутствие при меньшем колличестве посадочных мест по сравнению с иными заведениями общественного питания."
   ]
  },
  {
   "cell_type": "markdown",
   "metadata": {},
   "source": [
    "#### Для каждого вида объекта общественного питания опишем среднее количество посадочных мест. Какой вид предоставляет в среднем самое большое количество посадочных мест? Построим графики"
   ]
  },
  {
   "cell_type": "code",
   "execution_count": 20,
   "metadata": {},
   "outputs": [
    {
     "data": {
      "text/html": [
       "<div>\n",
       "<style scoped>\n",
       "    .dataframe tbody tr th:only-of-type {\n",
       "        vertical-align: middle;\n",
       "    }\n",
       "\n",
       "    .dataframe tbody tr th {\n",
       "        vertical-align: top;\n",
       "    }\n",
       "\n",
       "    .dataframe thead tr th {\n",
       "        text-align: left;\n",
       "    }\n",
       "\n",
       "    .dataframe thead tr:last-of-type th {\n",
       "        text-align: right;\n",
       "    }\n",
       "</style>\n",
       "<table border=\"1\" class=\"dataframe\">\n",
       "  <thead>\n",
       "    <tr>\n",
       "      <th></th>\n",
       "      <th>number</th>\n",
       "    </tr>\n",
       "    <tr>\n",
       "      <th></th>\n",
       "      <th>mean</th>\n",
       "    </tr>\n",
       "    <tr>\n",
       "      <th>object_type</th>\n",
       "      <th></th>\n",
       "    </tr>\n",
       "  </thead>\n",
       "  <tbody>\n",
       "    <tr>\n",
       "      <td>бар</td>\n",
       "      <td>43.494159</td>\n",
       "    </tr>\n",
       "    <tr>\n",
       "      <td>буфет</td>\n",
       "      <td>51.129915</td>\n",
       "    </tr>\n",
       "    <tr>\n",
       "      <td>закусочная</td>\n",
       "      <td>7.608333</td>\n",
       "    </tr>\n",
       "    <tr>\n",
       "      <td>кафе</td>\n",
       "      <td>39.716019</td>\n",
       "    </tr>\n",
       "    <tr>\n",
       "      <td>кафетерий</td>\n",
       "      <td>9.123116</td>\n",
       "    </tr>\n",
       "    <tr>\n",
       "      <td>кулинария</td>\n",
       "      <td>5.589744</td>\n",
       "    </tr>\n",
       "    <tr>\n",
       "      <td>ресторан</td>\n",
       "      <td>96.834136</td>\n",
       "    </tr>\n",
       "    <tr>\n",
       "      <td>столовая</td>\n",
       "      <td>130.246618</td>\n",
       "    </tr>\n",
       "    <tr>\n",
       "      <td>фастфуд</td>\n",
       "      <td>20.552262</td>\n",
       "    </tr>\n",
       "  </tbody>\n",
       "</table>\n",
       "</div>"
      ],
      "text/plain": [
       "                 number\n",
       "                   mean\n",
       "object_type            \n",
       "бар           43.494159\n",
       "буфет         51.129915\n",
       "закусочная     7.608333\n",
       "кафе          39.716019\n",
       "кафетерий      9.123116\n",
       "кулинария      5.589744\n",
       "ресторан      96.834136\n",
       "столовая     130.246618\n",
       "фастфуд       20.552262"
      ]
     },
     "execution_count": 20,
     "metadata": {},
     "output_type": "execute_result"
    }
   ],
   "source": [
    "#найдем среднее колличество посадочных мест каждого объекта\n",
    "data_seet = rest.pivot_table(index=['object_type'], values=['number'], aggfunc={'mean'})\n",
    "data_seet"
   ]
  },
  {
   "cell_type": "code",
   "execution_count": 21,
   "metadata": {
    "scrolled": true
   },
   "outputs": [
    {
     "data": {
      "image/png": "[encoded data removed]",
      "text/plain": [
       "<Figure size 432x288 with 1 Axes>"
      ]
     },
     "metadata": {
      "needs_background": "light"
     },
     "output_type": "display_data"
    }
   ],
   "source": [
    "ax=sns.barplot(x='object_type', y='number', data=rest)\n",
    "ax.set_xlabel('Тип объекта')\n",
    "ax.set_ylabel('Посадочные места')\n",
    "ax.set_title('Для каждого вида объекта общественного питания среднее количество посадочных мест')\n",
    "plt.xticks(rotation=45)\n",
    "plt.show();"
   ]
  },
  {
   "cell_type": "code",
   "execution_count": 22,
   "metadata": {},
   "outputs": [],
   "source": [
    "def make_box_by_category(value=None, category=None, data=None, sort=False, sort_by_column=None, title=None):\n",
    "    \"\"\"\n",
    "    value: боксплоты для каких значений строить\n",
    "    category: группирующая переменная\n",
    "    data: данные\n",
    "    sort: как сортровать\n",
    "    sort_by_column - по какому полю сортировать (либо то что в value, либо то что в category)\n",
    "    \"\"\"\n",
    "    #сортировка по медиане\n",
    "    tmp = \\\n",
    "        data\\\n",
    "        .groupby(category, as_index=False)\\\n",
    "        .agg({value:'median'})\\\n",
    "        .sort_values(by=sort_by_column, ascending=sort).reset_index()\n",
    "\n",
    "    plt.figure(figsize=(9,6))\n",
    "    sns.boxplot(x=category, y= value, data=data, showfliers=False, order=tmp[category].to_list(), \n",
    "                showmeans=True, meanprops={\"marker\":\"s\",\"markerfacecolor\":\"white\", \"markeredgecolor\":\"blue\"})\n",
    "    plt.title(title)\n",
    "    plt.grid(True)\n",
    "    plt.show()"
   ]
  },
  {
   "cell_type": "code",
   "execution_count": 23,
   "metadata": {},
   "outputs": [
    {
     "data": {
      "image/png": "[encoded data removed]",
      "text/plain": [
       "<Figure size 648x432 with 1 Axes>"
      ]
     },
     "metadata": {
      "needs_background": "light"
     },
     "output_type": "display_data"
    }
   ],
   "source": [
    "make_box_by_category(value='number', category='object_type', data=rest, sort=False, sort_by_column='number', \\\n",
    "                     title='Распределение посадочных мест для каждого типа заведения')"
   ]
  },
  {
   "cell_type": "markdown",
   "metadata": {},
   "source": [
    "<hr style=\"border: 2px solid orange;\" />"
   ]
  },
  {
   "cell_type": "markdown",
   "metadata": {},
   "source": [
    "Максимальная Обеспеченность посадочными местами имеется в столовых и ресторанах. Значительная разница в посадочных метах пристуствует во всем ином сегменте общепита."
   ]
  },
  {
   "cell_type": "markdown",
   "metadata": {},
   "source": [
    "#### Выделим в отдельный столбец информацию об улице из столбца address"
   ]
  },
  {
   "cell_type": "code",
   "execution_count": 24,
   "metadata": {},
   "outputs": [],
   "source": [
    "words = ['улица','ул','переулок','шоссе','проспект','площадь','проезд',\n",
    "         'село','аллея','бульвар','набережная','тупик','линия']\n",
    "\n",
    "str_pat = r\".*,\\s*\\b([^,]*?(?:{})\\b[^,]*)[,$]+\".format(\"|\".join(words))\n",
    "\n",
    "rest['streetname'] = rest['address'].str.extract(str_pat, flags=re.I)"
   ]
  },
  {
   "cell_type": "code",
   "execution_count": 25,
   "metadata": {
    "scrolled": false
   },
   "outputs": [
    {
     "data": {
      "text/html": [
       "<div>\n",
       "<style scoped>\n",
       "    .dataframe tbody tr th:only-of-type {\n",
       "        vertical-align: middle;\n",
       "    }\n",
       "\n",
       "    .dataframe tbody tr th {\n",
       "        vertical-align: top;\n",
       "    }\n",
       "\n",
       "    .dataframe thead th {\n",
       "        text-align: right;\n",
       "    }\n",
       "</style>\n",
       "<table border=\"1\" class=\"dataframe\">\n",
       "  <thead>\n",
       "    <tr style=\"text-align: right;\">\n",
       "      <th></th>\n",
       "      <th>id</th>\n",
       "      <th>object_name</th>\n",
       "      <th>chain</th>\n",
       "      <th>object_type</th>\n",
       "      <th>address</th>\n",
       "      <th>number</th>\n",
       "      <th>streetname</th>\n",
       "    </tr>\n",
       "  </thead>\n",
       "  <tbody>\n",
       "    <tr>\n",
       "      <td>0</td>\n",
       "      <td>151635</td>\n",
       "      <td>сметана</td>\n",
       "      <td>нет</td>\n",
       "      <td>кафе</td>\n",
       "      <td>город москва, улица егора абакумова, дом 9</td>\n",
       "      <td>48</td>\n",
       "      <td>улица егора абакумова</td>\n",
       "    </tr>\n",
       "    <tr>\n",
       "      <td>1</td>\n",
       "      <td>77874</td>\n",
       "      <td>родник</td>\n",
       "      <td>нет</td>\n",
       "      <td>кафе</td>\n",
       "      <td>город москва, улица талалихина, дом 2/1, корпус 1</td>\n",
       "      <td>35</td>\n",
       "      <td>улица талалихина</td>\n",
       "    </tr>\n",
       "    <tr>\n",
       "      <td>2</td>\n",
       "      <td>24309</td>\n",
       "      <td>кафе «академия»</td>\n",
       "      <td>нет</td>\n",
       "      <td>кафе</td>\n",
       "      <td>город москва, абельмановская улица, дом 6</td>\n",
       "      <td>95</td>\n",
       "      <td>абельмановская улица</td>\n",
       "    </tr>\n",
       "    <tr>\n",
       "      <td>3</td>\n",
       "      <td>21894</td>\n",
       "      <td>пиццетория</td>\n",
       "      <td>да</td>\n",
       "      <td>кафе</td>\n",
       "      <td>город москва, абрамцевская улица, дом 1</td>\n",
       "      <td>40</td>\n",
       "      <td>абрамцевская улица</td>\n",
       "    </tr>\n",
       "    <tr>\n",
       "      <td>4</td>\n",
       "      <td>119365</td>\n",
       "      <td>кафе «вишневая метель»</td>\n",
       "      <td>нет</td>\n",
       "      <td>кафе</td>\n",
       "      <td>город москва, абрамцевская улица, дом 9, корпус 1</td>\n",
       "      <td>50</td>\n",
       "      <td>абрамцевская улица</td>\n",
       "    </tr>\n",
       "    <tr>\n",
       "      <td>...</td>\n",
       "      <td>...</td>\n",
       "      <td>...</td>\n",
       "      <td>...</td>\n",
       "      <td>...</td>\n",
       "      <td>...</td>\n",
       "      <td>...</td>\n",
       "      <td>...</td>\n",
       "    </tr>\n",
       "    <tr>\n",
       "      <td>15361</td>\n",
       "      <td>208537</td>\n",
       "      <td>шоколадница</td>\n",
       "      <td>да</td>\n",
       "      <td>кафе</td>\n",
       "      <td>город москва, 3-й крутицкий переулок, дом 18</td>\n",
       "      <td>50</td>\n",
       "      <td>3-й крутицкий переулок</td>\n",
       "    </tr>\n",
       "    <tr>\n",
       "      <td>15362</td>\n",
       "      <td>209264</td>\n",
       "      <td>шоколадница</td>\n",
       "      <td>да</td>\n",
       "      <td>кафе</td>\n",
       "      <td>город москва, улица земляной вал, дом 33</td>\n",
       "      <td>10</td>\n",
       "      <td>улица земляной вал</td>\n",
       "    </tr>\n",
       "    <tr>\n",
       "      <td>15363</td>\n",
       "      <td>209186</td>\n",
       "      <td>шоколадница</td>\n",
       "      <td>да</td>\n",
       "      <td>кафе</td>\n",
       "      <td>город москва, улица земляной вал, дом 33</td>\n",
       "      <td>20</td>\n",
       "      <td>улица земляной вал</td>\n",
       "    </tr>\n",
       "    <tr>\n",
       "      <td>15364</td>\n",
       "      <td>221900</td>\n",
       "      <td>шоколадница</td>\n",
       "      <td>да</td>\n",
       "      <td>кафе</td>\n",
       "      <td>город москва, поселение московский, киевское ш...</td>\n",
       "      <td>36</td>\n",
       "      <td>киевское шоссе</td>\n",
       "    </tr>\n",
       "    <tr>\n",
       "      <td>15365</td>\n",
       "      <td>222535</td>\n",
       "      <td>шоколадница</td>\n",
       "      <td>да</td>\n",
       "      <td>кафе</td>\n",
       "      <td>город москва, ходынский бульвар, дом 4</td>\n",
       "      <td>10</td>\n",
       "      <td>ходынский бульвар</td>\n",
       "    </tr>\n",
       "  </tbody>\n",
       "</table>\n",
       "<p>15366 rows × 7 columns</p>\n",
       "</div>"
      ],
      "text/plain": [
       "           id             object_name chain object_type  \\\n",
       "0      151635                 сметана   нет        кафе   \n",
       "1       77874                  родник   нет        кафе   \n",
       "2       24309         кафе «академия»   нет        кафе   \n",
       "3       21894              пиццетория    да        кафе   \n",
       "4      119365  кафе «вишневая метель»   нет        кафе   \n",
       "...       ...                     ...   ...         ...   \n",
       "15361  208537             шоколадница    да        кафе   \n",
       "15362  209264             шоколадница    да        кафе   \n",
       "15363  209186             шоколадница    да        кафе   \n",
       "15364  221900             шоколадница    да        кафе   \n",
       "15365  222535             шоколадница    да        кафе   \n",
       "\n",
       "                                                 address  number  \\\n",
       "0             город москва, улица егора абакумова, дом 9      48   \n",
       "1      город москва, улица талалихина, дом 2/1, корпус 1      35   \n",
       "2              город москва, абельмановская улица, дом 6      95   \n",
       "3                город москва, абрамцевская улица, дом 1      40   \n",
       "4      город москва, абрамцевская улица, дом 9, корпус 1      50   \n",
       "...                                                  ...     ...   \n",
       "15361       город москва, 3-й крутицкий переулок, дом 18      50   \n",
       "15362           город москва, улица земляной вал, дом 33      10   \n",
       "15363           город москва, улица земляной вал, дом 33      20   \n",
       "15364  город москва, поселение московский, киевское ш...      36   \n",
       "15365             город москва, ходынский бульвар, дом 4      10   \n",
       "\n",
       "                   streetname  \n",
       "0       улица егора абакумова  \n",
       "1            улица талалихина  \n",
       "2        абельмановская улица  \n",
       "3          абрамцевская улица  \n",
       "4          абрамцевская улица  \n",
       "...                       ...  \n",
       "15361  3-й крутицкий переулок  \n",
       "15362      улица земляной вал  \n",
       "15363      улица земляной вал  \n",
       "15364          киевское шоссе  \n",
       "15365       ходынский бульвар  \n",
       "\n",
       "[15366 rows x 7 columns]"
      ]
     },
     "execution_count": 25,
     "metadata": {},
     "output_type": "execute_result"
    }
   ],
   "source": [
    "rest"
   ]
  },
  {
   "cell_type": "markdown",
   "metadata": {},
   "source": [
    "#### Построим график топ-10 улиц по количеству объектов общественного питания."
   ]
  },
  {
   "cell_type": "code",
   "execution_count": 26,
   "metadata": {
    "scrolled": true
   },
   "outputs": [
    {
     "data": {
      "text/html": [
       "<div>\n",
       "<style scoped>\n",
       "    .dataframe tbody tr th:only-of-type {\n",
       "        vertical-align: middle;\n",
       "    }\n",
       "\n",
       "    .dataframe tbody tr th {\n",
       "        vertical-align: top;\n",
       "    }\n",
       "\n",
       "    .dataframe thead th {\n",
       "        text-align: right;\n",
       "    }\n",
       "</style>\n",
       "<table border=\"1\" class=\"dataframe\">\n",
       "  <thead>\n",
       "    <tr style=\"text-align: right;\">\n",
       "      <th></th>\n",
       "      <th>streetname</th>\n",
       "      <th>id</th>\n",
       "      <th>object_name</th>\n",
       "      <th>chain</th>\n",
       "      <th>object_type</th>\n",
       "      <th>address</th>\n",
       "      <th>number</th>\n",
       "    </tr>\n",
       "  </thead>\n",
       "  <tbody>\n",
       "    <tr>\n",
       "      <td>0</td>\n",
       "      <td>проспект мира</td>\n",
       "      <td>204</td>\n",
       "      <td>204</td>\n",
       "      <td>204</td>\n",
       "      <td>204</td>\n",
       "      <td>204</td>\n",
       "      <td>204</td>\n",
       "    </tr>\n",
       "    <tr>\n",
       "      <td>1</td>\n",
       "      <td>профсоюзная улица</td>\n",
       "      <td>182</td>\n",
       "      <td>182</td>\n",
       "      <td>182</td>\n",
       "      <td>182</td>\n",
       "      <td>182</td>\n",
       "      <td>182</td>\n",
       "    </tr>\n",
       "    <tr>\n",
       "      <td>2</td>\n",
       "      <td>ленинградский проспект</td>\n",
       "      <td>171</td>\n",
       "      <td>171</td>\n",
       "      <td>171</td>\n",
       "      <td>171</td>\n",
       "      <td>171</td>\n",
       "      <td>171</td>\n",
       "    </tr>\n",
       "    <tr>\n",
       "      <td>3</td>\n",
       "      <td>пресненская набережная</td>\n",
       "      <td>167</td>\n",
       "      <td>167</td>\n",
       "      <td>167</td>\n",
       "      <td>167</td>\n",
       "      <td>167</td>\n",
       "      <td>167</td>\n",
       "    </tr>\n",
       "    <tr>\n",
       "      <td>4</td>\n",
       "      <td>варшавское шоссе</td>\n",
       "      <td>164</td>\n",
       "      <td>164</td>\n",
       "      <td>164</td>\n",
       "      <td>164</td>\n",
       "      <td>164</td>\n",
       "      <td>164</td>\n",
       "    </tr>\n",
       "    <tr>\n",
       "      <td>5</td>\n",
       "      <td>ленинский проспект</td>\n",
       "      <td>147</td>\n",
       "      <td>147</td>\n",
       "      <td>147</td>\n",
       "      <td>147</td>\n",
       "      <td>147</td>\n",
       "      <td>147</td>\n",
       "    </tr>\n",
       "    <tr>\n",
       "      <td>6</td>\n",
       "      <td>проспект вернадского</td>\n",
       "      <td>132</td>\n",
       "      <td>132</td>\n",
       "      <td>132</td>\n",
       "      <td>132</td>\n",
       "      <td>132</td>\n",
       "      <td>132</td>\n",
       "    </tr>\n",
       "    <tr>\n",
       "      <td>7</td>\n",
       "      <td>кутузовский проспект</td>\n",
       "      <td>114</td>\n",
       "      <td>114</td>\n",
       "      <td>114</td>\n",
       "      <td>114</td>\n",
       "      <td>114</td>\n",
       "      <td>114</td>\n",
       "    </tr>\n",
       "    <tr>\n",
       "      <td>8</td>\n",
       "      <td>каширское шоссе</td>\n",
       "      <td>112</td>\n",
       "      <td>112</td>\n",
       "      <td>112</td>\n",
       "      <td>112</td>\n",
       "      <td>112</td>\n",
       "      <td>112</td>\n",
       "    </tr>\n",
       "    <tr>\n",
       "      <td>9</td>\n",
       "      <td>кировоградская улица</td>\n",
       "      <td>110</td>\n",
       "      <td>110</td>\n",
       "      <td>110</td>\n",
       "      <td>110</td>\n",
       "      <td>110</td>\n",
       "      <td>110</td>\n",
       "    </tr>\n",
       "  </tbody>\n",
       "</table>\n",
       "</div>"
      ],
      "text/plain": [
       "               streetname   id  object_name  chain  object_type  address  \\\n",
       "0           проспект мира  204          204    204          204      204   \n",
       "1       профсоюзная улица  182          182    182          182      182   \n",
       "2  ленинградский проспект  171          171    171          171      171   \n",
       "3  пресненская набережная  167          167    167          167      167   \n",
       "4        варшавское шоссе  164          164    164          164      164   \n",
       "5      ленинский проспект  147          147    147          147      147   \n",
       "6    проспект вернадского  132          132    132          132      132   \n",
       "7    кутузовский проспект  114          114    114          114      114   \n",
       "8         каширское шоссе  112          112    112          112      112   \n",
       "9    кировоградская улица  110          110    110          110      110   \n",
       "\n",
       "   number  \n",
       "0     204  \n",
       "1     182  \n",
       "2     171  \n",
       "3     167  \n",
       "4     164  \n",
       "5     147  \n",
       "6     132  \n",
       "7     114  \n",
       "8     112  \n",
       "9     110  "
      ]
     },
     "execution_count": 26,
     "metadata": {},
     "output_type": "execute_result"
    }
   ],
   "source": [
    "#найдем самые насыщенные общепитом улицы\n",
    "streets=rest.groupby('streetname').count().sort_values(by='object_type', ascending=False).head(10).reset_index()\n",
    "streets"
   ]
  },
  {
   "cell_type": "code",
   "execution_count": 27,
   "metadata": {
    "scrolled": false
   },
   "outputs": [
    {
     "data": {
      "image/png": "[encoded data removed]",
      "text/plain": [
       "<Figure size 432x288 with 1 Axes>"
      ]
     },
     "metadata": {
      "needs_background": "light"
     },
     "output_type": "display_data"
    }
   ],
   "source": [
    "ax=sns.barplot(x='object_type', y='streetname', data=streets)\n",
    "ax.set_xlabel('Колличество объектов')\n",
    "ax.set_ylabel('Название улицы')\n",
    "ax.set_title('Топ 10 улиц')\n",
    "plt.xticks(rotation=45)\n",
    "plt.show();"
   ]
  },
  {
   "cell_type": "markdown",
   "metadata": {},
   "source": [
    "Соотнесем названия улиц с районами Москвы-для этого загрузим таблицу"
   ]
  },
  {
   "cell_type": "code",
   "execution_count": 28,
   "metadata": {
    "scrolled": true
   },
   "outputs": [
    {
     "data": {
      "text/html": [
       "<div>\n",
       "<style scoped>\n",
       "    .dataframe tbody tr th:only-of-type {\n",
       "        vertical-align: middle;\n",
       "    }\n",
       "\n",
       "    .dataframe tbody tr th {\n",
       "        vertical-align: top;\n",
       "    }\n",
       "\n",
       "    .dataframe thead th {\n",
       "        text-align: right;\n",
       "    }\n",
       "</style>\n",
       "<table border=\"1\" class=\"dataframe\">\n",
       "  <thead>\n",
       "    <tr style=\"text-align: right;\">\n",
       "      <th></th>\n",
       "      <th>streetname</th>\n",
       "      <th>areaid</th>\n",
       "      <th>okrug</th>\n",
       "      <th>area</th>\n",
       "    </tr>\n",
       "  </thead>\n",
       "  <tbody>\n",
       "    <tr>\n",
       "      <td>0</td>\n",
       "      <td>Выставочный переулок</td>\n",
       "      <td>17</td>\n",
       "      <td>ЦАО</td>\n",
       "      <td>Пресненский район</td>\n",
       "    </tr>\n",
       "    <tr>\n",
       "      <td>1</td>\n",
       "      <td>улица Гашека</td>\n",
       "      <td>17</td>\n",
       "      <td>ЦАО</td>\n",
       "      <td>Пресненский район</td>\n",
       "    </tr>\n",
       "    <tr>\n",
       "      <td>2</td>\n",
       "      <td>Большая Никитская улица</td>\n",
       "      <td>17</td>\n",
       "      <td>ЦАО</td>\n",
       "      <td>Пресненский район</td>\n",
       "    </tr>\n",
       "    <tr>\n",
       "      <td>3</td>\n",
       "      <td>Глубокий переулок</td>\n",
       "      <td>17</td>\n",
       "      <td>ЦАО</td>\n",
       "      <td>Пресненский район</td>\n",
       "    </tr>\n",
       "    <tr>\n",
       "      <td>4</td>\n",
       "      <td>Большой Гнездниковский переулок</td>\n",
       "      <td>17</td>\n",
       "      <td>ЦАО</td>\n",
       "      <td>Пресненский район</td>\n",
       "    </tr>\n",
       "    <tr>\n",
       "      <td>...</td>\n",
       "      <td>...</td>\n",
       "      <td>...</td>\n",
       "      <td>...</td>\n",
       "      <td>...</td>\n",
       "    </tr>\n",
       "    <tr>\n",
       "      <td>4393</td>\n",
       "      <td>Вознесенский проезд</td>\n",
       "      <td>17</td>\n",
       "      <td>ЦАО</td>\n",
       "      <td>Пресненский район</td>\n",
       "    </tr>\n",
       "    <tr>\n",
       "      <td>4394</td>\n",
       "      <td>Волков переулок</td>\n",
       "      <td>17</td>\n",
       "      <td>ЦАО</td>\n",
       "      <td>Пресненский район</td>\n",
       "    </tr>\n",
       "    <tr>\n",
       "      <td>4395</td>\n",
       "      <td>Поварская улица</td>\n",
       "      <td>17</td>\n",
       "      <td>ЦАО</td>\n",
       "      <td>Пресненский район</td>\n",
       "    </tr>\n",
       "    <tr>\n",
       "      <td>4396</td>\n",
       "      <td>Кудринская площадь</td>\n",
       "      <td>17</td>\n",
       "      <td>ЦАО</td>\n",
       "      <td>Пресненский район</td>\n",
       "    </tr>\n",
       "    <tr>\n",
       "      <td>4397</td>\n",
       "      <td>Вспольный переулок</td>\n",
       "      <td>17</td>\n",
       "      <td>ЦАО</td>\n",
       "      <td>Пресненский район</td>\n",
       "    </tr>\n",
       "  </tbody>\n",
       "</table>\n",
       "<p>4398 rows × 4 columns</p>\n",
       "</div>"
      ],
      "text/plain": [
       "                           streetname  areaid okrug               area\n",
       "0                Выставочный переулок      17   ЦАО  Пресненский район\n",
       "1                        улица Гашека      17   ЦАО  Пресненский район\n",
       "2             Большая Никитская улица      17   ЦАО  Пресненский район\n",
       "3                   Глубокий переулок      17   ЦАО  Пресненский район\n",
       "4     Большой Гнездниковский переулок      17   ЦАО  Пресненский район\n",
       "...                               ...     ...   ...                ...\n",
       "4393              Вознесенский проезд      17   ЦАО  Пресненский район\n",
       "4394                  Волков переулок      17   ЦАО  Пресненский район\n",
       "4395                  Поварская улица      17   ЦАО  Пресненский район\n",
       "4396               Кудринская площадь      17   ЦАО  Пресненский район\n",
       "4397               Вспольный переулок      17   ЦАО  Пресненский район\n",
       "\n",
       "[4398 rows x 4 columns]"
      ]
     },
     "execution_count": 28,
     "metadata": {},
     "output_type": "execute_result"
    }
   ],
   "source": [
    "from io import BytesIO\n",
    "import requests\n",
    "spreadsheet_id = '1_uLf8P88feokziY-gDnc0OcFVkUQbzSKJAvL2FXQX5Q'\n",
    "file_name = 'https://docs.google.com/spreadsheets/d/{}/export?format=csv'.format(spreadsheet_id)\n",
    "r = requests.get(file_name)\n",
    "df = pd.read_csv(BytesIO(r.content))\n",
    "df"
   ]
  },
  {
   "cell_type": "code",
   "execution_count": 29,
   "metadata": {},
   "outputs": [],
   "source": [
    "df['streetname'] = df['streetname'] .str.lower()"
   ]
  },
  {
   "cell_type": "code",
   "execution_count": 30,
   "metadata": {},
   "outputs": [],
   "source": [
    "#добавим в нашу рабочую таблицу данные округа и района\n",
    "rest=rest.merge(df, on='streetname')"
   ]
  },
  {
   "cell_type": "code",
   "execution_count": 31,
   "metadata": {},
   "outputs": [
    {
     "data": {
      "text/html": [
       "<div>\n",
       "<style scoped>\n",
       "    .dataframe tbody tr th:only-of-type {\n",
       "        vertical-align: middle;\n",
       "    }\n",
       "\n",
       "    .dataframe tbody tr th {\n",
       "        vertical-align: top;\n",
       "    }\n",
       "\n",
       "    .dataframe thead th {\n",
       "        text-align: right;\n",
       "    }\n",
       "</style>\n",
       "<table border=\"1\" class=\"dataframe\">\n",
       "  <thead>\n",
       "    <tr style=\"text-align: right;\">\n",
       "      <th></th>\n",
       "      <th>id</th>\n",
       "      <th>object_name</th>\n",
       "      <th>chain</th>\n",
       "      <th>object_type</th>\n",
       "      <th>address</th>\n",
       "      <th>number</th>\n",
       "      <th>streetname</th>\n",
       "      <th>areaid</th>\n",
       "      <th>okrug</th>\n",
       "      <th>area</th>\n",
       "    </tr>\n",
       "  </thead>\n",
       "  <tbody>\n",
       "    <tr>\n",
       "      <td>0</td>\n",
       "      <td>151635</td>\n",
       "      <td>сметана</td>\n",
       "      <td>нет</td>\n",
       "      <td>кафе</td>\n",
       "      <td>город москва, улица егора абакумова, дом 9</td>\n",
       "      <td>48</td>\n",
       "      <td>улица егора абакумова</td>\n",
       "      <td>86</td>\n",
       "      <td>СВАО</td>\n",
       "      <td>Ярославский Район</td>\n",
       "    </tr>\n",
       "    <tr>\n",
       "      <td>1</td>\n",
       "      <td>193477</td>\n",
       "      <td>grill-house</td>\n",
       "      <td>нет</td>\n",
       "      <td>закусочная</td>\n",
       "      <td>город москва, улица егора абакумова, дом 14а</td>\n",
       "      <td>0</td>\n",
       "      <td>улица егора абакумова</td>\n",
       "      <td>86</td>\n",
       "      <td>СВАО</td>\n",
       "      <td>Ярославский Район</td>\n",
       "    </tr>\n",
       "    <tr>\n",
       "      <td>2</td>\n",
       "      <td>196756</td>\n",
       "      <td>пекарня</td>\n",
       "      <td>нет</td>\n",
       "      <td>кафетерий</td>\n",
       "      <td>город москва, улица егора абакумова, дом 14а</td>\n",
       "      <td>12</td>\n",
       "      <td>улица егора абакумова</td>\n",
       "      <td>86</td>\n",
       "      <td>СВАО</td>\n",
       "      <td>Ярославский Район</td>\n",
       "    </tr>\n",
       "    <tr>\n",
       "      <td>3</td>\n",
       "      <td>77874</td>\n",
       "      <td>родник</td>\n",
       "      <td>нет</td>\n",
       "      <td>кафе</td>\n",
       "      <td>город москва, улица талалихина, дом 2/1, корпус 1</td>\n",
       "      <td>35</td>\n",
       "      <td>улица талалихина</td>\n",
       "      <td>18</td>\n",
       "      <td>ЦАО</td>\n",
       "      <td>Таганский район</td>\n",
       "    </tr>\n",
       "    <tr>\n",
       "      <td>4</td>\n",
       "      <td>77874</td>\n",
       "      <td>родник</td>\n",
       "      <td>нет</td>\n",
       "      <td>кафе</td>\n",
       "      <td>город москва, улица талалихина, дом 2/1, корпус 1</td>\n",
       "      <td>35</td>\n",
       "      <td>улица талалихина</td>\n",
       "      <td>117</td>\n",
       "      <td>ЮВАО</td>\n",
       "      <td>Нижегородский район</td>\n",
       "    </tr>\n",
       "    <tr>\n",
       "      <td>5</td>\n",
       "      <td>77874</td>\n",
       "      <td>родник</td>\n",
       "      <td>нет</td>\n",
       "      <td>кафе</td>\n",
       "      <td>город москва, улица талалихина, дом 2/1, корпус 1</td>\n",
       "      <td>35</td>\n",
       "      <td>улица талалихина</td>\n",
       "      <td>133</td>\n",
       "      <td>ЮЗАО</td>\n",
       "      <td>Район Южное Бутово</td>\n",
       "    </tr>\n",
       "    <tr>\n",
       "      <td>6</td>\n",
       "      <td>83942</td>\n",
       "      <td>кафе даиси</td>\n",
       "      <td>нет</td>\n",
       "      <td>кафе</td>\n",
       "      <td>город москва, улица талалихина, дом 31а/2</td>\n",
       "      <td>78</td>\n",
       "      <td>улица талалихина</td>\n",
       "      <td>18</td>\n",
       "      <td>ЦАО</td>\n",
       "      <td>Таганский район</td>\n",
       "    </tr>\n",
       "    <tr>\n",
       "      <td>7</td>\n",
       "      <td>83942</td>\n",
       "      <td>кафе даиси</td>\n",
       "      <td>нет</td>\n",
       "      <td>кафе</td>\n",
       "      <td>город москва, улица талалихина, дом 31а/2</td>\n",
       "      <td>78</td>\n",
       "      <td>улица талалихина</td>\n",
       "      <td>117</td>\n",
       "      <td>ЮВАО</td>\n",
       "      <td>Нижегородский район</td>\n",
       "    </tr>\n",
       "    <tr>\n",
       "      <td>8</td>\n",
       "      <td>83942</td>\n",
       "      <td>кафе даиси</td>\n",
       "      <td>нет</td>\n",
       "      <td>кафе</td>\n",
       "      <td>город москва, улица талалихина, дом 31а/2</td>\n",
       "      <td>78</td>\n",
       "      <td>улица талалихина</td>\n",
       "      <td>133</td>\n",
       "      <td>ЮЗАО</td>\n",
       "      <td>Район Южное Бутово</td>\n",
       "    </tr>\n",
       "    <tr>\n",
       "      <td>9</td>\n",
       "      <td>24739</td>\n",
       "      <td>бар варвар</td>\n",
       "      <td>нет</td>\n",
       "      <td>кафе</td>\n",
       "      <td>город москва, улица талалихина, дом 35</td>\n",
       "      <td>45</td>\n",
       "      <td>улица талалихина</td>\n",
       "      <td>18</td>\n",
       "      <td>ЦАО</td>\n",
       "      <td>Таганский район</td>\n",
       "    </tr>\n",
       "  </tbody>\n",
       "</table>\n",
       "</div>"
      ],
      "text/plain": [
       "       id  object_name chain object_type  \\\n",
       "0  151635      сметана   нет        кафе   \n",
       "1  193477  grill-house   нет  закусочная   \n",
       "2  196756      пекарня   нет   кафетерий   \n",
       "3   77874       родник   нет        кафе   \n",
       "4   77874       родник   нет        кафе   \n",
       "5   77874       родник   нет        кафе   \n",
       "6   83942   кафе даиси   нет        кафе   \n",
       "7   83942   кафе даиси   нет        кафе   \n",
       "8   83942   кафе даиси   нет        кафе   \n",
       "9   24739   бар варвар   нет        кафе   \n",
       "\n",
       "                                             address  number  \\\n",
       "0         город москва, улица егора абакумова, дом 9      48   \n",
       "1       город москва, улица егора абакумова, дом 14а       0   \n",
       "2       город москва, улица егора абакумова, дом 14а      12   \n",
       "3  город москва, улица талалихина, дом 2/1, корпус 1      35   \n",
       "4  город москва, улица талалихина, дом 2/1, корпус 1      35   \n",
       "5  город москва, улица талалихина, дом 2/1, корпус 1      35   \n",
       "6          город москва, улица талалихина, дом 31а/2      78   \n",
       "7          город москва, улица талалихина, дом 31а/2      78   \n",
       "8          город москва, улица талалихина, дом 31а/2      78   \n",
       "9             город москва, улица талалихина, дом 35      45   \n",
       "\n",
       "              streetname  areaid okrug                 area  \n",
       "0  улица егора абакумова      86  СВАО    Ярославский Район  \n",
       "1  улица егора абакумова      86  СВАО    Ярославский Район  \n",
       "2  улица егора абакумова      86  СВАО    Ярославский Район  \n",
       "3       улица талалихина      18   ЦАО      Таганский район  \n",
       "4       улица талалихина     117  ЮВАО  Нижегородский район  \n",
       "5       улица талалихина     133  ЮЗАО   Район Южное Бутово  \n",
       "6       улица талалихина      18   ЦАО      Таганский район  \n",
       "7       улица талалихина     117  ЮВАО  Нижегородский район  \n",
       "8       улица талалихина     133  ЮЗАО   Район Южное Бутово  \n",
       "9       улица талалихина      18   ЦАО      Таганский район  "
      ]
     },
     "execution_count": 31,
     "metadata": {},
     "output_type": "execute_result"
    }
   ],
   "source": [
    "rest.head(10)"
   ]
  },
  {
   "cell_type": "code",
   "execution_count": 32,
   "metadata": {},
   "outputs": [],
   "source": [
    "# Найдем какому району соответствуют топ-10 улиц\n",
    "streets=rest[['area']].join(streets)"
   ]
  },
  {
   "cell_type": "code",
   "execution_count": 33,
   "metadata": {},
   "outputs": [
    {
     "data": {
      "text/html": [
       "<div>\n",
       "<style scoped>\n",
       "    .dataframe tbody tr th:only-of-type {\n",
       "        vertical-align: middle;\n",
       "    }\n",
       "\n",
       "    .dataframe tbody tr th {\n",
       "        vertical-align: top;\n",
       "    }\n",
       "\n",
       "    .dataframe thead th {\n",
       "        text-align: right;\n",
       "    }\n",
       "</style>\n",
       "<table border=\"1\" class=\"dataframe\">\n",
       "  <thead>\n",
       "    <tr style=\"text-align: right;\">\n",
       "      <th></th>\n",
       "      <th>area</th>\n",
       "      <th>streetname</th>\n",
       "    </tr>\n",
       "  </thead>\n",
       "  <tbody>\n",
       "    <tr>\n",
       "      <td>0</td>\n",
       "      <td>Ярославский Район</td>\n",
       "      <td>проспект мира</td>\n",
       "    </tr>\n",
       "    <tr>\n",
       "      <td>1</td>\n",
       "      <td>Ярославский Район</td>\n",
       "      <td>профсоюзная улица</td>\n",
       "    </tr>\n",
       "    <tr>\n",
       "      <td>2</td>\n",
       "      <td>Ярославский Район</td>\n",
       "      <td>ленинградский проспект</td>\n",
       "    </tr>\n",
       "    <tr>\n",
       "      <td>3</td>\n",
       "      <td>Таганский район</td>\n",
       "      <td>пресненская набережная</td>\n",
       "    </tr>\n",
       "    <tr>\n",
       "      <td>4</td>\n",
       "      <td>Нижегородский район</td>\n",
       "      <td>варшавское шоссе</td>\n",
       "    </tr>\n",
       "    <tr>\n",
       "      <td>5</td>\n",
       "      <td>Район Южное Бутово</td>\n",
       "      <td>ленинский проспект</td>\n",
       "    </tr>\n",
       "    <tr>\n",
       "      <td>6</td>\n",
       "      <td>Таганский район</td>\n",
       "      <td>проспект вернадского</td>\n",
       "    </tr>\n",
       "    <tr>\n",
       "      <td>7</td>\n",
       "      <td>Нижегородский район</td>\n",
       "      <td>кутузовский проспект</td>\n",
       "    </tr>\n",
       "    <tr>\n",
       "      <td>8</td>\n",
       "      <td>Район Южное Бутово</td>\n",
       "      <td>каширское шоссе</td>\n",
       "    </tr>\n",
       "    <tr>\n",
       "      <td>9</td>\n",
       "      <td>Таганский район</td>\n",
       "      <td>кировоградская улица</td>\n",
       "    </tr>\n",
       "  </tbody>\n",
       "</table>\n",
       "</div>"
      ],
      "text/plain": [
       "                  area              streetname\n",
       "0    Ярославский Район           проспект мира\n",
       "1    Ярославский Район       профсоюзная улица\n",
       "2    Ярославский Район  ленинградский проспект\n",
       "3      Таганский район  пресненская набережная\n",
       "4  Нижегородский район        варшавское шоссе\n",
       "5   Район Южное Бутово      ленинский проспект\n",
       "6      Таганский район    проспект вернадского\n",
       "7  Нижегородский район    кутузовский проспект\n",
       "8   Район Южное Бутово         каширское шоссе\n",
       "9      Таганский район    кировоградская улица"
      ]
     },
     "execution_count": 33,
     "metadata": {},
     "output_type": "execute_result"
    }
   ],
   "source": [
    "streets.drop(streets.iloc[:, 2:8], inplace = True, axis = 1)\n",
    "streets.head(10)"
   ]
  },
  {
   "cell_type": "markdown",
   "metadata": {},
   "source": [
    "Исходя из приведенных данных больше всего заведений в Ярославском районе, далее следует Таганский район, Нижегородский и Южное Бутово"
   ]
  },
  {
   "cell_type": "markdown",
   "metadata": {},
   "source": [
    "#### Найдем число улиц с одним объектом общественного питания, в каких районах Москвы находятся эти улицы?"
   ]
  },
  {
   "cell_type": "code",
   "execution_count": 34,
   "metadata": {},
   "outputs": [],
   "source": [
    "#сгруппировав по улицам-найдем где заведений не более 1\n",
    "rest_count1=rest.groupby('streetname').count()\n",
    "len(rest_count1.query('id == 1'))\n",
    "rest_count1=rest_count1.query('id == 1').reset_index()"
   ]
  },
  {
   "cell_type": "code",
   "execution_count": 35,
   "metadata": {},
   "outputs": [
    {
     "data": {
      "text/html": [
       "<div>\n",
       "<style scoped>\n",
       "    .dataframe tbody tr th:only-of-type {\n",
       "        vertical-align: middle;\n",
       "    }\n",
       "\n",
       "    .dataframe tbody tr th {\n",
       "        vertical-align: top;\n",
       "    }\n",
       "\n",
       "    .dataframe thead th {\n",
       "        text-align: right;\n",
       "    }\n",
       "</style>\n",
       "<table border=\"1\" class=\"dataframe\">\n",
       "  <thead>\n",
       "    <tr style=\"text-align: right;\">\n",
       "      <th></th>\n",
       "      <th>id</th>\n",
       "      <th>object_name</th>\n",
       "      <th>chain</th>\n",
       "      <th>object_type</th>\n",
       "      <th>address</th>\n",
       "      <th>number</th>\n",
       "      <th>streetname</th>\n",
       "      <th>areaid</th>\n",
       "      <th>okrug</th>\n",
       "      <th>area</th>\n",
       "    </tr>\n",
       "  </thead>\n",
       "  <tbody>\n",
       "    <tr>\n",
       "      <td>161</td>\n",
       "      <td>153644</td>\n",
       "      <td>американская лаборатория десертов</td>\n",
       "      <td>нет</td>\n",
       "      <td>кафе</td>\n",
       "      <td>город москва, филипповский переулок, дом 15/5</td>\n",
       "      <td>20</td>\n",
       "      <td>филипповский переулок</td>\n",
       "      <td>12</td>\n",
       "      <td>ЦАО</td>\n",
       "      <td>Район Арбат</td>\n",
       "    </tr>\n",
       "    <tr>\n",
       "      <td>937</td>\n",
       "      <td>21214</td>\n",
       "      <td>столовая</td>\n",
       "      <td>нет</td>\n",
       "      <td>столовая</td>\n",
       "      <td>город москва, бабаевская улица, дом 3</td>\n",
       "      <td>90</td>\n",
       "      <td>бабаевская улица</td>\n",
       "      <td>26</td>\n",
       "      <td>ВАО</td>\n",
       "      <td>Район Сокольники</td>\n",
       "    </tr>\n",
       "    <tr>\n",
       "      <td>1030</td>\n",
       "      <td>22139</td>\n",
       "      <td>хуанхэ</td>\n",
       "      <td>нет</td>\n",
       "      <td>ресторан</td>\n",
       "      <td>город москва, 1-й балтийский переулок, дом 3/25</td>\n",
       "      <td>60</td>\n",
       "      <td>1-й балтийский переулок</td>\n",
       "      <td>54</td>\n",
       "      <td>САО</td>\n",
       "      <td>Район Аэропорт</td>\n",
       "    </tr>\n",
       "    <tr>\n",
       "      <td>1124</td>\n",
       "      <td>25833</td>\n",
       "      <td>азербайджан</td>\n",
       "      <td>нет</td>\n",
       "      <td>ресторан</td>\n",
       "      <td>город москва, улица демьяна бедного, дом 4</td>\n",
       "      <td>180</td>\n",
       "      <td>улица демьяна бедного</td>\n",
       "      <td>92</td>\n",
       "      <td>СЗАО</td>\n",
       "      <td>Район Хорошево-Мневники</td>\n",
       "    </tr>\n",
       "    <tr>\n",
       "      <td>1467</td>\n",
       "      <td>150881</td>\n",
       "      <td>вгик</td>\n",
       "      <td>нет</td>\n",
       "      <td>столовая</td>\n",
       "      <td>город москва, будайская улица, дом 3</td>\n",
       "      <td>45</td>\n",
       "      <td>будайская улица</td>\n",
       "      <td>81</td>\n",
       "      <td>СВАО</td>\n",
       "      <td>Район Ростокино</td>\n",
       "    </tr>\n",
       "    <tr>\n",
       "      <td>...</td>\n",
       "      <td>...</td>\n",
       "      <td>...</td>\n",
       "      <td>...</td>\n",
       "      <td>...</td>\n",
       "      <td>...</td>\n",
       "      <td>...</td>\n",
       "      <td>...</td>\n",
       "      <td>...</td>\n",
       "      <td>...</td>\n",
       "      <td>...</td>\n",
       "    </tr>\n",
       "    <tr>\n",
       "      <td>29253</td>\n",
       "      <td>213535</td>\n",
       "      <td>шаверма</td>\n",
       "      <td>нет</td>\n",
       "      <td>фастфуд</td>\n",
       "      <td>город москва, 1-й силикатный проезд, дом 13</td>\n",
       "      <td>0</td>\n",
       "      <td>1-й силикатный проезд</td>\n",
       "      <td>92</td>\n",
       "      <td>СЗАО</td>\n",
       "      <td>Район Хорошево-Мневники</td>\n",
       "    </tr>\n",
       "    <tr>\n",
       "      <td>29254</td>\n",
       "      <td>208805</td>\n",
       "      <td>кафе</td>\n",
       "      <td>нет</td>\n",
       "      <td>кафе</td>\n",
       "      <td>город москва, 3-й угрешский проезд, дом 8, стр...</td>\n",
       "      <td>15</td>\n",
       "      <td>3-й угрешский проезд</td>\n",
       "      <td>118</td>\n",
       "      <td>ЮВАО</td>\n",
       "      <td>Район Печатники</td>\n",
       "    </tr>\n",
       "    <tr>\n",
       "      <td>29255</td>\n",
       "      <td>211368</td>\n",
       "      <td>пацио пицца</td>\n",
       "      <td>нет</td>\n",
       "      <td>кафе</td>\n",
       "      <td>город москва, улица линии октябрьской железной...</td>\n",
       "      <td>20</td>\n",
       "      <td>улица линии октябрьской железной дороги</td>\n",
       "      <td>67</td>\n",
       "      <td>САО</td>\n",
       "      <td>Тимирязевский Район</td>\n",
       "    </tr>\n",
       "    <tr>\n",
       "      <td>29260</td>\n",
       "      <td>214324</td>\n",
       "      <td>кадаши ( закрытый)</td>\n",
       "      <td>нет</td>\n",
       "      <td>ресторан</td>\n",
       "      <td>город москва, 2-й кадашёвский переулок, дом 16...</td>\n",
       "      <td>15</td>\n",
       "      <td>2-й кадашёвский переулок</td>\n",
       "      <td>21</td>\n",
       "      <td>ЦАО</td>\n",
       "      <td>Район Якиманка</td>\n",
       "    </tr>\n",
       "    <tr>\n",
       "      <td>29261</td>\n",
       "      <td>223171</td>\n",
       "      <td>кондитерская «пряник.рогалик»</td>\n",
       "      <td>нет</td>\n",
       "      <td>кафе</td>\n",
       "      <td>город москва, город троицк, пионерская улица, ...</td>\n",
       "      <td>20</td>\n",
       "      <td>пионерская улица</td>\n",
       "      <td>43</td>\n",
       "      <td>ЗАО</td>\n",
       "      <td>Район Внуково</td>\n",
       "    </tr>\n",
       "  </tbody>\n",
       "</table>\n",
       "<p>475 rows × 10 columns</p>\n",
       "</div>"
      ],
      "text/plain": [
       "           id                        object_name chain object_type  \\\n",
       "161    153644  американская лаборатория десертов   нет        кафе   \n",
       "937     21214                           столовая   нет    столовая   \n",
       "1030    22139                             хуанхэ   нет    ресторан   \n",
       "1124    25833                        азербайджан   нет    ресторан   \n",
       "1467   150881                               вгик   нет    столовая   \n",
       "...       ...                                ...   ...         ...   \n",
       "29253  213535                            шаверма   нет     фастфуд   \n",
       "29254  208805                               кафе   нет        кафе   \n",
       "29255  211368                        пацио пицца   нет        кафе   \n",
       "29260  214324                 кадаши ( закрытый)   нет    ресторан   \n",
       "29261  223171      кондитерская «пряник.рогалик»   нет        кафе   \n",
       "\n",
       "                                                 address  number  \\\n",
       "161        город москва, филипповский переулок, дом 15/5      20   \n",
       "937                город москва, бабаевская улица, дом 3      90   \n",
       "1030     город москва, 1-й балтийский переулок, дом 3/25      60   \n",
       "1124          город москва, улица демьяна бедного, дом 4     180   \n",
       "1467                город москва, будайская улица, дом 3      45   \n",
       "...                                                  ...     ...   \n",
       "29253        город москва, 1-й силикатный проезд, дом 13       0   \n",
       "29254  город москва, 3-й угрешский проезд, дом 8, стр...      15   \n",
       "29255  город москва, улица линии октябрьской железной...      20   \n",
       "29260  город москва, 2-й кадашёвский переулок, дом 16...      15   \n",
       "29261  город москва, город троицк, пионерская улица, ...      20   \n",
       "\n",
       "                                    streetname  areaid okrug  \\\n",
       "161                      филипповский переулок      12   ЦАО   \n",
       "937                           бабаевская улица      26   ВАО   \n",
       "1030                   1-й балтийский переулок      54   САО   \n",
       "1124                     улица демьяна бедного      92  СЗАО   \n",
       "1467                           будайская улица      81  СВАО   \n",
       "...                                        ...     ...   ...   \n",
       "29253                    1-й силикатный проезд      92  СЗАО   \n",
       "29254                     3-й угрешский проезд     118  ЮВАО   \n",
       "29255  улица линии октябрьской железной дороги      67   САО   \n",
       "29260                 2-й кадашёвский переулок      21   ЦАО   \n",
       "29261                         пионерская улица      43   ЗАО   \n",
       "\n",
       "                          area  \n",
       "161                Район Арбат  \n",
       "937           Район Сокольники  \n",
       "1030            Район Аэропорт  \n",
       "1124   Район Хорошево-Мневники  \n",
       "1467           Район Ростокино  \n",
       "...                        ...  \n",
       "29253  Район Хорошево-Мневники  \n",
       "29254          Район Печатники  \n",
       "29255      Тимирязевский Район  \n",
       "29260           Район Якиманка  \n",
       "29261            Район Внуково  \n",
       "\n",
       "[475 rows x 10 columns]"
      ]
     },
     "execution_count": 35,
     "metadata": {},
     "output_type": "execute_result"
    }
   ],
   "source": [
    "lostr=list(rest_count1['streetname'])\n",
    "lostr=rest[rest['streetname'].isin(lostr)]\n",
    "lostr"
   ]
  },
  {
   "cell_type": "code",
   "execution_count": 36,
   "metadata": {},
   "outputs": [
    {
     "data": {
      "text/html": [
       "<div>\n",
       "<style scoped>\n",
       "    .dataframe tbody tr th:only-of-type {\n",
       "        vertical-align: middle;\n",
       "    }\n",
       "\n",
       "    .dataframe tbody tr th {\n",
       "        vertical-align: top;\n",
       "    }\n",
       "\n",
       "    .dataframe thead th {\n",
       "        text-align: right;\n",
       "    }\n",
       "</style>\n",
       "<table border=\"1\" class=\"dataframe\">\n",
       "  <thead>\n",
       "    <tr style=\"text-align: right;\">\n",
       "      <th></th>\n",
       "      <th>id</th>\n",
       "      <th>object_name</th>\n",
       "      <th>chain</th>\n",
       "      <th>object_type</th>\n",
       "      <th>address</th>\n",
       "      <th>number</th>\n",
       "      <th>streetname</th>\n",
       "      <th>areaid</th>\n",
       "      <th>okrug</th>\n",
       "    </tr>\n",
       "    <tr>\n",
       "      <th>area</th>\n",
       "      <th></th>\n",
       "      <th></th>\n",
       "      <th></th>\n",
       "      <th></th>\n",
       "      <th></th>\n",
       "      <th></th>\n",
       "      <th></th>\n",
       "      <th></th>\n",
       "      <th></th>\n",
       "    </tr>\n",
       "  </thead>\n",
       "  <tbody>\n",
       "    <tr>\n",
       "      <td>Район Лефортово</td>\n",
       "      <td>11</td>\n",
       "      <td>11</td>\n",
       "      <td>11</td>\n",
       "      <td>11</td>\n",
       "      <td>11</td>\n",
       "      <td>11</td>\n",
       "      <td>11</td>\n",
       "      <td>11</td>\n",
       "      <td>11</td>\n",
       "    </tr>\n",
       "    <tr>\n",
       "      <td>Район Сокольники</td>\n",
       "      <td>11</td>\n",
       "      <td>11</td>\n",
       "      <td>11</td>\n",
       "      <td>11</td>\n",
       "      <td>11</td>\n",
       "      <td>11</td>\n",
       "      <td>11</td>\n",
       "      <td>11</td>\n",
       "      <td>11</td>\n",
       "    </tr>\n",
       "    <tr>\n",
       "      <td>Район Замоскворечье</td>\n",
       "      <td>12</td>\n",
       "      <td>12</td>\n",
       "      <td>12</td>\n",
       "      <td>12</td>\n",
       "      <td>12</td>\n",
       "      <td>12</td>\n",
       "      <td>12</td>\n",
       "      <td>12</td>\n",
       "      <td>12</td>\n",
       "    </tr>\n",
       "    <tr>\n",
       "      <td>Мещанский район</td>\n",
       "      <td>14</td>\n",
       "      <td>14</td>\n",
       "      <td>14</td>\n",
       "      <td>14</td>\n",
       "      <td>14</td>\n",
       "      <td>14</td>\n",
       "      <td>14</td>\n",
       "      <td>14</td>\n",
       "      <td>14</td>\n",
       "    </tr>\n",
       "    <tr>\n",
       "      <td>Пресненский район</td>\n",
       "      <td>15</td>\n",
       "      <td>15</td>\n",
       "      <td>15</td>\n",
       "      <td>15</td>\n",
       "      <td>15</td>\n",
       "      <td>15</td>\n",
       "      <td>15</td>\n",
       "      <td>15</td>\n",
       "      <td>15</td>\n",
       "    </tr>\n",
       "    <tr>\n",
       "      <td>Район Марьина роща</td>\n",
       "      <td>16</td>\n",
       "      <td>16</td>\n",
       "      <td>16</td>\n",
       "      <td>16</td>\n",
       "      <td>16</td>\n",
       "      <td>16</td>\n",
       "      <td>16</td>\n",
       "      <td>16</td>\n",
       "      <td>16</td>\n",
       "    </tr>\n",
       "    <tr>\n",
       "      <td>Тверской район</td>\n",
       "      <td>19</td>\n",
       "      <td>19</td>\n",
       "      <td>19</td>\n",
       "      <td>19</td>\n",
       "      <td>19</td>\n",
       "      <td>19</td>\n",
       "      <td>19</td>\n",
       "      <td>19</td>\n",
       "      <td>19</td>\n",
       "    </tr>\n",
       "    <tr>\n",
       "      <td>Район Хамовники</td>\n",
       "      <td>22</td>\n",
       "      <td>22</td>\n",
       "      <td>22</td>\n",
       "      <td>22</td>\n",
       "      <td>22</td>\n",
       "      <td>22</td>\n",
       "      <td>22</td>\n",
       "      <td>22</td>\n",
       "      <td>22</td>\n",
       "    </tr>\n",
       "    <tr>\n",
       "      <td>Басманный район</td>\n",
       "      <td>23</td>\n",
       "      <td>23</td>\n",
       "      <td>23</td>\n",
       "      <td>23</td>\n",
       "      <td>23</td>\n",
       "      <td>23</td>\n",
       "      <td>23</td>\n",
       "      <td>23</td>\n",
       "      <td>23</td>\n",
       "    </tr>\n",
       "    <tr>\n",
       "      <td>Таганский район</td>\n",
       "      <td>25</td>\n",
       "      <td>25</td>\n",
       "      <td>25</td>\n",
       "      <td>25</td>\n",
       "      <td>25</td>\n",
       "      <td>25</td>\n",
       "      <td>25</td>\n",
       "      <td>25</td>\n",
       "      <td>25</td>\n",
       "    </tr>\n",
       "  </tbody>\n",
       "</table>\n",
       "</div>"
      ],
      "text/plain": [
       "                     id  object_name  chain  object_type  address  number  \\\n",
       "area                                                                        \n",
       "Район Лефортово      11           11     11           11       11      11   \n",
       "Район Сокольники     11           11     11           11       11      11   \n",
       "Район Замоскворечье  12           12     12           12       12      12   \n",
       "Мещанский район      14           14     14           14       14      14   \n",
       "Пресненский район    15           15     15           15       15      15   \n",
       "Район Марьина роща   16           16     16           16       16      16   \n",
       "Тверской район       19           19     19           19       19      19   \n",
       "Район Хамовники      22           22     22           22       22      22   \n",
       "Басманный район      23           23     23           23       23      23   \n",
       "Таганский район      25           25     25           25       25      25   \n",
       "\n",
       "                     streetname  areaid  okrug  \n",
       "area                                            \n",
       "Район Лефортово              11      11     11  \n",
       "Район Сокольники             11      11     11  \n",
       "Район Замоскворечье          12      12     12  \n",
       "Мещанский район              14      14     14  \n",
       "Пресненский район            15      15     15  \n",
       "Район Марьина роща           16      16     16  \n",
       "Тверской район               19      19     19  \n",
       "Район Хамовники              22      22     22  \n",
       "Басманный район              23      23     23  \n",
       "Таганский район              25      25     25  "
      ]
     },
     "execution_count": 36,
     "metadata": {},
     "output_type": "execute_result"
    }
   ],
   "source": [
    "lostr.groupby('area').count().sort_values('id').tail(10)"
   ]
  },
  {
   "cell_type": "markdown",
   "metadata": {},
   "source": [
    "Наибольшее количество улиц с одним заведением располагается в районе Лефортово, Сокольники и Замоскворечье, что свидетельствует о небольшой насыщенности клиентской базы в данной локации."
   ]
  },
  {
   "cell_type": "markdown",
   "metadata": {},
   "source": [
    "#### Посмотрим на распределение количества посадочных мест для улиц с большим количеством объектов общественного питания."
   ]
  },
  {
   "cell_type": "code",
   "execution_count": 37,
   "metadata": {},
   "outputs": [
    {
     "data": {
      "image/png": "[encoded data removed]",
      "text/plain": [
       "<Figure size 432x288 with 1 Axes>"
      ]
     },
     "metadata": {
      "needs_background": "light"
     },
     "output_type": "display_data"
    }
   ],
   "source": [
    "#рассмотрим на графике колличество посадочных мест на насыщенных улицах\n",
    "streets_10=list(streets['streetname'])\n",
    "data_streets=rest[rest['streetname'].isin(streets_10)]\n",
    "ax=sns.boxplot(x=data_streets['number'])\n",
    "ax.set_xlim(-10, 200)\n",
    "ax.set_title('Среднее количество посадочных мест для улиц с большим количеством объектов')\n",
    "plt.show();"
   ]
  },
  {
   "cell_type": "code",
   "execution_count": 38,
   "metadata": {
    "scrolled": false
   },
   "outputs": [
    {
     "data": {
      "image/png": "[encoded data removed]",
      "text/plain": [
       "<Figure size 432x288 with 1 Axes>"
      ]
     },
     "metadata": {
      "needs_background": "light"
     },
     "output_type": "display_data"
    }
   ],
   "source": [
    "ax=sns.boxplot(x=\"streetname\", y=\"number\", data=data_streets, orient='v')\n",
    "plt.xticks(rotation=90)\n",
    "ax.set_ylim(-10, 300)\n",
    "ax.set_title(' распределение количества посадочных мест для улиц с большим количеством объектов')\n",
    "plt.show;"
   ]
  },
  {
   "cell_type": "code",
   "execution_count": 39,
   "metadata": {},
   "outputs": [],
   "source": [
    "def make_box_by_category(value=None, street=None, data=None, sort=False, sort_by_column=None, title=None):\n",
    "    #сортировка по медиане\n",
    "    tmp = \\\n",
    "        data_streets\\\n",
    "        .groupby(street, as_index=False)\\\n",
    "        .agg({value:'median'})\\\n",
    "        .sort_values(by=sort_by_column, ascending=sort).reset_index()\n",
    "\n",
    "    plt.figure(figsize=(12,6))\n",
    "    sns.boxplot(x=street, y= value, data=data_streets, showfliers=False, order=tmp[street].to_list(), \n",
    "                showmeans=True, meanprops={\"marker\":\"s\",\"markerfacecolor\":\"white\", \"markeredgecolor\":\"blue\"})\n",
    "    plt.title(title)\n",
    "    plt.xticks(rotation=90)\n",
    "    plt.grid(True)\n",
    "    plt.show()"
   ]
  },
  {
   "cell_type": "code",
   "execution_count": 40,
   "metadata": {},
   "outputs": [
    {
     "data": {
      "image/png": "[encoded data removed]",
      "text/plain": [
       "<Figure size 864x432 with 1 Axes>"
      ]
     },
     "metadata": {
      "needs_background": "light"
     },
     "output_type": "display_data"
    }
   ],
   "source": [
    "make_box_by_category(value='number', street='streetname', data=data_streets, sort=False, sort_by_column='number', \\\n",
    "                     title='распределение количества посадочных мест для улиц с большим количеством объектов')"
   ]
  },
  {
   "cell_type": "markdown",
   "metadata": {},
   "source": [
    "Закономерность одна- места популярные-квадратные метры дорогие- посадочных мест мало"
   ]
  },
  {
   "cell_type": "markdown",
   "metadata": {},
   "source": [
    "Наличие большого количества посадочных мест не является показателем популярности места общественного питания. В популярных местах локации малое количество посадочных мест не свидетельтсвует о непроходимости заведения. Скопление заведений в популярных местах позволяет владельцам заведений без ущерба посещаемости оптимизировать посадочные места."
   ]
  },
  {
   "cell_type": "markdown",
   "metadata": {},
   "source": [
    "# Общий вывод"
   ]
  },
  {
   "cell_type": "markdown",
   "metadata": {},
   "source": [
    "Для открытия заведения общественного питания очень важно придерживаться имеющихся высокорентабельных мест дислокации. Поэтому напрашивается рекомендация использовать ноу-хау в виде обслуживания роботами в уже сформировавшихся районнах активности общепита. Учитывая,что популярность мест общепита не зависит от количества посадочных мест, то при выборе формата заведения стоит исключить массовые сферы в виде кафе и столовых.Остальные виды заведений представлены значительно меньшим количеством, что свидетельствует о превалируещем значении дислакации перед оригинальностью препеоднесения услуги."
   ]
  },
  {
   "cell_type": "markdown",
   "metadata": {},
   "source": [
    "## Презентация"
   ]
  },
  {
   "cell_type": "markdown",
   "metadata": {},
   "source": [
    "https://docs.google.com/presentation/d/1ZjwK8wXYQ7WxJXrOrsbf8wgUWIVWy8LCsBGF0BVRrEU/edit?usp=sharing"
   ]
  },
  {
   "cell_type": "code",
   "execution_count": null,
   "metadata": {},
   "outputs": [],
   "source": []
  }
 ],
 "metadata": {
  "kernelspec": {
   "display_name": "Python 3",
   "language": "python",
   "name": "python3"
  },
  "language_info": {
   "codemirror_mode": {
    "name": "ipython",
    "version": 3
   },
   "file_extension": ".py",
   "mimetype": "text/x-python",
   "name": "python",
   "nbconvert_exporter": "python",
   "pygments_lexer": "ipython3",
   "version": "3.7.6"
  }
 },
 "nbformat": 4,
 "nbformat_minor": 2
}
